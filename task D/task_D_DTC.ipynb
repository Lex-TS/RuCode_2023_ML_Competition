{
  "cells": [
    {
      "cell_type": "markdown",
      "source": [
        "# О задаче"
      ],
      "metadata": {
        "id": "7S1Af_6971KT"
      }
    },
    {
      "cell_type": "markdown",
      "source": [
        "Решение задачи D чемпионата RuCode осени 2023 направления ИИ моей команды (Мой гитхаб: https://github.com/Lex-TS, сокомандника: https://github.com/Lebedkina)"
      ],
      "metadata": {
        "id": "k4auq4Jm9e0W"
      }
    },
    {
      "cell_type": "markdown",
      "source": [
        "Для решения задачи использовалась модель DecisionTreeClassifier, перед обучением данные были предобработаны, слова натурального языка векторизованы и представлены в виде наборы чисел. В конце, результаты прогнозирования модели на тестовой выборке записываются в csv файл."
      ],
      "metadata": {
        "id": "NFFiY7u1AgBc"
      }
    },
    {
      "cell_type": "markdown",
      "source": [
        "По этой задаче мы получили 76.16 баллов из 100 возможных на открытом датасете, на закрытом 76.2 из 100. По закрытому датасету для задачи D заняли 5 место из 7, 1 место по этой задаче в дивизионе Начинающие заняла команда с 97.79 баллами"
      ],
      "metadata": {
        "id": "6DcPfK_OCvsC"
      }
    },
    {
      "cell_type": "markdown",
      "source": [
        "В этой задаче нужно было преобразовать слова в понятный компьютеру вид, векторизировать их. Однако учитывая то, что обычные методы векторизации в NLP учитывает контекст слов, их повторяемость в предложениях, абзацах и пр., а у нас даны лишь одиночные слова с ударениями, мы не могли найти подходящий метод для векторизации. Нам не хватило опыта и знаний для применения оптимального алгоритма векторизации, однако мы решили эту проблему по своему."
      ],
      "metadata": {
        "id": "1iEbarfJEs6M"
      }
    },
    {
      "cell_type": "markdown",
      "source": [
        "Мы решили векторизировать буквы в слове, сохраняя их порядок. И, используя дерево решений, решать задачу многоклассовой классификации. А после предсказаний интерпретировать результаты, переведя найденные классы (позиции ударений в слове) в слова с ударениями."
      ],
      "metadata": {
        "id": "7qq6FG3M7AcF"
      }
    },
    {
      "cell_type": "markdown",
      "source": [
        "В этом ноутбуке представлено решение, которое мы успели сделать до конца проведения соревнования, оно не улучшено для более точной работы модели, и здесь пока что не исправлены возможные ошибки с максимальной длиной слов и нереалистичной расстановкой ударений в некоторых словах."
      ],
      "metadata": {
        "id": "IAflYrc-58S9"
      }
    },
    {
      "cell_type": "markdown",
      "source": [
        "## Дополнительный комментарий"
      ],
      "metadata": {
        "id": "2rL9Tdxo868x"
      }
    },
    {
      "cell_type": "markdown",
      "source": [
        "Мы пробовали векторизировать слова при помощи: Word2Vec, fastText, мешком слов, HachVectorizer, one-hot, MultiLabelBinarizer, LabelBinarizer. Однако, эти способы показывали плохой результат метрики. Лучше всего показал себя тот вариант, который мы использовали в итоговом решении: закодировать каждую букву в слове, представив слово как вектор чисел, сохраняя положение каждой буквы.\n",
        "\n",
        "Для классификации пробовали применять модели: XGBClassifier, Gaussian NaiveBayes, алгоритм поиска ближайших соседей, логическую регрессию. Но остановились на дереве решений, так как эта модель обучалась крайне быстро и выдавала лучший результат метрики, по сравнению с другими моделями."
      ],
      "metadata": {
        "id": "UIMX5Aok89hP"
      }
    },
    {
      "cell_type": "markdown",
      "metadata": {
        "id": "2nqxFEmUEJtN"
      },
      "source": [
        "# Загрузка библиотек и данных"
      ]
    },
    {
      "cell_type": "code",
      "execution_count": 5,
      "metadata": {
        "id": "29_zjsOiEVbw"
      },
      "outputs": [],
      "source": [
        "import pandas as pd\n",
        "import numpy as np\n",
        "import nltk\n",
        "import matplotlib.pyplot as plt\n",
        "%matplotlib inline\n",
        "from nltk import tokenize"
      ]
    },
    {
      "cell_type": "code",
      "execution_count": null,
      "metadata": {
        "colab": {
          "base_uri": "https://localhost:8080/"
        },
        "id": "aJt8Fn8x-E7F",
        "outputId": "e5eed0fa-1264-4758-e0db-d2519d3ca43f"
      },
      "outputs": [
        {
          "output_type": "stream",
          "name": "stdout",
          "text": [
            "Mounted at /content/gdrive/\n"
          ]
        }
      ],
      "source": [
        "# Загрузка данных из своего гугл диска\n",
        "# from google.colab import drive\n",
        "# drive.mount('/content/gdrive/')\n",
        "# data = pd.read_csv('/content/gdrive/My Drive/Colab Notebooks/dataset_task_D/train_stresses_labels.txt', header=None, names=['Ударения'])"
      ]
    },
    {
      "cell_type": "code",
      "source": [
        "#Если загружать данные локально:\n",
        "data = pd.read_csv('train_stresses_labels.txt', header=None, names=['Ударения'])"
      ],
      "metadata": {
        "id": "mUyDwytLNgFi"
      },
      "execution_count": 2,
      "outputs": []
    },
    {
      "cell_type": "code",
      "execution_count": null,
      "metadata": {
        "id": "WKwakl_-S1oS"
      },
      "outputs": [],
      "source": [
        "# Загрузка данных из своего гугл диска\n",
        "# test = pd.read_csv('/content/gdrive/My Drive/Colab Notebooks/dataset_task_D/public_test_stresses.txt', header=None, names=['Слова'])"
      ]
    },
    {
      "cell_type": "code",
      "source": [
        "test = pd.read_csv('public_test_stresses.txt', header=None, names=['Слова'])"
      ],
      "metadata": {
        "id": "RA588Q1GOh3K"
      },
      "execution_count": 3,
      "outputs": []
    },
    {
      "cell_type": "code",
      "execution_count": 4,
      "metadata": {
        "id": "u95CxoIWPaJu"
      },
      "outputs": [],
      "source": [
        "rand_state = 12"
      ]
    },
    {
      "cell_type": "markdown",
      "metadata": {
        "id": "2e6G1MDEf7cW"
      },
      "source": [
        "##Готовим набор данных"
      ]
    },
    {
      "cell_type": "code",
      "execution_count": 6,
      "metadata": {
        "id": "bhnSU0F6wUZp"
      },
      "outputs": [],
      "source": [
        "def preprocess(text):\n",
        "  pattern = '.'\n",
        "  tok = tokenize.RegexpTokenizer(pattern)\n",
        "  return tok.tokenize(text)"
      ]
    },
    {
      "cell_type": "code",
      "execution_count": 7,
      "metadata": {
        "id": "fEI2Jf3TQsuH"
      },
      "outputs": [],
      "source": [
        "data['Слова'] = data.apply(lambda row: row['Ударения'].replace('^', \"\"), axis=1)"
      ]
    },
    {
      "cell_type": "code",
      "execution_count": 8,
      "metadata": {
        "colab": {
          "base_uri": "https://localhost:8080/",
          "height": 424
        },
        "id": "LhGQdJ2aRpnG",
        "outputId": "1df3359a-f378-4396-ae70-018e90b61861"
      },
      "outputs": [
        {
          "output_type": "execute_result",
          "data": {
            "text/plain": [
              "          Ударения      Слова\n",
              "0             аа^к        аак\n",
              "1            аа^ка       аака\n",
              "2            аа^ке       ааке\n",
              "3            аа^ки       ааки\n",
              "4           аа^ков      ааков\n",
              "...            ...        ...\n",
              "588485  ёфика^торе  ёфикаторе\n",
              "588486   ёфика^ции   ёфикации\n",
              "588487   ёфика^цию   ёфикацию\n",
              "588488   ёфика^ция   ёфикация\n",
              "588489  ёфика^циям  ёфикациям\n",
              "\n",
              "[588490 rows x 2 columns]"
            ],
            "text/html": [
              "\n",
              "  <div id=\"df-7cfaa37f-df57-4efe-9f4f-5809846f4231\" class=\"colab-df-container\">\n",
              "    <div>\n",
              "<style scoped>\n",
              "    .dataframe tbody tr th:only-of-type {\n",
              "        vertical-align: middle;\n",
              "    }\n",
              "\n",
              "    .dataframe tbody tr th {\n",
              "        vertical-align: top;\n",
              "    }\n",
              "\n",
              "    .dataframe thead th {\n",
              "        text-align: right;\n",
              "    }\n",
              "</style>\n",
              "<table border=\"1\" class=\"dataframe\">\n",
              "  <thead>\n",
              "    <tr style=\"text-align: right;\">\n",
              "      <th></th>\n",
              "      <th>Ударения</th>\n",
              "      <th>Слова</th>\n",
              "    </tr>\n",
              "  </thead>\n",
              "  <tbody>\n",
              "    <tr>\n",
              "      <th>0</th>\n",
              "      <td>аа^к</td>\n",
              "      <td>аак</td>\n",
              "    </tr>\n",
              "    <tr>\n",
              "      <th>1</th>\n",
              "      <td>аа^ка</td>\n",
              "      <td>аака</td>\n",
              "    </tr>\n",
              "    <tr>\n",
              "      <th>2</th>\n",
              "      <td>аа^ке</td>\n",
              "      <td>ааке</td>\n",
              "    </tr>\n",
              "    <tr>\n",
              "      <th>3</th>\n",
              "      <td>аа^ки</td>\n",
              "      <td>ааки</td>\n",
              "    </tr>\n",
              "    <tr>\n",
              "      <th>4</th>\n",
              "      <td>аа^ков</td>\n",
              "      <td>ааков</td>\n",
              "    </tr>\n",
              "    <tr>\n",
              "      <th>...</th>\n",
              "      <td>...</td>\n",
              "      <td>...</td>\n",
              "    </tr>\n",
              "    <tr>\n",
              "      <th>588485</th>\n",
              "      <td>ёфика^торе</td>\n",
              "      <td>ёфикаторе</td>\n",
              "    </tr>\n",
              "    <tr>\n",
              "      <th>588486</th>\n",
              "      <td>ёфика^ции</td>\n",
              "      <td>ёфикации</td>\n",
              "    </tr>\n",
              "    <tr>\n",
              "      <th>588487</th>\n",
              "      <td>ёфика^цию</td>\n",
              "      <td>ёфикацию</td>\n",
              "    </tr>\n",
              "    <tr>\n",
              "      <th>588488</th>\n",
              "      <td>ёфика^ция</td>\n",
              "      <td>ёфикация</td>\n",
              "    </tr>\n",
              "    <tr>\n",
              "      <th>588489</th>\n",
              "      <td>ёфика^циям</td>\n",
              "      <td>ёфикациям</td>\n",
              "    </tr>\n",
              "  </tbody>\n",
              "</table>\n",
              "<p>588490 rows × 2 columns</p>\n",
              "</div>\n",
              "    <div class=\"colab-df-buttons\">\n",
              "\n",
              "  <div class=\"colab-df-container\">\n",
              "    <button class=\"colab-df-convert\" onclick=\"convertToInteractive('df-7cfaa37f-df57-4efe-9f4f-5809846f4231')\"\n",
              "            title=\"Convert this dataframe to an interactive table.\"\n",
              "            style=\"display:none;\">\n",
              "\n",
              "  <svg xmlns=\"http://www.w3.org/2000/svg\" height=\"24px\" viewBox=\"0 -960 960 960\">\n",
              "    <path d=\"M120-120v-720h720v720H120Zm60-500h600v-160H180v160Zm220 220h160v-160H400v160Zm0 220h160v-160H400v160ZM180-400h160v-160H180v160Zm440 0h160v-160H620v160ZM180-180h160v-160H180v160Zm440 0h160v-160H620v160Z\"/>\n",
              "  </svg>\n",
              "    </button>\n",
              "\n",
              "  <style>\n",
              "    .colab-df-container {\n",
              "      display:flex;\n",
              "      gap: 12px;\n",
              "    }\n",
              "\n",
              "    .colab-df-convert {\n",
              "      background-color: #E8F0FE;\n",
              "      border: none;\n",
              "      border-radius: 50%;\n",
              "      cursor: pointer;\n",
              "      display: none;\n",
              "      fill: #1967D2;\n",
              "      height: 32px;\n",
              "      padding: 0 0 0 0;\n",
              "      width: 32px;\n",
              "    }\n",
              "\n",
              "    .colab-df-convert:hover {\n",
              "      background-color: #E2EBFA;\n",
              "      box-shadow: 0px 1px 2px rgba(60, 64, 67, 0.3), 0px 1px 3px 1px rgba(60, 64, 67, 0.15);\n",
              "      fill: #174EA6;\n",
              "    }\n",
              "\n",
              "    .colab-df-buttons div {\n",
              "      margin-bottom: 4px;\n",
              "    }\n",
              "\n",
              "    [theme=dark] .colab-df-convert {\n",
              "      background-color: #3B4455;\n",
              "      fill: #D2E3FC;\n",
              "    }\n",
              "\n",
              "    [theme=dark] .colab-df-convert:hover {\n",
              "      background-color: #434B5C;\n",
              "      box-shadow: 0px 1px 3px 1px rgba(0, 0, 0, 0.15);\n",
              "      filter: drop-shadow(0px 1px 2px rgba(0, 0, 0, 0.3));\n",
              "      fill: #FFFFFF;\n",
              "    }\n",
              "  </style>\n",
              "\n",
              "    <script>\n",
              "      const buttonEl =\n",
              "        document.querySelector('#df-7cfaa37f-df57-4efe-9f4f-5809846f4231 button.colab-df-convert');\n",
              "      buttonEl.style.display =\n",
              "        google.colab.kernel.accessAllowed ? 'block' : 'none';\n",
              "\n",
              "      async function convertToInteractive(key) {\n",
              "        const element = document.querySelector('#df-7cfaa37f-df57-4efe-9f4f-5809846f4231');\n",
              "        const dataTable =\n",
              "          await google.colab.kernel.invokeFunction('convertToInteractive',\n",
              "                                                    [key], {});\n",
              "        if (!dataTable) return;\n",
              "\n",
              "        const docLinkHtml = 'Like what you see? Visit the ' +\n",
              "          '<a target=\"_blank\" href=https://colab.research.google.com/notebooks/data_table.ipynb>data table notebook</a>'\n",
              "          + ' to learn more about interactive tables.';\n",
              "        element.innerHTML = '';\n",
              "        dataTable['output_type'] = 'display_data';\n",
              "        await google.colab.output.renderOutput(dataTable, element);\n",
              "        const docLink = document.createElement('div');\n",
              "        docLink.innerHTML = docLinkHtml;\n",
              "        element.appendChild(docLink);\n",
              "      }\n",
              "    </script>\n",
              "  </div>\n",
              "\n",
              "\n",
              "<div id=\"df-c67b58c9-ce16-493f-8f5a-49f031bd0398\">\n",
              "  <button class=\"colab-df-quickchart\" onclick=\"quickchart('df-c67b58c9-ce16-493f-8f5a-49f031bd0398')\"\n",
              "            title=\"Suggest charts.\"\n",
              "            style=\"display:none;\">\n",
              "\n",
              "<svg xmlns=\"http://www.w3.org/2000/svg\" height=\"24px\"viewBox=\"0 0 24 24\"\n",
              "     width=\"24px\">\n",
              "    <g>\n",
              "        <path d=\"M19 3H5c-1.1 0-2 .9-2 2v14c0 1.1.9 2 2 2h14c1.1 0 2-.9 2-2V5c0-1.1-.9-2-2-2zM9 17H7v-7h2v7zm4 0h-2V7h2v10zm4 0h-2v-4h2v4z\"/>\n",
              "    </g>\n",
              "</svg>\n",
              "  </button>\n",
              "\n",
              "<style>\n",
              "  .colab-df-quickchart {\n",
              "      --bg-color: #E8F0FE;\n",
              "      --fill-color: #1967D2;\n",
              "      --hover-bg-color: #E2EBFA;\n",
              "      --hover-fill-color: #174EA6;\n",
              "      --disabled-fill-color: #AAA;\n",
              "      --disabled-bg-color: #DDD;\n",
              "  }\n",
              "\n",
              "  [theme=dark] .colab-df-quickchart {\n",
              "      --bg-color: #3B4455;\n",
              "      --fill-color: #D2E3FC;\n",
              "      --hover-bg-color: #434B5C;\n",
              "      --hover-fill-color: #FFFFFF;\n",
              "      --disabled-bg-color: #3B4455;\n",
              "      --disabled-fill-color: #666;\n",
              "  }\n",
              "\n",
              "  .colab-df-quickchart {\n",
              "    background-color: var(--bg-color);\n",
              "    border: none;\n",
              "    border-radius: 50%;\n",
              "    cursor: pointer;\n",
              "    display: none;\n",
              "    fill: var(--fill-color);\n",
              "    height: 32px;\n",
              "    padding: 0;\n",
              "    width: 32px;\n",
              "  }\n",
              "\n",
              "  .colab-df-quickchart:hover {\n",
              "    background-color: var(--hover-bg-color);\n",
              "    box-shadow: 0 1px 2px rgba(60, 64, 67, 0.3), 0 1px 3px 1px rgba(60, 64, 67, 0.15);\n",
              "    fill: var(--button-hover-fill-color);\n",
              "  }\n",
              "\n",
              "  .colab-df-quickchart-complete:disabled,\n",
              "  .colab-df-quickchart-complete:disabled:hover {\n",
              "    background-color: var(--disabled-bg-color);\n",
              "    fill: var(--disabled-fill-color);\n",
              "    box-shadow: none;\n",
              "  }\n",
              "\n",
              "  .colab-df-spinner {\n",
              "    border: 2px solid var(--fill-color);\n",
              "    border-color: transparent;\n",
              "    border-bottom-color: var(--fill-color);\n",
              "    animation:\n",
              "      spin 1s steps(1) infinite;\n",
              "  }\n",
              "\n",
              "  @keyframes spin {\n",
              "    0% {\n",
              "      border-color: transparent;\n",
              "      border-bottom-color: var(--fill-color);\n",
              "      border-left-color: var(--fill-color);\n",
              "    }\n",
              "    20% {\n",
              "      border-color: transparent;\n",
              "      border-left-color: var(--fill-color);\n",
              "      border-top-color: var(--fill-color);\n",
              "    }\n",
              "    30% {\n",
              "      border-color: transparent;\n",
              "      border-left-color: var(--fill-color);\n",
              "      border-top-color: var(--fill-color);\n",
              "      border-right-color: var(--fill-color);\n",
              "    }\n",
              "    40% {\n",
              "      border-color: transparent;\n",
              "      border-right-color: var(--fill-color);\n",
              "      border-top-color: var(--fill-color);\n",
              "    }\n",
              "    60% {\n",
              "      border-color: transparent;\n",
              "      border-right-color: var(--fill-color);\n",
              "    }\n",
              "    80% {\n",
              "      border-color: transparent;\n",
              "      border-right-color: var(--fill-color);\n",
              "      border-bottom-color: var(--fill-color);\n",
              "    }\n",
              "    90% {\n",
              "      border-color: transparent;\n",
              "      border-bottom-color: var(--fill-color);\n",
              "    }\n",
              "  }\n",
              "</style>\n",
              "\n",
              "  <script>\n",
              "    async function quickchart(key) {\n",
              "      const quickchartButtonEl =\n",
              "        document.querySelector('#' + key + ' button');\n",
              "      quickchartButtonEl.disabled = true;  // To prevent multiple clicks.\n",
              "      quickchartButtonEl.classList.add('colab-df-spinner');\n",
              "      try {\n",
              "        const charts = await google.colab.kernel.invokeFunction(\n",
              "            'suggestCharts', [key], {});\n",
              "      } catch (error) {\n",
              "        console.error('Error during call to suggestCharts:', error);\n",
              "      }\n",
              "      quickchartButtonEl.classList.remove('colab-df-spinner');\n",
              "      quickchartButtonEl.classList.add('colab-df-quickchart-complete');\n",
              "    }\n",
              "    (() => {\n",
              "      let quickchartButtonEl =\n",
              "        document.querySelector('#df-c67b58c9-ce16-493f-8f5a-49f031bd0398 button');\n",
              "      quickchartButtonEl.style.display =\n",
              "        google.colab.kernel.accessAllowed ? 'block' : 'none';\n",
              "    })();\n",
              "  </script>\n",
              "</div>\n",
              "    </div>\n",
              "  </div>\n"
            ]
          },
          "metadata": {},
          "execution_count": 8
        }
      ],
      "source": [
        "data"
      ]
    },
    {
      "cell_type": "code",
      "execution_count": 9,
      "metadata": {
        "id": "4kCef9Kkx2ai"
      },
      "outputs": [],
      "source": [
        "data['Токены ударений'] = data.apply(lambda row: preprocess(row['Ударения']), axis=1)"
      ]
    },
    {
      "cell_type": "code",
      "execution_count": 10,
      "metadata": {
        "colab": {
          "base_uri": "https://localhost:8080/",
          "height": 424
        },
        "id": "Xc9EgNnmLQ86",
        "outputId": "0cd14479-c2fe-4aa5-a515-a679e929b705"
      },
      "outputs": [
        {
          "output_type": "execute_result",
          "data": {
            "text/plain": [
              "          Ударения      Слова                 Токены ударений\n",
              "0             аа^к        аак                    [а, а, ^, к]\n",
              "1            аа^ка       аака                 [а, а, ^, к, а]\n",
              "2            аа^ке       ааке                 [а, а, ^, к, е]\n",
              "3            аа^ки       ааки                 [а, а, ^, к, и]\n",
              "4           аа^ков      ааков              [а, а, ^, к, о, в]\n",
              "...            ...        ...                             ...\n",
              "588485  ёфика^торе  ёфикаторе  [ё, ф, и, к, а, ^, т, о, р, е]\n",
              "588486   ёфика^ции   ёфикации     [ё, ф, и, к, а, ^, ц, и, и]\n",
              "588487   ёфика^цию   ёфикацию     [ё, ф, и, к, а, ^, ц, и, ю]\n",
              "588488   ёфика^ция   ёфикация     [ё, ф, и, к, а, ^, ц, и, я]\n",
              "588489  ёфика^циям  ёфикациям  [ё, ф, и, к, а, ^, ц, и, я, м]\n",
              "\n",
              "[588490 rows x 3 columns]"
            ],
            "text/html": [
              "\n",
              "  <div id=\"df-768dc282-6c7d-4cca-ad9d-305cf5c0a535\" class=\"colab-df-container\">\n",
              "    <div>\n",
              "<style scoped>\n",
              "    .dataframe tbody tr th:only-of-type {\n",
              "        vertical-align: middle;\n",
              "    }\n",
              "\n",
              "    .dataframe tbody tr th {\n",
              "        vertical-align: top;\n",
              "    }\n",
              "\n",
              "    .dataframe thead th {\n",
              "        text-align: right;\n",
              "    }\n",
              "</style>\n",
              "<table border=\"1\" class=\"dataframe\">\n",
              "  <thead>\n",
              "    <tr style=\"text-align: right;\">\n",
              "      <th></th>\n",
              "      <th>Ударения</th>\n",
              "      <th>Слова</th>\n",
              "      <th>Токены ударений</th>\n",
              "    </tr>\n",
              "  </thead>\n",
              "  <tbody>\n",
              "    <tr>\n",
              "      <th>0</th>\n",
              "      <td>аа^к</td>\n",
              "      <td>аак</td>\n",
              "      <td>[а, а, ^, к]</td>\n",
              "    </tr>\n",
              "    <tr>\n",
              "      <th>1</th>\n",
              "      <td>аа^ка</td>\n",
              "      <td>аака</td>\n",
              "      <td>[а, а, ^, к, а]</td>\n",
              "    </tr>\n",
              "    <tr>\n",
              "      <th>2</th>\n",
              "      <td>аа^ке</td>\n",
              "      <td>ааке</td>\n",
              "      <td>[а, а, ^, к, е]</td>\n",
              "    </tr>\n",
              "    <tr>\n",
              "      <th>3</th>\n",
              "      <td>аа^ки</td>\n",
              "      <td>ааки</td>\n",
              "      <td>[а, а, ^, к, и]</td>\n",
              "    </tr>\n",
              "    <tr>\n",
              "      <th>4</th>\n",
              "      <td>аа^ков</td>\n",
              "      <td>ааков</td>\n",
              "      <td>[а, а, ^, к, о, в]</td>\n",
              "    </tr>\n",
              "    <tr>\n",
              "      <th>...</th>\n",
              "      <td>...</td>\n",
              "      <td>...</td>\n",
              "      <td>...</td>\n",
              "    </tr>\n",
              "    <tr>\n",
              "      <th>588485</th>\n",
              "      <td>ёфика^торе</td>\n",
              "      <td>ёфикаторе</td>\n",
              "      <td>[ё, ф, и, к, а, ^, т, о, р, е]</td>\n",
              "    </tr>\n",
              "    <tr>\n",
              "      <th>588486</th>\n",
              "      <td>ёфика^ции</td>\n",
              "      <td>ёфикации</td>\n",
              "      <td>[ё, ф, и, к, а, ^, ц, и, и]</td>\n",
              "    </tr>\n",
              "    <tr>\n",
              "      <th>588487</th>\n",
              "      <td>ёфика^цию</td>\n",
              "      <td>ёфикацию</td>\n",
              "      <td>[ё, ф, и, к, а, ^, ц, и, ю]</td>\n",
              "    </tr>\n",
              "    <tr>\n",
              "      <th>588488</th>\n",
              "      <td>ёфика^ция</td>\n",
              "      <td>ёфикация</td>\n",
              "      <td>[ё, ф, и, к, а, ^, ц, и, я]</td>\n",
              "    </tr>\n",
              "    <tr>\n",
              "      <th>588489</th>\n",
              "      <td>ёфика^циям</td>\n",
              "      <td>ёфикациям</td>\n",
              "      <td>[ё, ф, и, к, а, ^, ц, и, я, м]</td>\n",
              "    </tr>\n",
              "  </tbody>\n",
              "</table>\n",
              "<p>588490 rows × 3 columns</p>\n",
              "</div>\n",
              "    <div class=\"colab-df-buttons\">\n",
              "\n",
              "  <div class=\"colab-df-container\">\n",
              "    <button class=\"colab-df-convert\" onclick=\"convertToInteractive('df-768dc282-6c7d-4cca-ad9d-305cf5c0a535')\"\n",
              "            title=\"Convert this dataframe to an interactive table.\"\n",
              "            style=\"display:none;\">\n",
              "\n",
              "  <svg xmlns=\"http://www.w3.org/2000/svg\" height=\"24px\" viewBox=\"0 -960 960 960\">\n",
              "    <path d=\"M120-120v-720h720v720H120Zm60-500h600v-160H180v160Zm220 220h160v-160H400v160Zm0 220h160v-160H400v160ZM180-400h160v-160H180v160Zm440 0h160v-160H620v160ZM180-180h160v-160H180v160Zm440 0h160v-160H620v160Z\"/>\n",
              "  </svg>\n",
              "    </button>\n",
              "\n",
              "  <style>\n",
              "    .colab-df-container {\n",
              "      display:flex;\n",
              "      gap: 12px;\n",
              "    }\n",
              "\n",
              "    .colab-df-convert {\n",
              "      background-color: #E8F0FE;\n",
              "      border: none;\n",
              "      border-radius: 50%;\n",
              "      cursor: pointer;\n",
              "      display: none;\n",
              "      fill: #1967D2;\n",
              "      height: 32px;\n",
              "      padding: 0 0 0 0;\n",
              "      width: 32px;\n",
              "    }\n",
              "\n",
              "    .colab-df-convert:hover {\n",
              "      background-color: #E2EBFA;\n",
              "      box-shadow: 0px 1px 2px rgba(60, 64, 67, 0.3), 0px 1px 3px 1px rgba(60, 64, 67, 0.15);\n",
              "      fill: #174EA6;\n",
              "    }\n",
              "\n",
              "    .colab-df-buttons div {\n",
              "      margin-bottom: 4px;\n",
              "    }\n",
              "\n",
              "    [theme=dark] .colab-df-convert {\n",
              "      background-color: #3B4455;\n",
              "      fill: #D2E3FC;\n",
              "    }\n",
              "\n",
              "    [theme=dark] .colab-df-convert:hover {\n",
              "      background-color: #434B5C;\n",
              "      box-shadow: 0px 1px 3px 1px rgba(0, 0, 0, 0.15);\n",
              "      filter: drop-shadow(0px 1px 2px rgba(0, 0, 0, 0.3));\n",
              "      fill: #FFFFFF;\n",
              "    }\n",
              "  </style>\n",
              "\n",
              "    <script>\n",
              "      const buttonEl =\n",
              "        document.querySelector('#df-768dc282-6c7d-4cca-ad9d-305cf5c0a535 button.colab-df-convert');\n",
              "      buttonEl.style.display =\n",
              "        google.colab.kernel.accessAllowed ? 'block' : 'none';\n",
              "\n",
              "      async function convertToInteractive(key) {\n",
              "        const element = document.querySelector('#df-768dc282-6c7d-4cca-ad9d-305cf5c0a535');\n",
              "        const dataTable =\n",
              "          await google.colab.kernel.invokeFunction('convertToInteractive',\n",
              "                                                    [key], {});\n",
              "        if (!dataTable) return;\n",
              "\n",
              "        const docLinkHtml = 'Like what you see? Visit the ' +\n",
              "          '<a target=\"_blank\" href=https://colab.research.google.com/notebooks/data_table.ipynb>data table notebook</a>'\n",
              "          + ' to learn more about interactive tables.';\n",
              "        element.innerHTML = '';\n",
              "        dataTable['output_type'] = 'display_data';\n",
              "        await google.colab.output.renderOutput(dataTable, element);\n",
              "        const docLink = document.createElement('div');\n",
              "        docLink.innerHTML = docLinkHtml;\n",
              "        element.appendChild(docLink);\n",
              "      }\n",
              "    </script>\n",
              "  </div>\n",
              "\n",
              "\n",
              "<div id=\"df-d3260620-26f2-4795-95bd-9a39984696c7\">\n",
              "  <button class=\"colab-df-quickchart\" onclick=\"quickchart('df-d3260620-26f2-4795-95bd-9a39984696c7')\"\n",
              "            title=\"Suggest charts.\"\n",
              "            style=\"display:none;\">\n",
              "\n",
              "<svg xmlns=\"http://www.w3.org/2000/svg\" height=\"24px\"viewBox=\"0 0 24 24\"\n",
              "     width=\"24px\">\n",
              "    <g>\n",
              "        <path d=\"M19 3H5c-1.1 0-2 .9-2 2v14c0 1.1.9 2 2 2h14c1.1 0 2-.9 2-2V5c0-1.1-.9-2-2-2zM9 17H7v-7h2v7zm4 0h-2V7h2v10zm4 0h-2v-4h2v4z\"/>\n",
              "    </g>\n",
              "</svg>\n",
              "  </button>\n",
              "\n",
              "<style>\n",
              "  .colab-df-quickchart {\n",
              "      --bg-color: #E8F0FE;\n",
              "      --fill-color: #1967D2;\n",
              "      --hover-bg-color: #E2EBFA;\n",
              "      --hover-fill-color: #174EA6;\n",
              "      --disabled-fill-color: #AAA;\n",
              "      --disabled-bg-color: #DDD;\n",
              "  }\n",
              "\n",
              "  [theme=dark] .colab-df-quickchart {\n",
              "      --bg-color: #3B4455;\n",
              "      --fill-color: #D2E3FC;\n",
              "      --hover-bg-color: #434B5C;\n",
              "      --hover-fill-color: #FFFFFF;\n",
              "      --disabled-bg-color: #3B4455;\n",
              "      --disabled-fill-color: #666;\n",
              "  }\n",
              "\n",
              "  .colab-df-quickchart {\n",
              "    background-color: var(--bg-color);\n",
              "    border: none;\n",
              "    border-radius: 50%;\n",
              "    cursor: pointer;\n",
              "    display: none;\n",
              "    fill: var(--fill-color);\n",
              "    height: 32px;\n",
              "    padding: 0;\n",
              "    width: 32px;\n",
              "  }\n",
              "\n",
              "  .colab-df-quickchart:hover {\n",
              "    background-color: var(--hover-bg-color);\n",
              "    box-shadow: 0 1px 2px rgba(60, 64, 67, 0.3), 0 1px 3px 1px rgba(60, 64, 67, 0.15);\n",
              "    fill: var(--button-hover-fill-color);\n",
              "  }\n",
              "\n",
              "  .colab-df-quickchart-complete:disabled,\n",
              "  .colab-df-quickchart-complete:disabled:hover {\n",
              "    background-color: var(--disabled-bg-color);\n",
              "    fill: var(--disabled-fill-color);\n",
              "    box-shadow: none;\n",
              "  }\n",
              "\n",
              "  .colab-df-spinner {\n",
              "    border: 2px solid var(--fill-color);\n",
              "    border-color: transparent;\n",
              "    border-bottom-color: var(--fill-color);\n",
              "    animation:\n",
              "      spin 1s steps(1) infinite;\n",
              "  }\n",
              "\n",
              "  @keyframes spin {\n",
              "    0% {\n",
              "      border-color: transparent;\n",
              "      border-bottom-color: var(--fill-color);\n",
              "      border-left-color: var(--fill-color);\n",
              "    }\n",
              "    20% {\n",
              "      border-color: transparent;\n",
              "      border-left-color: var(--fill-color);\n",
              "      border-top-color: var(--fill-color);\n",
              "    }\n",
              "    30% {\n",
              "      border-color: transparent;\n",
              "      border-left-color: var(--fill-color);\n",
              "      border-top-color: var(--fill-color);\n",
              "      border-right-color: var(--fill-color);\n",
              "    }\n",
              "    40% {\n",
              "      border-color: transparent;\n",
              "      border-right-color: var(--fill-color);\n",
              "      border-top-color: var(--fill-color);\n",
              "    }\n",
              "    60% {\n",
              "      border-color: transparent;\n",
              "      border-right-color: var(--fill-color);\n",
              "    }\n",
              "    80% {\n",
              "      border-color: transparent;\n",
              "      border-right-color: var(--fill-color);\n",
              "      border-bottom-color: var(--fill-color);\n",
              "    }\n",
              "    90% {\n",
              "      border-color: transparent;\n",
              "      border-bottom-color: var(--fill-color);\n",
              "    }\n",
              "  }\n",
              "</style>\n",
              "\n",
              "  <script>\n",
              "    async function quickchart(key) {\n",
              "      const quickchartButtonEl =\n",
              "        document.querySelector('#' + key + ' button');\n",
              "      quickchartButtonEl.disabled = true;  // To prevent multiple clicks.\n",
              "      quickchartButtonEl.classList.add('colab-df-spinner');\n",
              "      try {\n",
              "        const charts = await google.colab.kernel.invokeFunction(\n",
              "            'suggestCharts', [key], {});\n",
              "      } catch (error) {\n",
              "        console.error('Error during call to suggestCharts:', error);\n",
              "      }\n",
              "      quickchartButtonEl.classList.remove('colab-df-spinner');\n",
              "      quickchartButtonEl.classList.add('colab-df-quickchart-complete');\n",
              "    }\n",
              "    (() => {\n",
              "      let quickchartButtonEl =\n",
              "        document.querySelector('#df-d3260620-26f2-4795-95bd-9a39984696c7 button');\n",
              "      quickchartButtonEl.style.display =\n",
              "        google.colab.kernel.accessAllowed ? 'block' : 'none';\n",
              "    })();\n",
              "  </script>\n",
              "</div>\n",
              "    </div>\n",
              "  </div>\n"
            ]
          },
          "metadata": {},
          "execution_count": 10
        }
      ],
      "source": [
        "data"
      ]
    },
    {
      "cell_type": "code",
      "execution_count": 11,
      "metadata": {
        "id": "Yoa9qBniZoiQ"
      },
      "outputs": [],
      "source": [
        "data['Токены слов'] = data.apply(lambda row: preprocess(row['Слова']), axis=1)"
      ]
    },
    {
      "cell_type": "code",
      "execution_count": 12,
      "metadata": {
        "colab": {
          "base_uri": "https://localhost:8080/",
          "height": 424
        },
        "id": "Nt1yCG73ZwKT",
        "outputId": "16a6e58f-437a-42c2-b2fb-a0a98aa49c65"
      },
      "outputs": [
        {
          "output_type": "execute_result",
          "data": {
            "text/plain": [
              "          Ударения      Слова                 Токены ударений  \\\n",
              "0             аа^к        аак                    [а, а, ^, к]   \n",
              "1            аа^ка       аака                 [а, а, ^, к, а]   \n",
              "2            аа^ке       ааке                 [а, а, ^, к, е]   \n",
              "3            аа^ки       ааки                 [а, а, ^, к, и]   \n",
              "4           аа^ков      ааков              [а, а, ^, к, о, в]   \n",
              "...            ...        ...                             ...   \n",
              "588485  ёфика^торе  ёфикаторе  [ё, ф, и, к, а, ^, т, о, р, е]   \n",
              "588486   ёфика^ции   ёфикации     [ё, ф, и, к, а, ^, ц, и, и]   \n",
              "588487   ёфика^цию   ёфикацию     [ё, ф, и, к, а, ^, ц, и, ю]   \n",
              "588488   ёфика^ция   ёфикация     [ё, ф, и, к, а, ^, ц, и, я]   \n",
              "588489  ёфика^циям  ёфикациям  [ё, ф, и, к, а, ^, ц, и, я, м]   \n",
              "\n",
              "                        Токены слов  \n",
              "0                         [а, а, к]  \n",
              "1                      [а, а, к, а]  \n",
              "2                      [а, а, к, е]  \n",
              "3                      [а, а, к, и]  \n",
              "4                   [а, а, к, о, в]  \n",
              "...                             ...  \n",
              "588485  [ё, ф, и, к, а, т, о, р, е]  \n",
              "588486     [ё, ф, и, к, а, ц, и, и]  \n",
              "588487     [ё, ф, и, к, а, ц, и, ю]  \n",
              "588488     [ё, ф, и, к, а, ц, и, я]  \n",
              "588489  [ё, ф, и, к, а, ц, и, я, м]  \n",
              "\n",
              "[588490 rows x 4 columns]"
            ],
            "text/html": [
              "\n",
              "  <div id=\"df-1a522467-bb99-4d2c-9d6d-2de34018ecab\" class=\"colab-df-container\">\n",
              "    <div>\n",
              "<style scoped>\n",
              "    .dataframe tbody tr th:only-of-type {\n",
              "        vertical-align: middle;\n",
              "    }\n",
              "\n",
              "    .dataframe tbody tr th {\n",
              "        vertical-align: top;\n",
              "    }\n",
              "\n",
              "    .dataframe thead th {\n",
              "        text-align: right;\n",
              "    }\n",
              "</style>\n",
              "<table border=\"1\" class=\"dataframe\">\n",
              "  <thead>\n",
              "    <tr style=\"text-align: right;\">\n",
              "      <th></th>\n",
              "      <th>Ударения</th>\n",
              "      <th>Слова</th>\n",
              "      <th>Токены ударений</th>\n",
              "      <th>Токены слов</th>\n",
              "    </tr>\n",
              "  </thead>\n",
              "  <tbody>\n",
              "    <tr>\n",
              "      <th>0</th>\n",
              "      <td>аа^к</td>\n",
              "      <td>аак</td>\n",
              "      <td>[а, а, ^, к]</td>\n",
              "      <td>[а, а, к]</td>\n",
              "    </tr>\n",
              "    <tr>\n",
              "      <th>1</th>\n",
              "      <td>аа^ка</td>\n",
              "      <td>аака</td>\n",
              "      <td>[а, а, ^, к, а]</td>\n",
              "      <td>[а, а, к, а]</td>\n",
              "    </tr>\n",
              "    <tr>\n",
              "      <th>2</th>\n",
              "      <td>аа^ке</td>\n",
              "      <td>ааке</td>\n",
              "      <td>[а, а, ^, к, е]</td>\n",
              "      <td>[а, а, к, е]</td>\n",
              "    </tr>\n",
              "    <tr>\n",
              "      <th>3</th>\n",
              "      <td>аа^ки</td>\n",
              "      <td>ааки</td>\n",
              "      <td>[а, а, ^, к, и]</td>\n",
              "      <td>[а, а, к, и]</td>\n",
              "    </tr>\n",
              "    <tr>\n",
              "      <th>4</th>\n",
              "      <td>аа^ков</td>\n",
              "      <td>ааков</td>\n",
              "      <td>[а, а, ^, к, о, в]</td>\n",
              "      <td>[а, а, к, о, в]</td>\n",
              "    </tr>\n",
              "    <tr>\n",
              "      <th>...</th>\n",
              "      <td>...</td>\n",
              "      <td>...</td>\n",
              "      <td>...</td>\n",
              "      <td>...</td>\n",
              "    </tr>\n",
              "    <tr>\n",
              "      <th>588485</th>\n",
              "      <td>ёфика^торе</td>\n",
              "      <td>ёфикаторе</td>\n",
              "      <td>[ё, ф, и, к, а, ^, т, о, р, е]</td>\n",
              "      <td>[ё, ф, и, к, а, т, о, р, е]</td>\n",
              "    </tr>\n",
              "    <tr>\n",
              "      <th>588486</th>\n",
              "      <td>ёфика^ции</td>\n",
              "      <td>ёфикации</td>\n",
              "      <td>[ё, ф, и, к, а, ^, ц, и, и]</td>\n",
              "      <td>[ё, ф, и, к, а, ц, и, и]</td>\n",
              "    </tr>\n",
              "    <tr>\n",
              "      <th>588487</th>\n",
              "      <td>ёфика^цию</td>\n",
              "      <td>ёфикацию</td>\n",
              "      <td>[ё, ф, и, к, а, ^, ц, и, ю]</td>\n",
              "      <td>[ё, ф, и, к, а, ц, и, ю]</td>\n",
              "    </tr>\n",
              "    <tr>\n",
              "      <th>588488</th>\n",
              "      <td>ёфика^ция</td>\n",
              "      <td>ёфикация</td>\n",
              "      <td>[ё, ф, и, к, а, ^, ц, и, я]</td>\n",
              "      <td>[ё, ф, и, к, а, ц, и, я]</td>\n",
              "    </tr>\n",
              "    <tr>\n",
              "      <th>588489</th>\n",
              "      <td>ёфика^циям</td>\n",
              "      <td>ёфикациям</td>\n",
              "      <td>[ё, ф, и, к, а, ^, ц, и, я, м]</td>\n",
              "      <td>[ё, ф, и, к, а, ц, и, я, м]</td>\n",
              "    </tr>\n",
              "  </tbody>\n",
              "</table>\n",
              "<p>588490 rows × 4 columns</p>\n",
              "</div>\n",
              "    <div class=\"colab-df-buttons\">\n",
              "\n",
              "  <div class=\"colab-df-container\">\n",
              "    <button class=\"colab-df-convert\" onclick=\"convertToInteractive('df-1a522467-bb99-4d2c-9d6d-2de34018ecab')\"\n",
              "            title=\"Convert this dataframe to an interactive table.\"\n",
              "            style=\"display:none;\">\n",
              "\n",
              "  <svg xmlns=\"http://www.w3.org/2000/svg\" height=\"24px\" viewBox=\"0 -960 960 960\">\n",
              "    <path d=\"M120-120v-720h720v720H120Zm60-500h600v-160H180v160Zm220 220h160v-160H400v160Zm0 220h160v-160H400v160ZM180-400h160v-160H180v160Zm440 0h160v-160H620v160ZM180-180h160v-160H180v160Zm440 0h160v-160H620v160Z\"/>\n",
              "  </svg>\n",
              "    </button>\n",
              "\n",
              "  <style>\n",
              "    .colab-df-container {\n",
              "      display:flex;\n",
              "      gap: 12px;\n",
              "    }\n",
              "\n",
              "    .colab-df-convert {\n",
              "      background-color: #E8F0FE;\n",
              "      border: none;\n",
              "      border-radius: 50%;\n",
              "      cursor: pointer;\n",
              "      display: none;\n",
              "      fill: #1967D2;\n",
              "      height: 32px;\n",
              "      padding: 0 0 0 0;\n",
              "      width: 32px;\n",
              "    }\n",
              "\n",
              "    .colab-df-convert:hover {\n",
              "      background-color: #E2EBFA;\n",
              "      box-shadow: 0px 1px 2px rgba(60, 64, 67, 0.3), 0px 1px 3px 1px rgba(60, 64, 67, 0.15);\n",
              "      fill: #174EA6;\n",
              "    }\n",
              "\n",
              "    .colab-df-buttons div {\n",
              "      margin-bottom: 4px;\n",
              "    }\n",
              "\n",
              "    [theme=dark] .colab-df-convert {\n",
              "      background-color: #3B4455;\n",
              "      fill: #D2E3FC;\n",
              "    }\n",
              "\n",
              "    [theme=dark] .colab-df-convert:hover {\n",
              "      background-color: #434B5C;\n",
              "      box-shadow: 0px 1px 3px 1px rgba(0, 0, 0, 0.15);\n",
              "      filter: drop-shadow(0px 1px 2px rgba(0, 0, 0, 0.3));\n",
              "      fill: #FFFFFF;\n",
              "    }\n",
              "  </style>\n",
              "\n",
              "    <script>\n",
              "      const buttonEl =\n",
              "        document.querySelector('#df-1a522467-bb99-4d2c-9d6d-2de34018ecab button.colab-df-convert');\n",
              "      buttonEl.style.display =\n",
              "        google.colab.kernel.accessAllowed ? 'block' : 'none';\n",
              "\n",
              "      async function convertToInteractive(key) {\n",
              "        const element = document.querySelector('#df-1a522467-bb99-4d2c-9d6d-2de34018ecab');\n",
              "        const dataTable =\n",
              "          await google.colab.kernel.invokeFunction('convertToInteractive',\n",
              "                                                    [key], {});\n",
              "        if (!dataTable) return;\n",
              "\n",
              "        const docLinkHtml = 'Like what you see? Visit the ' +\n",
              "          '<a target=\"_blank\" href=https://colab.research.google.com/notebooks/data_table.ipynb>data table notebook</a>'\n",
              "          + ' to learn more about interactive tables.';\n",
              "        element.innerHTML = '';\n",
              "        dataTable['output_type'] = 'display_data';\n",
              "        await google.colab.output.renderOutput(dataTable, element);\n",
              "        const docLink = document.createElement('div');\n",
              "        docLink.innerHTML = docLinkHtml;\n",
              "        element.appendChild(docLink);\n",
              "      }\n",
              "    </script>\n",
              "  </div>\n",
              "\n",
              "\n",
              "<div id=\"df-f8d2ea39-b06e-42cd-9179-6d127755f2ab\">\n",
              "  <button class=\"colab-df-quickchart\" onclick=\"quickchart('df-f8d2ea39-b06e-42cd-9179-6d127755f2ab')\"\n",
              "            title=\"Suggest charts.\"\n",
              "            style=\"display:none;\">\n",
              "\n",
              "<svg xmlns=\"http://www.w3.org/2000/svg\" height=\"24px\"viewBox=\"0 0 24 24\"\n",
              "     width=\"24px\">\n",
              "    <g>\n",
              "        <path d=\"M19 3H5c-1.1 0-2 .9-2 2v14c0 1.1.9 2 2 2h14c1.1 0 2-.9 2-2V5c0-1.1-.9-2-2-2zM9 17H7v-7h2v7zm4 0h-2V7h2v10zm4 0h-2v-4h2v4z\"/>\n",
              "    </g>\n",
              "</svg>\n",
              "  </button>\n",
              "\n",
              "<style>\n",
              "  .colab-df-quickchart {\n",
              "      --bg-color: #E8F0FE;\n",
              "      --fill-color: #1967D2;\n",
              "      --hover-bg-color: #E2EBFA;\n",
              "      --hover-fill-color: #174EA6;\n",
              "      --disabled-fill-color: #AAA;\n",
              "      --disabled-bg-color: #DDD;\n",
              "  }\n",
              "\n",
              "  [theme=dark] .colab-df-quickchart {\n",
              "      --bg-color: #3B4455;\n",
              "      --fill-color: #D2E3FC;\n",
              "      --hover-bg-color: #434B5C;\n",
              "      --hover-fill-color: #FFFFFF;\n",
              "      --disabled-bg-color: #3B4455;\n",
              "      --disabled-fill-color: #666;\n",
              "  }\n",
              "\n",
              "  .colab-df-quickchart {\n",
              "    background-color: var(--bg-color);\n",
              "    border: none;\n",
              "    border-radius: 50%;\n",
              "    cursor: pointer;\n",
              "    display: none;\n",
              "    fill: var(--fill-color);\n",
              "    height: 32px;\n",
              "    padding: 0;\n",
              "    width: 32px;\n",
              "  }\n",
              "\n",
              "  .colab-df-quickchart:hover {\n",
              "    background-color: var(--hover-bg-color);\n",
              "    box-shadow: 0 1px 2px rgba(60, 64, 67, 0.3), 0 1px 3px 1px rgba(60, 64, 67, 0.15);\n",
              "    fill: var(--button-hover-fill-color);\n",
              "  }\n",
              "\n",
              "  .colab-df-quickchart-complete:disabled,\n",
              "  .colab-df-quickchart-complete:disabled:hover {\n",
              "    background-color: var(--disabled-bg-color);\n",
              "    fill: var(--disabled-fill-color);\n",
              "    box-shadow: none;\n",
              "  }\n",
              "\n",
              "  .colab-df-spinner {\n",
              "    border: 2px solid var(--fill-color);\n",
              "    border-color: transparent;\n",
              "    border-bottom-color: var(--fill-color);\n",
              "    animation:\n",
              "      spin 1s steps(1) infinite;\n",
              "  }\n",
              "\n",
              "  @keyframes spin {\n",
              "    0% {\n",
              "      border-color: transparent;\n",
              "      border-bottom-color: var(--fill-color);\n",
              "      border-left-color: var(--fill-color);\n",
              "    }\n",
              "    20% {\n",
              "      border-color: transparent;\n",
              "      border-left-color: var(--fill-color);\n",
              "      border-top-color: var(--fill-color);\n",
              "    }\n",
              "    30% {\n",
              "      border-color: transparent;\n",
              "      border-left-color: var(--fill-color);\n",
              "      border-top-color: var(--fill-color);\n",
              "      border-right-color: var(--fill-color);\n",
              "    }\n",
              "    40% {\n",
              "      border-color: transparent;\n",
              "      border-right-color: var(--fill-color);\n",
              "      border-top-color: var(--fill-color);\n",
              "    }\n",
              "    60% {\n",
              "      border-color: transparent;\n",
              "      border-right-color: var(--fill-color);\n",
              "    }\n",
              "    80% {\n",
              "      border-color: transparent;\n",
              "      border-right-color: var(--fill-color);\n",
              "      border-bottom-color: var(--fill-color);\n",
              "    }\n",
              "    90% {\n",
              "      border-color: transparent;\n",
              "      border-bottom-color: var(--fill-color);\n",
              "    }\n",
              "  }\n",
              "</style>\n",
              "\n",
              "  <script>\n",
              "    async function quickchart(key) {\n",
              "      const quickchartButtonEl =\n",
              "        document.querySelector('#' + key + ' button');\n",
              "      quickchartButtonEl.disabled = true;  // To prevent multiple clicks.\n",
              "      quickchartButtonEl.classList.add('colab-df-spinner');\n",
              "      try {\n",
              "        const charts = await google.colab.kernel.invokeFunction(\n",
              "            'suggestCharts', [key], {});\n",
              "      } catch (error) {\n",
              "        console.error('Error during call to suggestCharts:', error);\n",
              "      }\n",
              "      quickchartButtonEl.classList.remove('colab-df-spinner');\n",
              "      quickchartButtonEl.classList.add('colab-df-quickchart-complete');\n",
              "    }\n",
              "    (() => {\n",
              "      let quickchartButtonEl =\n",
              "        document.querySelector('#df-f8d2ea39-b06e-42cd-9179-6d127755f2ab button');\n",
              "      quickchartButtonEl.style.display =\n",
              "        google.colab.kernel.accessAllowed ? 'block' : 'none';\n",
              "    })();\n",
              "  </script>\n",
              "</div>\n",
              "    </div>\n",
              "  </div>\n"
            ]
          },
          "metadata": {},
          "execution_count": 12
        }
      ],
      "source": [
        "data"
      ]
    },
    {
      "cell_type": "markdown",
      "metadata": {
        "id": "kPSE0sGcWLF6"
      },
      "source": [
        "## Определяем частоту букв"
      ]
    },
    {
      "cell_type": "code",
      "execution_count": 13,
      "metadata": {
        "id": "FTP55Dr7WP-J"
      },
      "outputs": [],
      "source": [
        "from collections import Counter"
      ]
    },
    {
      "cell_type": "markdown",
      "metadata": {
        "id": "6Q9901w6XnuZ"
      },
      "source": [
        "Тестируем работу Counter"
      ]
    },
    {
      "cell_type": "code",
      "execution_count": 14,
      "metadata": {
        "id": "FDWdzzy7XaYu"
      },
      "outputs": [],
      "source": [
        "test_counter = Counter(data['Токены ударений'][0])"
      ]
    },
    {
      "cell_type": "code",
      "execution_count": 15,
      "metadata": {
        "colab": {
          "base_uri": "https://localhost:8080/"
        },
        "id": "ePomcAVfPcq0",
        "outputId": "cc588e20-fc69-4776-8d6b-6635148d8967"
      },
      "outputs": [
        {
          "output_type": "execute_result",
          "data": {
            "text/plain": [
              "Counter({'а': 2, '^': 1, 'к': 1})"
            ]
          },
          "metadata": {},
          "execution_count": 15
        }
      ],
      "source": [
        "test_counter"
      ]
    },
    {
      "cell_type": "code",
      "execution_count": 16,
      "metadata": {
        "colab": {
          "base_uri": "https://localhost:8080/"
        },
        "id": "16daRcXHXwdi",
        "outputId": "fdcfd25e-0d0a-4164-8f42-9b53e8d874e1"
      },
      "outputs": [
        {
          "output_type": "execute_result",
          "data": {
            "text/plain": [
              "[('а', 2), ('^', 1), ('к', 1)]"
            ]
          },
          "metadata": {},
          "execution_count": 16
        }
      ],
      "source": [
        "test_counter.most_common(10)"
      ]
    },
    {
      "cell_type": "markdown",
      "metadata": {
        "id": "u6qbrT57X1pj"
      },
      "source": [
        "Считаем частоту букв во всех словах"
      ]
    },
    {
      "cell_type": "code",
      "execution_count": 17,
      "metadata": {
        "id": "xeL0KiDxXDS2"
      },
      "outputs": [],
      "source": [
        "chars = Counter()"
      ]
    },
    {
      "cell_type": "code",
      "execution_count": 18,
      "metadata": {
        "id": "5sJuUJmiWu3h"
      },
      "outputs": [],
      "source": [
        "for txt in data['Токены ударений']:\n",
        "    chars.update(txt)"
      ]
    },
    {
      "cell_type": "markdown",
      "metadata": {
        "id": "VBA1mMbrX_db"
      },
      "source": [
        "Количество символов во всех словах"
      ]
    },
    {
      "cell_type": "code",
      "execution_count": 19,
      "metadata": {
        "colab": {
          "base_uri": "https://localhost:8080/"
        },
        "id": "tGczIpE1YUZE",
        "outputId": "832d9fc6-bf17-4ec2-ffe1-3098c68801fc"
      },
      "outputs": [
        {
          "output_type": "execute_result",
          "data": {
            "text/plain": [
              "34"
            ]
          },
          "metadata": {},
          "execution_count": 19
        }
      ],
      "source": [
        "len(chars)"
      ]
    },
    {
      "cell_type": "code",
      "execution_count": 20,
      "metadata": {
        "colab": {
          "base_uri": "https://localhost:8080/"
        },
        "id": "9wkDqVcFTMjm",
        "outputId": "61b5651e-0861-4980-d74d-016e6dc0ada0"
      },
      "outputs": [
        {
          "output_type": "execute_result",
          "data": {
            "text/plain": [
              "Counter({'а': 568791,\n",
              "         '^': 588490,\n",
              "         'к': 200543,\n",
              "         'е': 492524,\n",
              "         'и': 533689,\n",
              "         'о': 583396,\n",
              "         'в': 395981,\n",
              "         'м': 218550,\n",
              "         'у': 176247,\n",
              "         'н': 368859,\n",
              "         'г': 89993,\n",
              "         'ч': 79081,\n",
              "         'р': 363020,\n",
              "         'ц': 35524,\n",
              "         'с': 356297,\n",
              "         'й': 101042,\n",
              "         'ы': 121547,\n",
              "         'щ': 58328,\n",
              "         'х': 54346,\n",
              "         'б': 86853,\n",
              "         'д': 125651,\n",
              "         'ю': 92289,\n",
              "         'ж': 39653,\n",
              "         'з': 114509,\n",
              "         'я': 169692,\n",
              "         'т': 316268,\n",
              "         'л': 242565,\n",
              "         'ь': 98192,\n",
              "         'э': 13891,\n",
              "         'ш': 135489,\n",
              "         'п': 214679,\n",
              "         'ф': 26172,\n",
              "         'ъ': 2088,\n",
              "         'ё': 373})"
            ]
          },
          "metadata": {},
          "execution_count": 20
        }
      ],
      "source": [
        "chars"
      ]
    },
    {
      "cell_type": "markdown",
      "metadata": {
        "id": "-qmQ8s_meV4y"
      },
      "source": [
        "Самые популярные буквы"
      ]
    },
    {
      "cell_type": "code",
      "execution_count": 21,
      "metadata": {
        "colab": {
          "base_uri": "https://localhost:8080/"
        },
        "id": "f8WaLkw2YUgl",
        "outputId": "4c4a92d8-35d1-493f-a190-5f9aca93b4c3"
      },
      "outputs": [
        {
          "output_type": "execute_result",
          "data": {
            "text/plain": [
              "[('^', 588490),\n",
              " ('о', 583396),\n",
              " ('а', 568791),\n",
              " ('и', 533689),\n",
              " ('е', 492524),\n",
              " ('в', 395981),\n",
              " ('н', 368859),\n",
              " ('р', 363020),\n",
              " ('с', 356297),\n",
              " ('т', 316268)]"
            ]
          },
          "metadata": {},
          "execution_count": 21
        }
      ],
      "source": [
        "chars.most_common(10)"
      ]
    },
    {
      "cell_type": "markdown",
      "metadata": {
        "id": "xvMGD3wPY0Jo"
      },
      "source": [
        "## Создаем словарь, упорядоченный по частоте\n",
        "\n",
        "В словаре будем использовать 2 специальных кода:\n",
        "- Код заполнитель: 0\n",
        "- Неизвестное слово: 1\n",
        "\n",
        "Нумерация слов в словаре начинается с 2."
      ]
    },
    {
      "cell_type": "code",
      "execution_count": 22,
      "metadata": {
        "id": "YHNfN0QoY51K"
      },
      "outputs": [],
      "source": [
        "# Словарь, отображающий слова в коды\n",
        "char_to_index = dict()\n",
        "# Словарь, отображающий коды в слова\n",
        "index_to_char = dict()"
      ]
    },
    {
      "cell_type": "markdown",
      "metadata": {
        "id": "8etz_oQ0aKoV"
      },
      "source": [
        "Максимальное количество обрабатываемых символов"
      ]
    },
    {
      "cell_type": "code",
      "execution_count": 23,
      "metadata": {
        "id": "MmtoD1fpaJJB"
      },
      "outputs": [],
      "source": [
        "max_chars = len(chars) + 2 #36"
      ]
    },
    {
      "cell_type": "markdown",
      "metadata": {
        "id": "ZXc73aNPaSX7"
      },
      "source": [
        "Создаем словари"
      ]
    },
    {
      "cell_type": "code",
      "execution_count": 24,
      "metadata": {
        "id": "8m6ZXwixrMf-"
      },
      "outputs": [],
      "source": [
        "for i, char in enumerate(chars.most_common(max_chars - 2)):\n",
        "    char_to_index[char[0]] = i + 2\n",
        "    index_to_char[i + 2] = char[0]"
      ]
    },
    {
      "cell_type": "code",
      "execution_count": 25,
      "metadata": {
        "colab": {
          "base_uri": "https://localhost:8080/"
        },
        "id": "fpqRkeE7dDT0",
        "outputId": "0ecefa49-b6c6-4b7b-d9bc-ff1841543f05"
      },
      "outputs": [
        {
          "output_type": "execute_result",
          "data": {
            "text/plain": [
              "{'^': 2,\n",
              " 'о': 3,\n",
              " 'а': 4,\n",
              " 'и': 5,\n",
              " 'е': 6,\n",
              " 'в': 7,\n",
              " 'н': 8,\n",
              " 'р': 9,\n",
              " 'с': 10,\n",
              " 'т': 11,\n",
              " 'л': 12,\n",
              " 'м': 13,\n",
              " 'п': 14,\n",
              " 'к': 15,\n",
              " 'у': 16,\n",
              " 'я': 17,\n",
              " 'ш': 18,\n",
              " 'д': 19,\n",
              " 'ы': 20,\n",
              " 'з': 21,\n",
              " 'й': 22,\n",
              " 'ь': 23,\n",
              " 'ю': 24,\n",
              " 'г': 25,\n",
              " 'б': 26,\n",
              " 'ч': 27,\n",
              " 'щ': 28,\n",
              " 'х': 29,\n",
              " 'ж': 30,\n",
              " 'ц': 31,\n",
              " 'ф': 32,\n",
              " 'э': 33,\n",
              " 'ъ': 34,\n",
              " 'ё': 35}"
            ]
          },
          "metadata": {},
          "execution_count": 25
        }
      ],
      "source": [
        "char_to_index"
      ]
    },
    {
      "cell_type": "code",
      "execution_count": 26,
      "metadata": {
        "colab": {
          "base_uri": "https://localhost:8080/"
        },
        "id": "yBT4nRs3bzzc",
        "outputId": "3d1151a0-64df-406a-8c05-71b13ccba777"
      },
      "outputs": [
        {
          "output_type": "execute_result",
          "data": {
            "text/plain": [
              "{2: '^',\n",
              " 3: 'о',\n",
              " 4: 'а',\n",
              " 5: 'и',\n",
              " 6: 'е',\n",
              " 7: 'в',\n",
              " 8: 'н',\n",
              " 9: 'р',\n",
              " 10: 'с',\n",
              " 11: 'т',\n",
              " 12: 'л',\n",
              " 13: 'м',\n",
              " 14: 'п',\n",
              " 15: 'к',\n",
              " 16: 'у',\n",
              " 17: 'я',\n",
              " 18: 'ш',\n",
              " 19: 'д',\n",
              " 20: 'ы',\n",
              " 21: 'з',\n",
              " 22: 'й',\n",
              " 23: 'ь',\n",
              " 24: 'ю',\n",
              " 25: 'г',\n",
              " 26: 'б',\n",
              " 27: 'ч',\n",
              " 28: 'щ',\n",
              " 29: 'х',\n",
              " 30: 'ж',\n",
              " 31: 'ц',\n",
              " 32: 'ф',\n",
              " 33: 'э',\n",
              " 34: 'ъ',\n",
              " 35: 'ё'}"
            ]
          },
          "metadata": {},
          "execution_count": 26
        }
      ],
      "source": [
        "index_to_char"
      ]
    },
    {
      "cell_type": "markdown",
      "metadata": {
        "id": "ixxCqwB-fsbW"
      },
      "source": [
        "#Векторизация"
      ]
    },
    {
      "cell_type": "markdown",
      "metadata": {
        "id": "vZtFpA7BfpK0"
      },
      "source": [
        "## Преобразуем слова в коды"
      ]
    },
    {
      "cell_type": "markdown",
      "metadata": {
        "id": "tjgxtx4ThPiE"
      },
      "source": [
        "Функция для преобразования списка букв в список кодов"
      ]
    },
    {
      "cell_type": "code",
      "execution_count": 27,
      "metadata": {
        "id": "aaFcC87ifsjO"
      },
      "outputs": [],
      "source": [
        "def text_to_sequence(word, char_to_index):\n",
        "    seq = []\n",
        "    for char in word:\n",
        "        index = char_to_index.get(char, 1) # 1 означает неизвестную букву\n",
        "        # Неизвестные буквы не добавляем в выходную последовательность\n",
        "        if index != 1:\n",
        "            seq.append(index)\n",
        "    return seq"
      ]
    },
    {
      "cell_type": "code",
      "execution_count": 28,
      "metadata": {
        "id": "P5dW9Skc4y-u"
      },
      "outputs": [],
      "source": [
        "def stress_pos(word):\n",
        "  i = 0\n",
        "  for char in word:\n",
        "    i += 1\n",
        "    if char == '^':\n",
        "      return i"
      ]
    },
    {
      "cell_type": "code",
      "execution_count": 29,
      "metadata": {
        "id": "gMaEDDCah8JG"
      },
      "outputs": [],
      "source": [
        "word = data['Токены ударений'][15]"
      ]
    },
    {
      "cell_type": "code",
      "execution_count": 30,
      "metadata": {
        "colab": {
          "base_uri": "https://localhost:8080/"
        },
        "id": "0c1XS-wF7fjD",
        "outputId": "2e33a94c-b38d-4962-a9ac-bbfc007200d7"
      },
      "outputs": [
        {
          "output_type": "execute_result",
          "data": {
            "text/plain": [
              "['а', 'а', 'р', 'о', '^', 'н', 'о', 'в', 'ц', 'а', 'м', 'и']"
            ]
          },
          "metadata": {},
          "execution_count": 30
        }
      ],
      "source": [
        "word"
      ]
    },
    {
      "cell_type": "code",
      "execution_count": 31,
      "metadata": {
        "id": "LyTrgICO7PLx"
      },
      "outputs": [],
      "source": [
        "seq = stress_pos(word)"
      ]
    },
    {
      "cell_type": "code",
      "execution_count": 32,
      "metadata": {
        "colab": {
          "base_uri": "https://localhost:8080/"
        },
        "id": "0NJNP6uT7deu",
        "outputId": "3e84dea2-635b-4f86-ad8a-2c49594a38a5"
      },
      "outputs": [
        {
          "output_type": "execute_result",
          "data": {
            "text/plain": [
              "5"
            ]
          },
          "metadata": {},
          "execution_count": 32
        }
      ],
      "source": [
        "seq"
      ]
    },
    {
      "cell_type": "code",
      "execution_count": 33,
      "metadata": {
        "id": "dfclvEaK7YDy"
      },
      "outputs": [],
      "source": [
        "word = data['Токены слов'][0]"
      ]
    },
    {
      "cell_type": "code",
      "execution_count": 34,
      "metadata": {
        "colab": {
          "base_uri": "https://localhost:8080/"
        },
        "id": "2LQjVSWgKgVt",
        "outputId": "65226aab-f46e-4333-cd37-b154c1f63787"
      },
      "outputs": [
        {
          "output_type": "execute_result",
          "data": {
            "text/plain": [
              "['а', 'а', 'к']"
            ]
          },
          "metadata": {},
          "execution_count": 34
        }
      ],
      "source": [
        "word"
      ]
    },
    {
      "cell_type": "code",
      "execution_count": 35,
      "metadata": {
        "id": "WEU9FyZvgq-a"
      },
      "outputs": [],
      "source": [
        "seq = text_to_sequence(word, char_to_index)"
      ]
    },
    {
      "cell_type": "code",
      "execution_count": 36,
      "metadata": {
        "colab": {
          "base_uri": "https://localhost:8080/"
        },
        "id": "N5nnF2f5g5YD",
        "outputId": "2a6a84fb-6625-4966-cefb-40e10cbaac02"
      },
      "outputs": [
        {
          "output_type": "execute_result",
          "data": {
            "text/plain": [
              "[4, 4, 15]"
            ]
          },
          "metadata": {},
          "execution_count": 36
        }
      ],
      "source": [
        "seq"
      ]
    },
    {
      "cell_type": "code",
      "execution_count": 37,
      "metadata": {
        "colab": {
          "base_uri": "https://localhost:8080/",
          "height": 35
        },
        "id": "QYqdf0fzg9AW",
        "outputId": "6bbca119-b782-4278-ec5f-640e4027d002"
      },
      "outputs": [
        {
          "output_type": "execute_result",
          "data": {
            "text/plain": [
              "'о'"
            ],
            "application/vnd.google.colaboratory.intrinsic+json": {
              "type": "string"
            }
          },
          "metadata": {},
          "execution_count": 37
        }
      ],
      "source": [
        "index_to_char[3]"
      ]
    },
    {
      "cell_type": "code",
      "execution_count": 38,
      "metadata": {
        "id": "WaR9xqxahs9t"
      },
      "outputs": [],
      "source": [
        "seq = [char_to_index.get(char, 1) for char in word]"
      ]
    },
    {
      "cell_type": "code",
      "execution_count": 39,
      "metadata": {
        "colab": {
          "base_uri": "https://localhost:8080/"
        },
        "id": "7KCgmixfiNA0",
        "outputId": "49ade9eb-77f3-4adb-f314-11c71da4f91d"
      },
      "outputs": [
        {
          "output_type": "execute_result",
          "data": {
            "text/plain": [
              "[4, 4, 15]"
            ]
          },
          "metadata": {},
          "execution_count": 39
        }
      ],
      "source": [
        "seq"
      ]
    },
    {
      "cell_type": "markdown",
      "metadata": {
        "id": "9WbPzZwCjIgK"
      },
      "source": [
        "Преобразуем все тексты в последовательность кодов слов"
      ]
    },
    {
      "cell_type": "code",
      "execution_count": 40,
      "metadata": {
        "id": "t92mWXLVjQof"
      },
      "outputs": [],
      "source": [
        "data['Номер ударений'] = data.apply(lambda row: stress_pos(row['Токены ударений']), axis=1)"
      ]
    },
    {
      "cell_type": "code",
      "execution_count": 41,
      "metadata": {
        "colab": {
          "base_uri": "https://localhost:8080/",
          "height": 424
        },
        "id": "y10HHUPGkC5z",
        "outputId": "b0f58411-42ed-4065-edba-63b1e5263433"
      },
      "outputs": [
        {
          "output_type": "execute_result",
          "data": {
            "text/plain": [
              "          Ударения      Слова                 Токены ударений  \\\n",
              "0             аа^к        аак                    [а, а, ^, к]   \n",
              "1            аа^ка       аака                 [а, а, ^, к, а]   \n",
              "2            аа^ке       ааке                 [а, а, ^, к, е]   \n",
              "3            аа^ки       ааки                 [а, а, ^, к, и]   \n",
              "4           аа^ков      ааков              [а, а, ^, к, о, в]   \n",
              "...            ...        ...                             ...   \n",
              "588485  ёфика^торе  ёфикаторе  [ё, ф, и, к, а, ^, т, о, р, е]   \n",
              "588486   ёфика^ции   ёфикации     [ё, ф, и, к, а, ^, ц, и, и]   \n",
              "588487   ёфика^цию   ёфикацию     [ё, ф, и, к, а, ^, ц, и, ю]   \n",
              "588488   ёфика^ция   ёфикация     [ё, ф, и, к, а, ^, ц, и, я]   \n",
              "588489  ёфика^циям  ёфикациям  [ё, ф, и, к, а, ^, ц, и, я, м]   \n",
              "\n",
              "                        Токены слов  Номер ударений  \n",
              "0                         [а, а, к]               3  \n",
              "1                      [а, а, к, а]               3  \n",
              "2                      [а, а, к, е]               3  \n",
              "3                      [а, а, к, и]               3  \n",
              "4                   [а, а, к, о, в]               3  \n",
              "...                             ...             ...  \n",
              "588485  [ё, ф, и, к, а, т, о, р, е]               6  \n",
              "588486     [ё, ф, и, к, а, ц, и, и]               6  \n",
              "588487     [ё, ф, и, к, а, ц, и, ю]               6  \n",
              "588488     [ё, ф, и, к, а, ц, и, я]               6  \n",
              "588489  [ё, ф, и, к, а, ц, и, я, м]               6  \n",
              "\n",
              "[588490 rows x 5 columns]"
            ],
            "text/html": [
              "\n",
              "  <div id=\"df-8fff4fc9-96d6-4213-9de5-190d458c50c9\" class=\"colab-df-container\">\n",
              "    <div>\n",
              "<style scoped>\n",
              "    .dataframe tbody tr th:only-of-type {\n",
              "        vertical-align: middle;\n",
              "    }\n",
              "\n",
              "    .dataframe tbody tr th {\n",
              "        vertical-align: top;\n",
              "    }\n",
              "\n",
              "    .dataframe thead th {\n",
              "        text-align: right;\n",
              "    }\n",
              "</style>\n",
              "<table border=\"1\" class=\"dataframe\">\n",
              "  <thead>\n",
              "    <tr style=\"text-align: right;\">\n",
              "      <th></th>\n",
              "      <th>Ударения</th>\n",
              "      <th>Слова</th>\n",
              "      <th>Токены ударений</th>\n",
              "      <th>Токены слов</th>\n",
              "      <th>Номер ударений</th>\n",
              "    </tr>\n",
              "  </thead>\n",
              "  <tbody>\n",
              "    <tr>\n",
              "      <th>0</th>\n",
              "      <td>аа^к</td>\n",
              "      <td>аак</td>\n",
              "      <td>[а, а, ^, к]</td>\n",
              "      <td>[а, а, к]</td>\n",
              "      <td>3</td>\n",
              "    </tr>\n",
              "    <tr>\n",
              "      <th>1</th>\n",
              "      <td>аа^ка</td>\n",
              "      <td>аака</td>\n",
              "      <td>[а, а, ^, к, а]</td>\n",
              "      <td>[а, а, к, а]</td>\n",
              "      <td>3</td>\n",
              "    </tr>\n",
              "    <tr>\n",
              "      <th>2</th>\n",
              "      <td>аа^ке</td>\n",
              "      <td>ааке</td>\n",
              "      <td>[а, а, ^, к, е]</td>\n",
              "      <td>[а, а, к, е]</td>\n",
              "      <td>3</td>\n",
              "    </tr>\n",
              "    <tr>\n",
              "      <th>3</th>\n",
              "      <td>аа^ки</td>\n",
              "      <td>ааки</td>\n",
              "      <td>[а, а, ^, к, и]</td>\n",
              "      <td>[а, а, к, и]</td>\n",
              "      <td>3</td>\n",
              "    </tr>\n",
              "    <tr>\n",
              "      <th>4</th>\n",
              "      <td>аа^ков</td>\n",
              "      <td>ааков</td>\n",
              "      <td>[а, а, ^, к, о, в]</td>\n",
              "      <td>[а, а, к, о, в]</td>\n",
              "      <td>3</td>\n",
              "    </tr>\n",
              "    <tr>\n",
              "      <th>...</th>\n",
              "      <td>...</td>\n",
              "      <td>...</td>\n",
              "      <td>...</td>\n",
              "      <td>...</td>\n",
              "      <td>...</td>\n",
              "    </tr>\n",
              "    <tr>\n",
              "      <th>588485</th>\n",
              "      <td>ёфика^торе</td>\n",
              "      <td>ёфикаторе</td>\n",
              "      <td>[ё, ф, и, к, а, ^, т, о, р, е]</td>\n",
              "      <td>[ё, ф, и, к, а, т, о, р, е]</td>\n",
              "      <td>6</td>\n",
              "    </tr>\n",
              "    <tr>\n",
              "      <th>588486</th>\n",
              "      <td>ёфика^ции</td>\n",
              "      <td>ёфикации</td>\n",
              "      <td>[ё, ф, и, к, а, ^, ц, и, и]</td>\n",
              "      <td>[ё, ф, и, к, а, ц, и, и]</td>\n",
              "      <td>6</td>\n",
              "    </tr>\n",
              "    <tr>\n",
              "      <th>588487</th>\n",
              "      <td>ёфика^цию</td>\n",
              "      <td>ёфикацию</td>\n",
              "      <td>[ё, ф, и, к, а, ^, ц, и, ю]</td>\n",
              "      <td>[ё, ф, и, к, а, ц, и, ю]</td>\n",
              "      <td>6</td>\n",
              "    </tr>\n",
              "    <tr>\n",
              "      <th>588488</th>\n",
              "      <td>ёфика^ция</td>\n",
              "      <td>ёфикация</td>\n",
              "      <td>[ё, ф, и, к, а, ^, ц, и, я]</td>\n",
              "      <td>[ё, ф, и, к, а, ц, и, я]</td>\n",
              "      <td>6</td>\n",
              "    </tr>\n",
              "    <tr>\n",
              "      <th>588489</th>\n",
              "      <td>ёфика^циям</td>\n",
              "      <td>ёфикациям</td>\n",
              "      <td>[ё, ф, и, к, а, ^, ц, и, я, м]</td>\n",
              "      <td>[ё, ф, и, к, а, ц, и, я, м]</td>\n",
              "      <td>6</td>\n",
              "    </tr>\n",
              "  </tbody>\n",
              "</table>\n",
              "<p>588490 rows × 5 columns</p>\n",
              "</div>\n",
              "    <div class=\"colab-df-buttons\">\n",
              "\n",
              "  <div class=\"colab-df-container\">\n",
              "    <button class=\"colab-df-convert\" onclick=\"convertToInteractive('df-8fff4fc9-96d6-4213-9de5-190d458c50c9')\"\n",
              "            title=\"Convert this dataframe to an interactive table.\"\n",
              "            style=\"display:none;\">\n",
              "\n",
              "  <svg xmlns=\"http://www.w3.org/2000/svg\" height=\"24px\" viewBox=\"0 -960 960 960\">\n",
              "    <path d=\"M120-120v-720h720v720H120Zm60-500h600v-160H180v160Zm220 220h160v-160H400v160Zm0 220h160v-160H400v160ZM180-400h160v-160H180v160Zm440 0h160v-160H620v160ZM180-180h160v-160H180v160Zm440 0h160v-160H620v160Z\"/>\n",
              "  </svg>\n",
              "    </button>\n",
              "\n",
              "  <style>\n",
              "    .colab-df-container {\n",
              "      display:flex;\n",
              "      gap: 12px;\n",
              "    }\n",
              "\n",
              "    .colab-df-convert {\n",
              "      background-color: #E8F0FE;\n",
              "      border: none;\n",
              "      border-radius: 50%;\n",
              "      cursor: pointer;\n",
              "      display: none;\n",
              "      fill: #1967D2;\n",
              "      height: 32px;\n",
              "      padding: 0 0 0 0;\n",
              "      width: 32px;\n",
              "    }\n",
              "\n",
              "    .colab-df-convert:hover {\n",
              "      background-color: #E2EBFA;\n",
              "      box-shadow: 0px 1px 2px rgba(60, 64, 67, 0.3), 0px 1px 3px 1px rgba(60, 64, 67, 0.15);\n",
              "      fill: #174EA6;\n",
              "    }\n",
              "\n",
              "    .colab-df-buttons div {\n",
              "      margin-bottom: 4px;\n",
              "    }\n",
              "\n",
              "    [theme=dark] .colab-df-convert {\n",
              "      background-color: #3B4455;\n",
              "      fill: #D2E3FC;\n",
              "    }\n",
              "\n",
              "    [theme=dark] .colab-df-convert:hover {\n",
              "      background-color: #434B5C;\n",
              "      box-shadow: 0px 1px 3px 1px rgba(0, 0, 0, 0.15);\n",
              "      filter: drop-shadow(0px 1px 2px rgba(0, 0, 0, 0.3));\n",
              "      fill: #FFFFFF;\n",
              "    }\n",
              "  </style>\n",
              "\n",
              "    <script>\n",
              "      const buttonEl =\n",
              "        document.querySelector('#df-8fff4fc9-96d6-4213-9de5-190d458c50c9 button.colab-df-convert');\n",
              "      buttonEl.style.display =\n",
              "        google.colab.kernel.accessAllowed ? 'block' : 'none';\n",
              "\n",
              "      async function convertToInteractive(key) {\n",
              "        const element = document.querySelector('#df-8fff4fc9-96d6-4213-9de5-190d458c50c9');\n",
              "        const dataTable =\n",
              "          await google.colab.kernel.invokeFunction('convertToInteractive',\n",
              "                                                    [key], {});\n",
              "        if (!dataTable) return;\n",
              "\n",
              "        const docLinkHtml = 'Like what you see? Visit the ' +\n",
              "          '<a target=\"_blank\" href=https://colab.research.google.com/notebooks/data_table.ipynb>data table notebook</a>'\n",
              "          + ' to learn more about interactive tables.';\n",
              "        element.innerHTML = '';\n",
              "        dataTable['output_type'] = 'display_data';\n",
              "        await google.colab.output.renderOutput(dataTable, element);\n",
              "        const docLink = document.createElement('div');\n",
              "        docLink.innerHTML = docLinkHtml;\n",
              "        element.appendChild(docLink);\n",
              "      }\n",
              "    </script>\n",
              "  </div>\n",
              "\n",
              "\n",
              "<div id=\"df-0ef3cbdc-27e0-4081-adbc-2671bb96dfec\">\n",
              "  <button class=\"colab-df-quickchart\" onclick=\"quickchart('df-0ef3cbdc-27e0-4081-adbc-2671bb96dfec')\"\n",
              "            title=\"Suggest charts.\"\n",
              "            style=\"display:none;\">\n",
              "\n",
              "<svg xmlns=\"http://www.w3.org/2000/svg\" height=\"24px\"viewBox=\"0 0 24 24\"\n",
              "     width=\"24px\">\n",
              "    <g>\n",
              "        <path d=\"M19 3H5c-1.1 0-2 .9-2 2v14c0 1.1.9 2 2 2h14c1.1 0 2-.9 2-2V5c0-1.1-.9-2-2-2zM9 17H7v-7h2v7zm4 0h-2V7h2v10zm4 0h-2v-4h2v4z\"/>\n",
              "    </g>\n",
              "</svg>\n",
              "  </button>\n",
              "\n",
              "<style>\n",
              "  .colab-df-quickchart {\n",
              "      --bg-color: #E8F0FE;\n",
              "      --fill-color: #1967D2;\n",
              "      --hover-bg-color: #E2EBFA;\n",
              "      --hover-fill-color: #174EA6;\n",
              "      --disabled-fill-color: #AAA;\n",
              "      --disabled-bg-color: #DDD;\n",
              "  }\n",
              "\n",
              "  [theme=dark] .colab-df-quickchart {\n",
              "      --bg-color: #3B4455;\n",
              "      --fill-color: #D2E3FC;\n",
              "      --hover-bg-color: #434B5C;\n",
              "      --hover-fill-color: #FFFFFF;\n",
              "      --disabled-bg-color: #3B4455;\n",
              "      --disabled-fill-color: #666;\n",
              "  }\n",
              "\n",
              "  .colab-df-quickchart {\n",
              "    background-color: var(--bg-color);\n",
              "    border: none;\n",
              "    border-radius: 50%;\n",
              "    cursor: pointer;\n",
              "    display: none;\n",
              "    fill: var(--fill-color);\n",
              "    height: 32px;\n",
              "    padding: 0;\n",
              "    width: 32px;\n",
              "  }\n",
              "\n",
              "  .colab-df-quickchart:hover {\n",
              "    background-color: var(--hover-bg-color);\n",
              "    box-shadow: 0 1px 2px rgba(60, 64, 67, 0.3), 0 1px 3px 1px rgba(60, 64, 67, 0.15);\n",
              "    fill: var(--button-hover-fill-color);\n",
              "  }\n",
              "\n",
              "  .colab-df-quickchart-complete:disabled,\n",
              "  .colab-df-quickchart-complete:disabled:hover {\n",
              "    background-color: var(--disabled-bg-color);\n",
              "    fill: var(--disabled-fill-color);\n",
              "    box-shadow: none;\n",
              "  }\n",
              "\n",
              "  .colab-df-spinner {\n",
              "    border: 2px solid var(--fill-color);\n",
              "    border-color: transparent;\n",
              "    border-bottom-color: var(--fill-color);\n",
              "    animation:\n",
              "      spin 1s steps(1) infinite;\n",
              "  }\n",
              "\n",
              "  @keyframes spin {\n",
              "    0% {\n",
              "      border-color: transparent;\n",
              "      border-bottom-color: var(--fill-color);\n",
              "      border-left-color: var(--fill-color);\n",
              "    }\n",
              "    20% {\n",
              "      border-color: transparent;\n",
              "      border-left-color: var(--fill-color);\n",
              "      border-top-color: var(--fill-color);\n",
              "    }\n",
              "    30% {\n",
              "      border-color: transparent;\n",
              "      border-left-color: var(--fill-color);\n",
              "      border-top-color: var(--fill-color);\n",
              "      border-right-color: var(--fill-color);\n",
              "    }\n",
              "    40% {\n",
              "      border-color: transparent;\n",
              "      border-right-color: var(--fill-color);\n",
              "      border-top-color: var(--fill-color);\n",
              "    }\n",
              "    60% {\n",
              "      border-color: transparent;\n",
              "      border-right-color: var(--fill-color);\n",
              "    }\n",
              "    80% {\n",
              "      border-color: transparent;\n",
              "      border-right-color: var(--fill-color);\n",
              "      border-bottom-color: var(--fill-color);\n",
              "    }\n",
              "    90% {\n",
              "      border-color: transparent;\n",
              "      border-bottom-color: var(--fill-color);\n",
              "    }\n",
              "  }\n",
              "</style>\n",
              "\n",
              "  <script>\n",
              "    async function quickchart(key) {\n",
              "      const quickchartButtonEl =\n",
              "        document.querySelector('#' + key + ' button');\n",
              "      quickchartButtonEl.disabled = true;  // To prevent multiple clicks.\n",
              "      quickchartButtonEl.classList.add('colab-df-spinner');\n",
              "      try {\n",
              "        const charts = await google.colab.kernel.invokeFunction(\n",
              "            'suggestCharts', [key], {});\n",
              "      } catch (error) {\n",
              "        console.error('Error during call to suggestCharts:', error);\n",
              "      }\n",
              "      quickchartButtonEl.classList.remove('colab-df-spinner');\n",
              "      quickchartButtonEl.classList.add('colab-df-quickchart-complete');\n",
              "    }\n",
              "    (() => {\n",
              "      let quickchartButtonEl =\n",
              "        document.querySelector('#df-0ef3cbdc-27e0-4081-adbc-2671bb96dfec button');\n",
              "      quickchartButtonEl.style.display =\n",
              "        google.colab.kernel.accessAllowed ? 'block' : 'none';\n",
              "    })();\n",
              "  </script>\n",
              "</div>\n",
              "    </div>\n",
              "  </div>\n"
            ]
          },
          "metadata": {},
          "execution_count": 41
        }
      ],
      "source": [
        "data"
      ]
    },
    {
      "cell_type": "code",
      "execution_count": 42,
      "metadata": {
        "colab": {
          "base_uri": "https://localhost:8080/",
          "height": 35
        },
        "id": "yfTtudLvTgYe",
        "outputId": "daca088f-021d-4fa4-aa1f-b1b87e76424c"
      },
      "outputs": [
        {
          "output_type": "execute_result",
          "data": {
            "text/plain": [
              "'аа^ке'"
            ],
            "application/vnd.google.colaboratory.intrinsic+json": {
              "type": "string"
            }
          },
          "metadata": {},
          "execution_count": 42
        }
      ],
      "source": [
        "data['Ударения'][2]"
      ]
    },
    {
      "cell_type": "code",
      "execution_count": 43,
      "metadata": {
        "colab": {
          "base_uri": "https://localhost:8080/"
        },
        "id": "tf8LZLzOTx5S",
        "outputId": "7e146266-631c-4272-fee4-16fd81319691"
      },
      "outputs": [
        {
          "output_type": "execute_result",
          "data": {
            "text/plain": [
              "['а', 'а', '^', 'к', 'е']"
            ]
          },
          "metadata": {},
          "execution_count": 43
        }
      ],
      "source": [
        "data['Токены ударений'][2]"
      ]
    },
    {
      "cell_type": "code",
      "execution_count": 44,
      "metadata": {
        "colab": {
          "base_uri": "https://localhost:8080/"
        },
        "id": "cVEbKhrFTugo",
        "outputId": "1116d80b-4aee-43b0-a98c-bcbf089408f3"
      },
      "outputs": [
        {
          "output_type": "execute_result",
          "data": {
            "text/plain": [
              "3"
            ]
          },
          "metadata": {},
          "execution_count": 44
        }
      ],
      "source": [
        "data['Номер ударений'][2]"
      ]
    },
    {
      "cell_type": "code",
      "execution_count": 45,
      "metadata": {
        "id": "K0mjhVcIlvc-"
      },
      "outputs": [],
      "source": [
        "data['Коды слов'] = data.apply(lambda row: text_to_sequence(row['Токены слов'], char_to_index), axis=1)"
      ]
    },
    {
      "cell_type": "code",
      "execution_count": 46,
      "metadata": {
        "colab": {
          "base_uri": "https://localhost:8080/",
          "height": 424
        },
        "id": "9kFSb-Dplvc-",
        "outputId": "18b393d4-fb63-4649-cb33-0126c3520a5d"
      },
      "outputs": [
        {
          "output_type": "execute_result",
          "data": {
            "text/plain": [
              "          Ударения      Слова                 Токены ударений  \\\n",
              "0             аа^к        аак                    [а, а, ^, к]   \n",
              "1            аа^ка       аака                 [а, а, ^, к, а]   \n",
              "2            аа^ке       ааке                 [а, а, ^, к, е]   \n",
              "3            аа^ки       ааки                 [а, а, ^, к, и]   \n",
              "4           аа^ков      ааков              [а, а, ^, к, о, в]   \n",
              "...            ...        ...                             ...   \n",
              "588485  ёфика^торе  ёфикаторе  [ё, ф, и, к, а, ^, т, о, р, е]   \n",
              "588486   ёфика^ции   ёфикации     [ё, ф, и, к, а, ^, ц, и, и]   \n",
              "588487   ёфика^цию   ёфикацию     [ё, ф, и, к, а, ^, ц, и, ю]   \n",
              "588488   ёфика^ция   ёфикация     [ё, ф, и, к, а, ^, ц, и, я]   \n",
              "588489  ёфика^циям  ёфикациям  [ё, ф, и, к, а, ^, ц, и, я, м]   \n",
              "\n",
              "                        Токены слов  Номер ударений  \\\n",
              "0                         [а, а, к]               3   \n",
              "1                      [а, а, к, а]               3   \n",
              "2                      [а, а, к, е]               3   \n",
              "3                      [а, а, к, и]               3   \n",
              "4                   [а, а, к, о, в]               3   \n",
              "...                             ...             ...   \n",
              "588485  [ё, ф, и, к, а, т, о, р, е]               6   \n",
              "588486     [ё, ф, и, к, а, ц, и, и]               6   \n",
              "588487     [ё, ф, и, к, а, ц, и, ю]               6   \n",
              "588488     [ё, ф, и, к, а, ц, и, я]               6   \n",
              "588489  [ё, ф, и, к, а, ц, и, я, м]               6   \n",
              "\n",
              "                                Коды слов  \n",
              "0                              [4, 4, 15]  \n",
              "1                           [4, 4, 15, 4]  \n",
              "2                           [4, 4, 15, 6]  \n",
              "3                           [4, 4, 15, 5]  \n",
              "4                        [4, 4, 15, 3, 7]  \n",
              "...                                   ...  \n",
              "588485    [35, 32, 5, 15, 4, 11, 3, 9, 6]  \n",
              "588486       [35, 32, 5, 15, 4, 31, 5, 5]  \n",
              "588487      [35, 32, 5, 15, 4, 31, 5, 24]  \n",
              "588488      [35, 32, 5, 15, 4, 31, 5, 17]  \n",
              "588489  [35, 32, 5, 15, 4, 31, 5, 17, 13]  \n",
              "\n",
              "[588490 rows x 6 columns]"
            ],
            "text/html": [
              "\n",
              "  <div id=\"df-5219e7ec-d386-4ec2-b8a2-750bb831c3d1\" class=\"colab-df-container\">\n",
              "    <div>\n",
              "<style scoped>\n",
              "    .dataframe tbody tr th:only-of-type {\n",
              "        vertical-align: middle;\n",
              "    }\n",
              "\n",
              "    .dataframe tbody tr th {\n",
              "        vertical-align: top;\n",
              "    }\n",
              "\n",
              "    .dataframe thead th {\n",
              "        text-align: right;\n",
              "    }\n",
              "</style>\n",
              "<table border=\"1\" class=\"dataframe\">\n",
              "  <thead>\n",
              "    <tr style=\"text-align: right;\">\n",
              "      <th></th>\n",
              "      <th>Ударения</th>\n",
              "      <th>Слова</th>\n",
              "      <th>Токены ударений</th>\n",
              "      <th>Токены слов</th>\n",
              "      <th>Номер ударений</th>\n",
              "      <th>Коды слов</th>\n",
              "    </tr>\n",
              "  </thead>\n",
              "  <tbody>\n",
              "    <tr>\n",
              "      <th>0</th>\n",
              "      <td>аа^к</td>\n",
              "      <td>аак</td>\n",
              "      <td>[а, а, ^, к]</td>\n",
              "      <td>[а, а, к]</td>\n",
              "      <td>3</td>\n",
              "      <td>[4, 4, 15]</td>\n",
              "    </tr>\n",
              "    <tr>\n",
              "      <th>1</th>\n",
              "      <td>аа^ка</td>\n",
              "      <td>аака</td>\n",
              "      <td>[а, а, ^, к, а]</td>\n",
              "      <td>[а, а, к, а]</td>\n",
              "      <td>3</td>\n",
              "      <td>[4, 4, 15, 4]</td>\n",
              "    </tr>\n",
              "    <tr>\n",
              "      <th>2</th>\n",
              "      <td>аа^ке</td>\n",
              "      <td>ааке</td>\n",
              "      <td>[а, а, ^, к, е]</td>\n",
              "      <td>[а, а, к, е]</td>\n",
              "      <td>3</td>\n",
              "      <td>[4, 4, 15, 6]</td>\n",
              "    </tr>\n",
              "    <tr>\n",
              "      <th>3</th>\n",
              "      <td>аа^ки</td>\n",
              "      <td>ааки</td>\n",
              "      <td>[а, а, ^, к, и]</td>\n",
              "      <td>[а, а, к, и]</td>\n",
              "      <td>3</td>\n",
              "      <td>[4, 4, 15, 5]</td>\n",
              "    </tr>\n",
              "    <tr>\n",
              "      <th>4</th>\n",
              "      <td>аа^ков</td>\n",
              "      <td>ааков</td>\n",
              "      <td>[а, а, ^, к, о, в]</td>\n",
              "      <td>[а, а, к, о, в]</td>\n",
              "      <td>3</td>\n",
              "      <td>[4, 4, 15, 3, 7]</td>\n",
              "    </tr>\n",
              "    <tr>\n",
              "      <th>...</th>\n",
              "      <td>...</td>\n",
              "      <td>...</td>\n",
              "      <td>...</td>\n",
              "      <td>...</td>\n",
              "      <td>...</td>\n",
              "      <td>...</td>\n",
              "    </tr>\n",
              "    <tr>\n",
              "      <th>588485</th>\n",
              "      <td>ёфика^торе</td>\n",
              "      <td>ёфикаторе</td>\n",
              "      <td>[ё, ф, и, к, а, ^, т, о, р, е]</td>\n",
              "      <td>[ё, ф, и, к, а, т, о, р, е]</td>\n",
              "      <td>6</td>\n",
              "      <td>[35, 32, 5, 15, 4, 11, 3, 9, 6]</td>\n",
              "    </tr>\n",
              "    <tr>\n",
              "      <th>588486</th>\n",
              "      <td>ёфика^ции</td>\n",
              "      <td>ёфикации</td>\n",
              "      <td>[ё, ф, и, к, а, ^, ц, и, и]</td>\n",
              "      <td>[ё, ф, и, к, а, ц, и, и]</td>\n",
              "      <td>6</td>\n",
              "      <td>[35, 32, 5, 15, 4, 31, 5, 5]</td>\n",
              "    </tr>\n",
              "    <tr>\n",
              "      <th>588487</th>\n",
              "      <td>ёфика^цию</td>\n",
              "      <td>ёфикацию</td>\n",
              "      <td>[ё, ф, и, к, а, ^, ц, и, ю]</td>\n",
              "      <td>[ё, ф, и, к, а, ц, и, ю]</td>\n",
              "      <td>6</td>\n",
              "      <td>[35, 32, 5, 15, 4, 31, 5, 24]</td>\n",
              "    </tr>\n",
              "    <tr>\n",
              "      <th>588488</th>\n",
              "      <td>ёфика^ция</td>\n",
              "      <td>ёфикация</td>\n",
              "      <td>[ё, ф, и, к, а, ^, ц, и, я]</td>\n",
              "      <td>[ё, ф, и, к, а, ц, и, я]</td>\n",
              "      <td>6</td>\n",
              "      <td>[35, 32, 5, 15, 4, 31, 5, 17]</td>\n",
              "    </tr>\n",
              "    <tr>\n",
              "      <th>588489</th>\n",
              "      <td>ёфика^циям</td>\n",
              "      <td>ёфикациям</td>\n",
              "      <td>[ё, ф, и, к, а, ^, ц, и, я, м]</td>\n",
              "      <td>[ё, ф, и, к, а, ц, и, я, м]</td>\n",
              "      <td>6</td>\n",
              "      <td>[35, 32, 5, 15, 4, 31, 5, 17, 13]</td>\n",
              "    </tr>\n",
              "  </tbody>\n",
              "</table>\n",
              "<p>588490 rows × 6 columns</p>\n",
              "</div>\n",
              "    <div class=\"colab-df-buttons\">\n",
              "\n",
              "  <div class=\"colab-df-container\">\n",
              "    <button class=\"colab-df-convert\" onclick=\"convertToInteractive('df-5219e7ec-d386-4ec2-b8a2-750bb831c3d1')\"\n",
              "            title=\"Convert this dataframe to an interactive table.\"\n",
              "            style=\"display:none;\">\n",
              "\n",
              "  <svg xmlns=\"http://www.w3.org/2000/svg\" height=\"24px\" viewBox=\"0 -960 960 960\">\n",
              "    <path d=\"M120-120v-720h720v720H120Zm60-500h600v-160H180v160Zm220 220h160v-160H400v160Zm0 220h160v-160H400v160ZM180-400h160v-160H180v160Zm440 0h160v-160H620v160ZM180-180h160v-160H180v160Zm440 0h160v-160H620v160Z\"/>\n",
              "  </svg>\n",
              "    </button>\n",
              "\n",
              "  <style>\n",
              "    .colab-df-container {\n",
              "      display:flex;\n",
              "      gap: 12px;\n",
              "    }\n",
              "\n",
              "    .colab-df-convert {\n",
              "      background-color: #E8F0FE;\n",
              "      border: none;\n",
              "      border-radius: 50%;\n",
              "      cursor: pointer;\n",
              "      display: none;\n",
              "      fill: #1967D2;\n",
              "      height: 32px;\n",
              "      padding: 0 0 0 0;\n",
              "      width: 32px;\n",
              "    }\n",
              "\n",
              "    .colab-df-convert:hover {\n",
              "      background-color: #E2EBFA;\n",
              "      box-shadow: 0px 1px 2px rgba(60, 64, 67, 0.3), 0px 1px 3px 1px rgba(60, 64, 67, 0.15);\n",
              "      fill: #174EA6;\n",
              "    }\n",
              "\n",
              "    .colab-df-buttons div {\n",
              "      margin-bottom: 4px;\n",
              "    }\n",
              "\n",
              "    [theme=dark] .colab-df-convert {\n",
              "      background-color: #3B4455;\n",
              "      fill: #D2E3FC;\n",
              "    }\n",
              "\n",
              "    [theme=dark] .colab-df-convert:hover {\n",
              "      background-color: #434B5C;\n",
              "      box-shadow: 0px 1px 3px 1px rgba(0, 0, 0, 0.15);\n",
              "      filter: drop-shadow(0px 1px 2px rgba(0, 0, 0, 0.3));\n",
              "      fill: #FFFFFF;\n",
              "    }\n",
              "  </style>\n",
              "\n",
              "    <script>\n",
              "      const buttonEl =\n",
              "        document.querySelector('#df-5219e7ec-d386-4ec2-b8a2-750bb831c3d1 button.colab-df-convert');\n",
              "      buttonEl.style.display =\n",
              "        google.colab.kernel.accessAllowed ? 'block' : 'none';\n",
              "\n",
              "      async function convertToInteractive(key) {\n",
              "        const element = document.querySelector('#df-5219e7ec-d386-4ec2-b8a2-750bb831c3d1');\n",
              "        const dataTable =\n",
              "          await google.colab.kernel.invokeFunction('convertToInteractive',\n",
              "                                                    [key], {});\n",
              "        if (!dataTable) return;\n",
              "\n",
              "        const docLinkHtml = 'Like what you see? Visit the ' +\n",
              "          '<a target=\"_blank\" href=https://colab.research.google.com/notebooks/data_table.ipynb>data table notebook</a>'\n",
              "          + ' to learn more about interactive tables.';\n",
              "        element.innerHTML = '';\n",
              "        dataTable['output_type'] = 'display_data';\n",
              "        await google.colab.output.renderOutput(dataTable, element);\n",
              "        const docLink = document.createElement('div');\n",
              "        docLink.innerHTML = docLinkHtml;\n",
              "        element.appendChild(docLink);\n",
              "      }\n",
              "    </script>\n",
              "  </div>\n",
              "\n",
              "\n",
              "<div id=\"df-0c479fdc-52bd-4d9a-b79a-94852605b4ee\">\n",
              "  <button class=\"colab-df-quickchart\" onclick=\"quickchart('df-0c479fdc-52bd-4d9a-b79a-94852605b4ee')\"\n",
              "            title=\"Suggest charts.\"\n",
              "            style=\"display:none;\">\n",
              "\n",
              "<svg xmlns=\"http://www.w3.org/2000/svg\" height=\"24px\"viewBox=\"0 0 24 24\"\n",
              "     width=\"24px\">\n",
              "    <g>\n",
              "        <path d=\"M19 3H5c-1.1 0-2 .9-2 2v14c0 1.1.9 2 2 2h14c1.1 0 2-.9 2-2V5c0-1.1-.9-2-2-2zM9 17H7v-7h2v7zm4 0h-2V7h2v10zm4 0h-2v-4h2v4z\"/>\n",
              "    </g>\n",
              "</svg>\n",
              "  </button>\n",
              "\n",
              "<style>\n",
              "  .colab-df-quickchart {\n",
              "      --bg-color: #E8F0FE;\n",
              "      --fill-color: #1967D2;\n",
              "      --hover-bg-color: #E2EBFA;\n",
              "      --hover-fill-color: #174EA6;\n",
              "      --disabled-fill-color: #AAA;\n",
              "      --disabled-bg-color: #DDD;\n",
              "  }\n",
              "\n",
              "  [theme=dark] .colab-df-quickchart {\n",
              "      --bg-color: #3B4455;\n",
              "      --fill-color: #D2E3FC;\n",
              "      --hover-bg-color: #434B5C;\n",
              "      --hover-fill-color: #FFFFFF;\n",
              "      --disabled-bg-color: #3B4455;\n",
              "      --disabled-fill-color: #666;\n",
              "  }\n",
              "\n",
              "  .colab-df-quickchart {\n",
              "    background-color: var(--bg-color);\n",
              "    border: none;\n",
              "    border-radius: 50%;\n",
              "    cursor: pointer;\n",
              "    display: none;\n",
              "    fill: var(--fill-color);\n",
              "    height: 32px;\n",
              "    padding: 0;\n",
              "    width: 32px;\n",
              "  }\n",
              "\n",
              "  .colab-df-quickchart:hover {\n",
              "    background-color: var(--hover-bg-color);\n",
              "    box-shadow: 0 1px 2px rgba(60, 64, 67, 0.3), 0 1px 3px 1px rgba(60, 64, 67, 0.15);\n",
              "    fill: var(--button-hover-fill-color);\n",
              "  }\n",
              "\n",
              "  .colab-df-quickchart-complete:disabled,\n",
              "  .colab-df-quickchart-complete:disabled:hover {\n",
              "    background-color: var(--disabled-bg-color);\n",
              "    fill: var(--disabled-fill-color);\n",
              "    box-shadow: none;\n",
              "  }\n",
              "\n",
              "  .colab-df-spinner {\n",
              "    border: 2px solid var(--fill-color);\n",
              "    border-color: transparent;\n",
              "    border-bottom-color: var(--fill-color);\n",
              "    animation:\n",
              "      spin 1s steps(1) infinite;\n",
              "  }\n",
              "\n",
              "  @keyframes spin {\n",
              "    0% {\n",
              "      border-color: transparent;\n",
              "      border-bottom-color: var(--fill-color);\n",
              "      border-left-color: var(--fill-color);\n",
              "    }\n",
              "    20% {\n",
              "      border-color: transparent;\n",
              "      border-left-color: var(--fill-color);\n",
              "      border-top-color: var(--fill-color);\n",
              "    }\n",
              "    30% {\n",
              "      border-color: transparent;\n",
              "      border-left-color: var(--fill-color);\n",
              "      border-top-color: var(--fill-color);\n",
              "      border-right-color: var(--fill-color);\n",
              "    }\n",
              "    40% {\n",
              "      border-color: transparent;\n",
              "      border-right-color: var(--fill-color);\n",
              "      border-top-color: var(--fill-color);\n",
              "    }\n",
              "    60% {\n",
              "      border-color: transparent;\n",
              "      border-right-color: var(--fill-color);\n",
              "    }\n",
              "    80% {\n",
              "      border-color: transparent;\n",
              "      border-right-color: var(--fill-color);\n",
              "      border-bottom-color: var(--fill-color);\n",
              "    }\n",
              "    90% {\n",
              "      border-color: transparent;\n",
              "      border-bottom-color: var(--fill-color);\n",
              "    }\n",
              "  }\n",
              "</style>\n",
              "\n",
              "  <script>\n",
              "    async function quickchart(key) {\n",
              "      const quickchartButtonEl =\n",
              "        document.querySelector('#' + key + ' button');\n",
              "      quickchartButtonEl.disabled = true;  // To prevent multiple clicks.\n",
              "      quickchartButtonEl.classList.add('colab-df-spinner');\n",
              "      try {\n",
              "        const charts = await google.colab.kernel.invokeFunction(\n",
              "            'suggestCharts', [key], {});\n",
              "      } catch (error) {\n",
              "        console.error('Error during call to suggestCharts:', error);\n",
              "      }\n",
              "      quickchartButtonEl.classList.remove('colab-df-spinner');\n",
              "      quickchartButtonEl.classList.add('colab-df-quickchart-complete');\n",
              "    }\n",
              "    (() => {\n",
              "      let quickchartButtonEl =\n",
              "        document.querySelector('#df-0c479fdc-52bd-4d9a-b79a-94852605b4ee button');\n",
              "      quickchartButtonEl.style.display =\n",
              "        google.colab.kernel.accessAllowed ? 'block' : 'none';\n",
              "    })();\n",
              "  </script>\n",
              "</div>\n",
              "    </div>\n",
              "  </div>\n"
            ]
          },
          "metadata": {},
          "execution_count": 46
        }
      ],
      "source": [
        "data"
      ]
    },
    {
      "cell_type": "code",
      "execution_count": 47,
      "metadata": {
        "colab": {
          "base_uri": "https://localhost:8080/",
          "height": 35
        },
        "id": "yWEg1ow_lvc-",
        "outputId": "a47f7791-0bda-433f-fd4d-929c75eb7646"
      },
      "outputs": [
        {
          "output_type": "execute_result",
          "data": {
            "text/plain": [
              "'ааке'"
            ],
            "application/vnd.google.colaboratory.intrinsic+json": {
              "type": "string"
            }
          },
          "metadata": {},
          "execution_count": 47
        }
      ],
      "source": [
        "data['Слова'][2]"
      ]
    },
    {
      "cell_type": "code",
      "execution_count": 48,
      "metadata": {
        "colab": {
          "base_uri": "https://localhost:8080/"
        },
        "id": "6OFGUpKylvc_",
        "outputId": "2fe6e484-a664-4dc7-b22d-f179efbce79c"
      },
      "outputs": [
        {
          "output_type": "execute_result",
          "data": {
            "text/plain": [
              "['а', 'а', 'к', 'е']"
            ]
          },
          "metadata": {},
          "execution_count": 48
        }
      ],
      "source": [
        "data['Токены слов'][2]"
      ]
    },
    {
      "cell_type": "markdown",
      "source": [
        "##Находим максимальную длину слов и составляем векторы"
      ],
      "metadata": {
        "id": "fOAzYjTPwoWN"
      }
    },
    {
      "cell_type": "code",
      "execution_count": 49,
      "metadata": {
        "id": "DbEp5CMhlvc_"
      },
      "outputs": [],
      "source": [
        "max = 0\n",
        "indx = 0\n",
        "i = 0\n",
        "for row in data['Коды слов']:\n",
        "  i+=1\n",
        "  if len(row) > max:\n",
        "    indx = i\n",
        "    max = len(row)"
      ]
    },
    {
      "cell_type": "code",
      "source": [
        "max"
      ],
      "metadata": {
        "colab": {
          "base_uri": "https://localhost:8080/"
        },
        "id": "IkPW4uKkrSO-",
        "outputId": "f2c2d395-28ba-4d3e-860c-62b27aecbff7"
      },
      "execution_count": 50,
      "outputs": [
        {
          "output_type": "execute_result",
          "data": {
            "text/plain": [
              "36"
            ]
          },
          "metadata": {},
          "execution_count": 50
        }
      ]
    },
    {
      "cell_type": "code",
      "source": [
        "indx"
      ],
      "metadata": {
        "colab": {
          "base_uri": "https://localhost:8080/"
        },
        "id": "RHIQzbqf5IJ8",
        "outputId": "00ebe424-5be7-46b6-ccf4-42f70f46bc04"
      },
      "execution_count": 51,
      "outputs": [
        {
          "output_type": "execute_result",
          "data": {
            "text/plain": [
              "543271"
            ]
          },
          "metadata": {},
          "execution_count": 51
        }
      ]
    },
    {
      "cell_type": "code",
      "source": [
        "def vectorize(seq,max):\n",
        "  lst = seq.copy()\n",
        "  for i in range(len(seq),max):\n",
        "    lst.append(0)\n",
        "  return np.array(lst)"
      ],
      "metadata": {
        "id": "prYSTehjtoyL"
      },
      "execution_count": 54,
      "outputs": []
    },
    {
      "cell_type": "code",
      "source": [
        "lll = vectorize(data['Коды слов'][0],max)\n",
        "lll"
      ],
      "metadata": {
        "id": "1qImpT-XujQk",
        "colab": {
          "base_uri": "https://localhost:8080/"
        },
        "outputId": "15d7a293-ca36-4764-c025-0c3fd1bb8c47"
      },
      "execution_count": 55,
      "outputs": [
        {
          "output_type": "execute_result",
          "data": {
            "text/plain": [
              "array([ 4,  4, 15,  0,  0,  0,  0,  0,  0,  0,  0,  0,  0,  0,  0,  0,  0,\n",
              "        0,  0,  0,  0,  0,  0,  0,  0,  0,  0,  0,  0,  0,  0,  0,  0,  0,\n",
              "        0,  0])"
            ]
          },
          "metadata": {},
          "execution_count": 55
        }
      ]
    },
    {
      "cell_type": "code",
      "source": [
        "data['Векторы слов'] = data.apply(lambda row: vectorize(row['Коды слов'],max), axis=1)"
      ],
      "metadata": {
        "id": "72FqUMO9thwv"
      },
      "execution_count": 56,
      "outputs": []
    },
    {
      "cell_type": "code",
      "source": [
        "data"
      ],
      "metadata": {
        "colab": {
          "base_uri": "https://localhost:8080/",
          "height": 424
        },
        "id": "NgOQDbsru5YT",
        "outputId": "fc8451f3-f525-4859-9852-d34ee9905ad7"
      },
      "execution_count": 57,
      "outputs": [
        {
          "output_type": "execute_result",
          "data": {
            "text/plain": [
              "          Ударения      Слова                 Токены ударений  \\\n",
              "0             аа^к        аак                    [а, а, ^, к]   \n",
              "1            аа^ка       аака                 [а, а, ^, к, а]   \n",
              "2            аа^ке       ааке                 [а, а, ^, к, е]   \n",
              "3            аа^ки       ааки                 [а, а, ^, к, и]   \n",
              "4           аа^ков      ааков              [а, а, ^, к, о, в]   \n",
              "...            ...        ...                             ...   \n",
              "588485  ёфика^торе  ёфикаторе  [ё, ф, и, к, а, ^, т, о, р, е]   \n",
              "588486   ёфика^ции   ёфикации     [ё, ф, и, к, а, ^, ц, и, и]   \n",
              "588487   ёфика^цию   ёфикацию     [ё, ф, и, к, а, ^, ц, и, ю]   \n",
              "588488   ёфика^ция   ёфикация     [ё, ф, и, к, а, ^, ц, и, я]   \n",
              "588489  ёфика^циям  ёфикациям  [ё, ф, и, к, а, ^, ц, и, я, м]   \n",
              "\n",
              "                        Токены слов  Номер ударений  \\\n",
              "0                         [а, а, к]               3   \n",
              "1                      [а, а, к, а]               3   \n",
              "2                      [а, а, к, е]               3   \n",
              "3                      [а, а, к, и]               3   \n",
              "4                   [а, а, к, о, в]               3   \n",
              "...                             ...             ...   \n",
              "588485  [ё, ф, и, к, а, т, о, р, е]               6   \n",
              "588486     [ё, ф, и, к, а, ц, и, и]               6   \n",
              "588487     [ё, ф, и, к, а, ц, и, ю]               6   \n",
              "588488     [ё, ф, и, к, а, ц, и, я]               6   \n",
              "588489  [ё, ф, и, к, а, ц, и, я, м]               6   \n",
              "\n",
              "                                Коды слов  \\\n",
              "0                              [4, 4, 15]   \n",
              "1                           [4, 4, 15, 4]   \n",
              "2                           [4, 4, 15, 6]   \n",
              "3                           [4, 4, 15, 5]   \n",
              "4                        [4, 4, 15, 3, 7]   \n",
              "...                                   ...   \n",
              "588485    [35, 32, 5, 15, 4, 11, 3, 9, 6]   \n",
              "588486       [35, 32, 5, 15, 4, 31, 5, 5]   \n",
              "588487      [35, 32, 5, 15, 4, 31, 5, 24]   \n",
              "588488      [35, 32, 5, 15, 4, 31, 5, 17]   \n",
              "588489  [35, 32, 5, 15, 4, 31, 5, 17, 13]   \n",
              "\n",
              "                                             Векторы слов  \n",
              "0       [4, 4, 15, 0, 0, 0, 0, 0, 0, 0, 0, 0, 0, 0, 0,...  \n",
              "1       [4, 4, 15, 4, 0, 0, 0, 0, 0, 0, 0, 0, 0, 0, 0,...  \n",
              "2       [4, 4, 15, 6, 0, 0, 0, 0, 0, 0, 0, 0, 0, 0, 0,...  \n",
              "3       [4, 4, 15, 5, 0, 0, 0, 0, 0, 0, 0, 0, 0, 0, 0,...  \n",
              "4       [4, 4, 15, 3, 7, 0, 0, 0, 0, 0, 0, 0, 0, 0, 0,...  \n",
              "...                                                   ...  \n",
              "588485  [35, 32, 5, 15, 4, 11, 3, 9, 6, 0, 0, 0, 0, 0,...  \n",
              "588486  [35, 32, 5, 15, 4, 31, 5, 5, 0, 0, 0, 0, 0, 0,...  \n",
              "588487  [35, 32, 5, 15, 4, 31, 5, 24, 0, 0, 0, 0, 0, 0...  \n",
              "588488  [35, 32, 5, 15, 4, 31, 5, 17, 0, 0, 0, 0, 0, 0...  \n",
              "588489  [35, 32, 5, 15, 4, 31, 5, 17, 13, 0, 0, 0, 0, ...  \n",
              "\n",
              "[588490 rows x 7 columns]"
            ],
            "text/html": [
              "\n",
              "  <div id=\"df-0e5316c2-cd7e-4a7b-9e18-fe962342a13d\" class=\"colab-df-container\">\n",
              "    <div>\n",
              "<style scoped>\n",
              "    .dataframe tbody tr th:only-of-type {\n",
              "        vertical-align: middle;\n",
              "    }\n",
              "\n",
              "    .dataframe tbody tr th {\n",
              "        vertical-align: top;\n",
              "    }\n",
              "\n",
              "    .dataframe thead th {\n",
              "        text-align: right;\n",
              "    }\n",
              "</style>\n",
              "<table border=\"1\" class=\"dataframe\">\n",
              "  <thead>\n",
              "    <tr style=\"text-align: right;\">\n",
              "      <th></th>\n",
              "      <th>Ударения</th>\n",
              "      <th>Слова</th>\n",
              "      <th>Токены ударений</th>\n",
              "      <th>Токены слов</th>\n",
              "      <th>Номер ударений</th>\n",
              "      <th>Коды слов</th>\n",
              "      <th>Векторы слов</th>\n",
              "    </tr>\n",
              "  </thead>\n",
              "  <tbody>\n",
              "    <tr>\n",
              "      <th>0</th>\n",
              "      <td>аа^к</td>\n",
              "      <td>аак</td>\n",
              "      <td>[а, а, ^, к]</td>\n",
              "      <td>[а, а, к]</td>\n",
              "      <td>3</td>\n",
              "      <td>[4, 4, 15]</td>\n",
              "      <td>[4, 4, 15, 0, 0, 0, 0, 0, 0, 0, 0, 0, 0, 0, 0,...</td>\n",
              "    </tr>\n",
              "    <tr>\n",
              "      <th>1</th>\n",
              "      <td>аа^ка</td>\n",
              "      <td>аака</td>\n",
              "      <td>[а, а, ^, к, а]</td>\n",
              "      <td>[а, а, к, а]</td>\n",
              "      <td>3</td>\n",
              "      <td>[4, 4, 15, 4]</td>\n",
              "      <td>[4, 4, 15, 4, 0, 0, 0, 0, 0, 0, 0, 0, 0, 0, 0,...</td>\n",
              "    </tr>\n",
              "    <tr>\n",
              "      <th>2</th>\n",
              "      <td>аа^ке</td>\n",
              "      <td>ааке</td>\n",
              "      <td>[а, а, ^, к, е]</td>\n",
              "      <td>[а, а, к, е]</td>\n",
              "      <td>3</td>\n",
              "      <td>[4, 4, 15, 6]</td>\n",
              "      <td>[4, 4, 15, 6, 0, 0, 0, 0, 0, 0, 0, 0, 0, 0, 0,...</td>\n",
              "    </tr>\n",
              "    <tr>\n",
              "      <th>3</th>\n",
              "      <td>аа^ки</td>\n",
              "      <td>ааки</td>\n",
              "      <td>[а, а, ^, к, и]</td>\n",
              "      <td>[а, а, к, и]</td>\n",
              "      <td>3</td>\n",
              "      <td>[4, 4, 15, 5]</td>\n",
              "      <td>[4, 4, 15, 5, 0, 0, 0, 0, 0, 0, 0, 0, 0, 0, 0,...</td>\n",
              "    </tr>\n",
              "    <tr>\n",
              "      <th>4</th>\n",
              "      <td>аа^ков</td>\n",
              "      <td>ааков</td>\n",
              "      <td>[а, а, ^, к, о, в]</td>\n",
              "      <td>[а, а, к, о, в]</td>\n",
              "      <td>3</td>\n",
              "      <td>[4, 4, 15, 3, 7]</td>\n",
              "      <td>[4, 4, 15, 3, 7, 0, 0, 0, 0, 0, 0, 0, 0, 0, 0,...</td>\n",
              "    </tr>\n",
              "    <tr>\n",
              "      <th>...</th>\n",
              "      <td>...</td>\n",
              "      <td>...</td>\n",
              "      <td>...</td>\n",
              "      <td>...</td>\n",
              "      <td>...</td>\n",
              "      <td>...</td>\n",
              "      <td>...</td>\n",
              "    </tr>\n",
              "    <tr>\n",
              "      <th>588485</th>\n",
              "      <td>ёфика^торе</td>\n",
              "      <td>ёфикаторе</td>\n",
              "      <td>[ё, ф, и, к, а, ^, т, о, р, е]</td>\n",
              "      <td>[ё, ф, и, к, а, т, о, р, е]</td>\n",
              "      <td>6</td>\n",
              "      <td>[35, 32, 5, 15, 4, 11, 3, 9, 6]</td>\n",
              "      <td>[35, 32, 5, 15, 4, 11, 3, 9, 6, 0, 0, 0, 0, 0,...</td>\n",
              "    </tr>\n",
              "    <tr>\n",
              "      <th>588486</th>\n",
              "      <td>ёфика^ции</td>\n",
              "      <td>ёфикации</td>\n",
              "      <td>[ё, ф, и, к, а, ^, ц, и, и]</td>\n",
              "      <td>[ё, ф, и, к, а, ц, и, и]</td>\n",
              "      <td>6</td>\n",
              "      <td>[35, 32, 5, 15, 4, 31, 5, 5]</td>\n",
              "      <td>[35, 32, 5, 15, 4, 31, 5, 5, 0, 0, 0, 0, 0, 0,...</td>\n",
              "    </tr>\n",
              "    <tr>\n",
              "      <th>588487</th>\n",
              "      <td>ёфика^цию</td>\n",
              "      <td>ёфикацию</td>\n",
              "      <td>[ё, ф, и, к, а, ^, ц, и, ю]</td>\n",
              "      <td>[ё, ф, и, к, а, ц, и, ю]</td>\n",
              "      <td>6</td>\n",
              "      <td>[35, 32, 5, 15, 4, 31, 5, 24]</td>\n",
              "      <td>[35, 32, 5, 15, 4, 31, 5, 24, 0, 0, 0, 0, 0, 0...</td>\n",
              "    </tr>\n",
              "    <tr>\n",
              "      <th>588488</th>\n",
              "      <td>ёфика^ция</td>\n",
              "      <td>ёфикация</td>\n",
              "      <td>[ё, ф, и, к, а, ^, ц, и, я]</td>\n",
              "      <td>[ё, ф, и, к, а, ц, и, я]</td>\n",
              "      <td>6</td>\n",
              "      <td>[35, 32, 5, 15, 4, 31, 5, 17]</td>\n",
              "      <td>[35, 32, 5, 15, 4, 31, 5, 17, 0, 0, 0, 0, 0, 0...</td>\n",
              "    </tr>\n",
              "    <tr>\n",
              "      <th>588489</th>\n",
              "      <td>ёфика^циям</td>\n",
              "      <td>ёфикациям</td>\n",
              "      <td>[ё, ф, и, к, а, ^, ц, и, я, м]</td>\n",
              "      <td>[ё, ф, и, к, а, ц, и, я, м]</td>\n",
              "      <td>6</td>\n",
              "      <td>[35, 32, 5, 15, 4, 31, 5, 17, 13]</td>\n",
              "      <td>[35, 32, 5, 15, 4, 31, 5, 17, 13, 0, 0, 0, 0, ...</td>\n",
              "    </tr>\n",
              "  </tbody>\n",
              "</table>\n",
              "<p>588490 rows × 7 columns</p>\n",
              "</div>\n",
              "    <div class=\"colab-df-buttons\">\n",
              "\n",
              "  <div class=\"colab-df-container\">\n",
              "    <button class=\"colab-df-convert\" onclick=\"convertToInteractive('df-0e5316c2-cd7e-4a7b-9e18-fe962342a13d')\"\n",
              "            title=\"Convert this dataframe to an interactive table.\"\n",
              "            style=\"display:none;\">\n",
              "\n",
              "  <svg xmlns=\"http://www.w3.org/2000/svg\" height=\"24px\" viewBox=\"0 -960 960 960\">\n",
              "    <path d=\"M120-120v-720h720v720H120Zm60-500h600v-160H180v160Zm220 220h160v-160H400v160Zm0 220h160v-160H400v160ZM180-400h160v-160H180v160Zm440 0h160v-160H620v160ZM180-180h160v-160H180v160Zm440 0h160v-160H620v160Z\"/>\n",
              "  </svg>\n",
              "    </button>\n",
              "\n",
              "  <style>\n",
              "    .colab-df-container {\n",
              "      display:flex;\n",
              "      gap: 12px;\n",
              "    }\n",
              "\n",
              "    .colab-df-convert {\n",
              "      background-color: #E8F0FE;\n",
              "      border: none;\n",
              "      border-radius: 50%;\n",
              "      cursor: pointer;\n",
              "      display: none;\n",
              "      fill: #1967D2;\n",
              "      height: 32px;\n",
              "      padding: 0 0 0 0;\n",
              "      width: 32px;\n",
              "    }\n",
              "\n",
              "    .colab-df-convert:hover {\n",
              "      background-color: #E2EBFA;\n",
              "      box-shadow: 0px 1px 2px rgba(60, 64, 67, 0.3), 0px 1px 3px 1px rgba(60, 64, 67, 0.15);\n",
              "      fill: #174EA6;\n",
              "    }\n",
              "\n",
              "    .colab-df-buttons div {\n",
              "      margin-bottom: 4px;\n",
              "    }\n",
              "\n",
              "    [theme=dark] .colab-df-convert {\n",
              "      background-color: #3B4455;\n",
              "      fill: #D2E3FC;\n",
              "    }\n",
              "\n",
              "    [theme=dark] .colab-df-convert:hover {\n",
              "      background-color: #434B5C;\n",
              "      box-shadow: 0px 1px 3px 1px rgba(0, 0, 0, 0.15);\n",
              "      filter: drop-shadow(0px 1px 2px rgba(0, 0, 0, 0.3));\n",
              "      fill: #FFFFFF;\n",
              "    }\n",
              "  </style>\n",
              "\n",
              "    <script>\n",
              "      const buttonEl =\n",
              "        document.querySelector('#df-0e5316c2-cd7e-4a7b-9e18-fe962342a13d button.colab-df-convert');\n",
              "      buttonEl.style.display =\n",
              "        google.colab.kernel.accessAllowed ? 'block' : 'none';\n",
              "\n",
              "      async function convertToInteractive(key) {\n",
              "        const element = document.querySelector('#df-0e5316c2-cd7e-4a7b-9e18-fe962342a13d');\n",
              "        const dataTable =\n",
              "          await google.colab.kernel.invokeFunction('convertToInteractive',\n",
              "                                                    [key], {});\n",
              "        if (!dataTable) return;\n",
              "\n",
              "        const docLinkHtml = 'Like what you see? Visit the ' +\n",
              "          '<a target=\"_blank\" href=https://colab.research.google.com/notebooks/data_table.ipynb>data table notebook</a>'\n",
              "          + ' to learn more about interactive tables.';\n",
              "        element.innerHTML = '';\n",
              "        dataTable['output_type'] = 'display_data';\n",
              "        await google.colab.output.renderOutput(dataTable, element);\n",
              "        const docLink = document.createElement('div');\n",
              "        docLink.innerHTML = docLinkHtml;\n",
              "        element.appendChild(docLink);\n",
              "      }\n",
              "    </script>\n",
              "  </div>\n",
              "\n",
              "\n",
              "<div id=\"df-d3fe0e19-9d74-4bc8-9f30-6740fe05935f\">\n",
              "  <button class=\"colab-df-quickchart\" onclick=\"quickchart('df-d3fe0e19-9d74-4bc8-9f30-6740fe05935f')\"\n",
              "            title=\"Suggest charts.\"\n",
              "            style=\"display:none;\">\n",
              "\n",
              "<svg xmlns=\"http://www.w3.org/2000/svg\" height=\"24px\"viewBox=\"0 0 24 24\"\n",
              "     width=\"24px\">\n",
              "    <g>\n",
              "        <path d=\"M19 3H5c-1.1 0-2 .9-2 2v14c0 1.1.9 2 2 2h14c1.1 0 2-.9 2-2V5c0-1.1-.9-2-2-2zM9 17H7v-7h2v7zm4 0h-2V7h2v10zm4 0h-2v-4h2v4z\"/>\n",
              "    </g>\n",
              "</svg>\n",
              "  </button>\n",
              "\n",
              "<style>\n",
              "  .colab-df-quickchart {\n",
              "      --bg-color: #E8F0FE;\n",
              "      --fill-color: #1967D2;\n",
              "      --hover-bg-color: #E2EBFA;\n",
              "      --hover-fill-color: #174EA6;\n",
              "      --disabled-fill-color: #AAA;\n",
              "      --disabled-bg-color: #DDD;\n",
              "  }\n",
              "\n",
              "  [theme=dark] .colab-df-quickchart {\n",
              "      --bg-color: #3B4455;\n",
              "      --fill-color: #D2E3FC;\n",
              "      --hover-bg-color: #434B5C;\n",
              "      --hover-fill-color: #FFFFFF;\n",
              "      --disabled-bg-color: #3B4455;\n",
              "      --disabled-fill-color: #666;\n",
              "  }\n",
              "\n",
              "  .colab-df-quickchart {\n",
              "    background-color: var(--bg-color);\n",
              "    border: none;\n",
              "    border-radius: 50%;\n",
              "    cursor: pointer;\n",
              "    display: none;\n",
              "    fill: var(--fill-color);\n",
              "    height: 32px;\n",
              "    padding: 0;\n",
              "    width: 32px;\n",
              "  }\n",
              "\n",
              "  .colab-df-quickchart:hover {\n",
              "    background-color: var(--hover-bg-color);\n",
              "    box-shadow: 0 1px 2px rgba(60, 64, 67, 0.3), 0 1px 3px 1px rgba(60, 64, 67, 0.15);\n",
              "    fill: var(--button-hover-fill-color);\n",
              "  }\n",
              "\n",
              "  .colab-df-quickchart-complete:disabled,\n",
              "  .colab-df-quickchart-complete:disabled:hover {\n",
              "    background-color: var(--disabled-bg-color);\n",
              "    fill: var(--disabled-fill-color);\n",
              "    box-shadow: none;\n",
              "  }\n",
              "\n",
              "  .colab-df-spinner {\n",
              "    border: 2px solid var(--fill-color);\n",
              "    border-color: transparent;\n",
              "    border-bottom-color: var(--fill-color);\n",
              "    animation:\n",
              "      spin 1s steps(1) infinite;\n",
              "  }\n",
              "\n",
              "  @keyframes spin {\n",
              "    0% {\n",
              "      border-color: transparent;\n",
              "      border-bottom-color: var(--fill-color);\n",
              "      border-left-color: var(--fill-color);\n",
              "    }\n",
              "    20% {\n",
              "      border-color: transparent;\n",
              "      border-left-color: var(--fill-color);\n",
              "      border-top-color: var(--fill-color);\n",
              "    }\n",
              "    30% {\n",
              "      border-color: transparent;\n",
              "      border-left-color: var(--fill-color);\n",
              "      border-top-color: var(--fill-color);\n",
              "      border-right-color: var(--fill-color);\n",
              "    }\n",
              "    40% {\n",
              "      border-color: transparent;\n",
              "      border-right-color: var(--fill-color);\n",
              "      border-top-color: var(--fill-color);\n",
              "    }\n",
              "    60% {\n",
              "      border-color: transparent;\n",
              "      border-right-color: var(--fill-color);\n",
              "    }\n",
              "    80% {\n",
              "      border-color: transparent;\n",
              "      border-right-color: var(--fill-color);\n",
              "      border-bottom-color: var(--fill-color);\n",
              "    }\n",
              "    90% {\n",
              "      border-color: transparent;\n",
              "      border-bottom-color: var(--fill-color);\n",
              "    }\n",
              "  }\n",
              "</style>\n",
              "\n",
              "  <script>\n",
              "    async function quickchart(key) {\n",
              "      const quickchartButtonEl =\n",
              "        document.querySelector('#' + key + ' button');\n",
              "      quickchartButtonEl.disabled = true;  // To prevent multiple clicks.\n",
              "      quickchartButtonEl.classList.add('colab-df-spinner');\n",
              "      try {\n",
              "        const charts = await google.colab.kernel.invokeFunction(\n",
              "            'suggestCharts', [key], {});\n",
              "      } catch (error) {\n",
              "        console.error('Error during call to suggestCharts:', error);\n",
              "      }\n",
              "      quickchartButtonEl.classList.remove('colab-df-spinner');\n",
              "      quickchartButtonEl.classList.add('colab-df-quickchart-complete');\n",
              "    }\n",
              "    (() => {\n",
              "      let quickchartButtonEl =\n",
              "        document.querySelector('#df-d3fe0e19-9d74-4bc8-9f30-6740fe05935f button');\n",
              "      quickchartButtonEl.style.display =\n",
              "        google.colab.kernel.accessAllowed ? 'block' : 'none';\n",
              "    })();\n",
              "  </script>\n",
              "</div>\n",
              "    </div>\n",
              "  </div>\n"
            ]
          },
          "metadata": {},
          "execution_count": 57
        }
      ]
    },
    {
      "cell_type": "markdown",
      "metadata": {
        "id": "kkkOu0n6YQfL"
      },
      "source": [
        "#Обучение модели"
      ]
    },
    {
      "cell_type": "markdown",
      "source": [
        "##Подготовка обучающей и тестовой выборки"
      ],
      "metadata": {
        "id": "vyeBjFbUP6ud"
      }
    },
    {
      "cell_type": "code",
      "source": [
        "new_arr = np.stack( np.array(data['Векторы слов']), axis=0 )"
      ],
      "metadata": {
        "id": "1Nf1NpkZ7je6"
      },
      "execution_count": 58,
      "outputs": []
    },
    {
      "cell_type": "code",
      "source": [
        "new_arr"
      ],
      "metadata": {
        "colab": {
          "base_uri": "https://localhost:8080/"
        },
        "id": "h6VZAUqX786a",
        "outputId": "a031eca7-c970-470a-f325-fafe9316c2a1"
      },
      "execution_count": 59,
      "outputs": [
        {
          "output_type": "execute_result",
          "data": {
            "text/plain": [
              "array([[ 4,  4, 15, ...,  0,  0,  0],\n",
              "       [ 4,  4, 15, ...,  0,  0,  0],\n",
              "       [ 4,  4, 15, ...,  0,  0,  0],\n",
              "       ...,\n",
              "       [35, 32,  5, ...,  0,  0,  0],\n",
              "       [35, 32,  5, ...,  0,  0,  0],\n",
              "       [35, 32,  5, ...,  0,  0,  0]])"
            ]
          },
          "metadata": {},
          "execution_count": 59
        }
      ]
    },
    {
      "cell_type": "code",
      "execution_count": 60,
      "metadata": {
        "id": "M3VbZK50YQfL"
      },
      "outputs": [],
      "source": [
        "from sklearn.model_selection import train_test_split\n",
        "\n",
        "y = data['Номер ударений'].copy()\n",
        "X = new_arr\n",
        "\n",
        "X_train, X_test, y_train, y_test = train_test_split(X, y, train_size=0.7, random_state=rand_state)"
      ]
    },
    {
      "cell_type": "code",
      "source": [
        "from sklearn.metrics import accuracy_score"
      ],
      "metadata": {
        "id": "TTI1UM6kxML1"
      },
      "execution_count": 61,
      "outputs": []
    },
    {
      "cell_type": "code",
      "execution_count": 62,
      "metadata": {
        "colab": {
          "base_uri": "https://localhost:8080/"
        },
        "id": "GsHcVtekAoTq",
        "outputId": "4954cd8e-3d83-4b68-bb7c-f2c9ad863a29"
      },
      "outputs": [
        {
          "output_type": "execute_result",
          "data": {
            "text/plain": [
              "229103     6\n",
              "33128      6\n",
              "154571     5\n",
              "384278    10\n",
              "39541      4\n",
              "          ..\n",
              "36482      7\n",
              "564465     9\n",
              "412925     6\n",
              "255366     9\n",
              "472907     5\n",
              "Name: Номер ударений, Length: 411943, dtype: int64"
            ]
          },
          "metadata": {},
          "execution_count": 62
        }
      ],
      "source": [
        "y_train"
      ]
    },
    {
      "cell_type": "code",
      "execution_count": 63,
      "metadata": {
        "colab": {
          "base_uri": "https://localhost:8080/"
        },
        "id": "WTRA6yxtCrVG",
        "outputId": "0d868dfd-7af3-417f-e270-86e9b227c5f3"
      },
      "outputs": [
        {
          "output_type": "execute_result",
          "data": {
            "text/plain": [
              "array([[13,  3,  9, ...,  0,  0,  0],\n",
              "       [26,  9,  6, ...,  0,  0,  0],\n",
              "       [21,  5, 13, ...,  0,  0,  0],\n",
              "       ...,\n",
              "       [14,  9,  3, ...,  0,  0,  0],\n",
              "       [ 8,  6, 19, ...,  0,  0,  0],\n",
              "       [10,  4,  9, ...,  0,  0,  0]])"
            ]
          },
          "metadata": {},
          "execution_count": 63
        }
      ],
      "source": [
        "X_train"
      ]
    },
    {
      "cell_type": "markdown",
      "metadata": {
        "id": "Yi4GxVncvi7q"
      },
      "source": [
        "## Модель DecisionTreeClassifier"
      ]
    },
    {
      "cell_type": "code",
      "execution_count": 64,
      "metadata": {
        "id": "-Rj37q97vhSN",
        "colab": {
          "base_uri": "https://localhost:8080/",
          "height": 75
        },
        "outputId": "8606e971-19eb-4a26-cdf9-545ad71f0158"
      },
      "outputs": [
        {
          "output_type": "execute_result",
          "data": {
            "text/plain": [
              "DecisionTreeClassifier()"
            ],
            "text/html": [
              "<style>#sk-container-id-1 {color: black;background-color: white;}#sk-container-id-1 pre{padding: 0;}#sk-container-id-1 div.sk-toggleable {background-color: white;}#sk-container-id-1 label.sk-toggleable__label {cursor: pointer;display: block;width: 100%;margin-bottom: 0;padding: 0.3em;box-sizing: border-box;text-align: center;}#sk-container-id-1 label.sk-toggleable__label-arrow:before {content: \"▸\";float: left;margin-right: 0.25em;color: #696969;}#sk-container-id-1 label.sk-toggleable__label-arrow:hover:before {color: black;}#sk-container-id-1 div.sk-estimator:hover label.sk-toggleable__label-arrow:before {color: black;}#sk-container-id-1 div.sk-toggleable__content {max-height: 0;max-width: 0;overflow: hidden;text-align: left;background-color: #f0f8ff;}#sk-container-id-1 div.sk-toggleable__content pre {margin: 0.2em;color: black;border-radius: 0.25em;background-color: #f0f8ff;}#sk-container-id-1 input.sk-toggleable__control:checked~div.sk-toggleable__content {max-height: 200px;max-width: 100%;overflow: auto;}#sk-container-id-1 input.sk-toggleable__control:checked~label.sk-toggleable__label-arrow:before {content: \"▾\";}#sk-container-id-1 div.sk-estimator input.sk-toggleable__control:checked~label.sk-toggleable__label {background-color: #d4ebff;}#sk-container-id-1 div.sk-label input.sk-toggleable__control:checked~label.sk-toggleable__label {background-color: #d4ebff;}#sk-container-id-1 input.sk-hidden--visually {border: 0;clip: rect(1px 1px 1px 1px);clip: rect(1px, 1px, 1px, 1px);height: 1px;margin: -1px;overflow: hidden;padding: 0;position: absolute;width: 1px;}#sk-container-id-1 div.sk-estimator {font-family: monospace;background-color: #f0f8ff;border: 1px dotted black;border-radius: 0.25em;box-sizing: border-box;margin-bottom: 0.5em;}#sk-container-id-1 div.sk-estimator:hover {background-color: #d4ebff;}#sk-container-id-1 div.sk-parallel-item::after {content: \"\";width: 100%;border-bottom: 1px solid gray;flex-grow: 1;}#sk-container-id-1 div.sk-label:hover label.sk-toggleable__label {background-color: #d4ebff;}#sk-container-id-1 div.sk-serial::before {content: \"\";position: absolute;border-left: 1px solid gray;box-sizing: border-box;top: 0;bottom: 0;left: 50%;z-index: 0;}#sk-container-id-1 div.sk-serial {display: flex;flex-direction: column;align-items: center;background-color: white;padding-right: 0.2em;padding-left: 0.2em;position: relative;}#sk-container-id-1 div.sk-item {position: relative;z-index: 1;}#sk-container-id-1 div.sk-parallel {display: flex;align-items: stretch;justify-content: center;background-color: white;position: relative;}#sk-container-id-1 div.sk-item::before, #sk-container-id-1 div.sk-parallel-item::before {content: \"\";position: absolute;border-left: 1px solid gray;box-sizing: border-box;top: 0;bottom: 0;left: 50%;z-index: -1;}#sk-container-id-1 div.sk-parallel-item {display: flex;flex-direction: column;z-index: 1;position: relative;background-color: white;}#sk-container-id-1 div.sk-parallel-item:first-child::after {align-self: flex-end;width: 50%;}#sk-container-id-1 div.sk-parallel-item:last-child::after {align-self: flex-start;width: 50%;}#sk-container-id-1 div.sk-parallel-item:only-child::after {width: 0;}#sk-container-id-1 div.sk-dashed-wrapped {border: 1px dashed gray;margin: 0 0.4em 0.5em 0.4em;box-sizing: border-box;padding-bottom: 0.4em;background-color: white;}#sk-container-id-1 div.sk-label label {font-family: monospace;font-weight: bold;display: inline-block;line-height: 1.2em;}#sk-container-id-1 div.sk-label-container {text-align: center;}#sk-container-id-1 div.sk-container {/* jupyter's `normalize.less` sets `[hidden] { display: none; }` but bootstrap.min.css set `[hidden] { display: none !important; }` so we also need the `!important` here to be able to override the default hidden behavior on the sphinx rendered scikit-learn.org. See: https://github.com/scikit-learn/scikit-learn/issues/21755 */display: inline-block !important;position: relative;}#sk-container-id-1 div.sk-text-repr-fallback {display: none;}</style><div id=\"sk-container-id-1\" class=\"sk-top-container\"><div class=\"sk-text-repr-fallback\"><pre>DecisionTreeClassifier()</pre><b>In a Jupyter environment, please rerun this cell to show the HTML representation or trust the notebook. <br />On GitHub, the HTML representation is unable to render, please try loading this page with nbviewer.org.</b></div><div class=\"sk-container\" hidden><div class=\"sk-item\"><div class=\"sk-estimator sk-toggleable\"><input class=\"sk-toggleable__control sk-hidden--visually\" id=\"sk-estimator-id-1\" type=\"checkbox\" checked><label for=\"sk-estimator-id-1\" class=\"sk-toggleable__label sk-toggleable__label-arrow\">DecisionTreeClassifier</label><div class=\"sk-toggleable__content\"><pre>DecisionTreeClassifier()</pre></div></div></div></div></div>"
            ]
          },
          "metadata": {},
          "execution_count": 64
        }
      ],
      "source": [
        "from sklearn.tree import DecisionTreeClassifier\n",
        "dt = DecisionTreeClassifier()\n",
        "dt.fit(X_train,y_train)"
      ]
    },
    {
      "cell_type": "code",
      "source": [
        "y_pred2 = dt.predict(X_test)"
      ],
      "metadata": {
        "id": "li9xPcHPvsRB"
      },
      "execution_count": 65,
      "outputs": []
    },
    {
      "cell_type": "code",
      "source": [
        "acc2 = accuracy_score(y_test,y_pred2)"
      ],
      "metadata": {
        "id": "2BMEbinSvqs1"
      },
      "execution_count": 66,
      "outputs": []
    },
    {
      "cell_type": "code",
      "execution_count": 67,
      "metadata": {
        "colab": {
          "base_uri": "https://localhost:8080/"
        },
        "id": "ykWi-1Dcwp8O",
        "outputId": "34366e35-7595-4a49-bab3-86ac78e00fd4"
      },
      "outputs": [
        {
          "output_type": "execute_result",
          "data": {
            "text/plain": [
              "0.8351657065823832"
            ]
          },
          "metadata": {},
          "execution_count": 67
        }
      ],
      "source": [
        "acc2"
      ]
    },
    {
      "cell_type": "markdown",
      "metadata": {
        "id": "dxyngNtk--nI"
      },
      "source": [
        "#Использование модели для прогнозирования"
      ]
    },
    {
      "cell_type": "markdown",
      "source": [
        "## Подготовка данных"
      ],
      "metadata": {
        "id": "TKZit9Fexrqe"
      }
    },
    {
      "cell_type": "markdown",
      "source": [
        "###Если нужно прогнозирование для закрытого набора данных"
      ],
      "metadata": {
        "id": "wf02UcQ_QUfx"
      }
    },
    {
      "cell_type": "code",
      "source": [
        "#test_private = pd.read_csv('/content/gdrive/My Drive/Colab Notebooks/dataset_task_D/private_test_stresses.txt', header=None, names=['Слова'])"
      ],
      "metadata": {
        "id": "F3o2SZvCI1Y4"
      },
      "execution_count": null,
      "outputs": []
    },
    {
      "cell_type": "code",
      "source": [
        "#Если загружать данные локально:\n",
        "# test_private = pd.read_csv('private_test_stresses.txt', header=None, names=['Слова'])"
      ],
      "metadata": {
        "id": "H84k2jf5TtRv"
      },
      "execution_count": null,
      "outputs": []
    },
    {
      "cell_type": "code",
      "source": [
        "#test = test_private"
      ],
      "metadata": {
        "id": "W4DaELwRI_zi"
      },
      "execution_count": null,
      "outputs": []
    },
    {
      "cell_type": "markdown",
      "source": [
        "###Если нужно прогнозировать для открытого датасета"
      ],
      "metadata": {
        "id": "wtehJok8UDli"
      }
    },
    {
      "cell_type": "code",
      "source": [
        "test['Токены слов'] = test.apply(lambda row: preprocess(row['Слова']), axis=1)"
      ],
      "metadata": {
        "id": "fCqXqqMvU0Io"
      },
      "execution_count": 71,
      "outputs": []
    },
    {
      "cell_type": "code",
      "execution_count": 72,
      "metadata": {
        "colab": {
          "base_uri": "https://localhost:8080/",
          "height": 424
        },
        "outputId": "7001506a-4019-4304-d67f-43187207dcd4",
        "id": "SIyULZe7EiHK"
      },
      "outputs": [
        {
          "output_type": "execute_result",
          "data": {
            "text/plain": [
              "              Слова                        Токены слов\n",
              "0             аакам                    [а, а, к, а, м]\n",
              "1            ааками                 [а, а, к, а, м, и]\n",
              "2           ааленец              [а, а, л, е, н, е, ц]\n",
              "3              аама                       [а, а, м, а]\n",
              "4            аамами                 [а, а, м, а, м, и]\n",
              "...             ...                                ...\n",
              "294248       ёмиури                 [ё, м, и, у, р, и]\n",
              "294249  ёфикаторами  [ё, ф, и, к, а, т, о, р, а, м, и]\n",
              "294250    ёфикатору        [ё, ф, и, к, а, т, о, р, у]\n",
              "294251   ёфикациями     [ё, ф, и, к, а, ц, и, я, м, и]\n",
              "294252    ёфикациях        [ё, ф, и, к, а, ц, и, я, х]\n",
              "\n",
              "[294253 rows x 2 columns]"
            ],
            "text/html": [
              "\n",
              "  <div id=\"df-503d05b8-82ac-481f-9145-9807bb87efa0\" class=\"colab-df-container\">\n",
              "    <div>\n",
              "<style scoped>\n",
              "    .dataframe tbody tr th:only-of-type {\n",
              "        vertical-align: middle;\n",
              "    }\n",
              "\n",
              "    .dataframe tbody tr th {\n",
              "        vertical-align: top;\n",
              "    }\n",
              "\n",
              "    .dataframe thead th {\n",
              "        text-align: right;\n",
              "    }\n",
              "</style>\n",
              "<table border=\"1\" class=\"dataframe\">\n",
              "  <thead>\n",
              "    <tr style=\"text-align: right;\">\n",
              "      <th></th>\n",
              "      <th>Слова</th>\n",
              "      <th>Токены слов</th>\n",
              "    </tr>\n",
              "  </thead>\n",
              "  <tbody>\n",
              "    <tr>\n",
              "      <th>0</th>\n",
              "      <td>аакам</td>\n",
              "      <td>[а, а, к, а, м]</td>\n",
              "    </tr>\n",
              "    <tr>\n",
              "      <th>1</th>\n",
              "      <td>ааками</td>\n",
              "      <td>[а, а, к, а, м, и]</td>\n",
              "    </tr>\n",
              "    <tr>\n",
              "      <th>2</th>\n",
              "      <td>ааленец</td>\n",
              "      <td>[а, а, л, е, н, е, ц]</td>\n",
              "    </tr>\n",
              "    <tr>\n",
              "      <th>3</th>\n",
              "      <td>аама</td>\n",
              "      <td>[а, а, м, а]</td>\n",
              "    </tr>\n",
              "    <tr>\n",
              "      <th>4</th>\n",
              "      <td>аамами</td>\n",
              "      <td>[а, а, м, а, м, и]</td>\n",
              "    </tr>\n",
              "    <tr>\n",
              "      <th>...</th>\n",
              "      <td>...</td>\n",
              "      <td>...</td>\n",
              "    </tr>\n",
              "    <tr>\n",
              "      <th>294248</th>\n",
              "      <td>ёмиури</td>\n",
              "      <td>[ё, м, и, у, р, и]</td>\n",
              "    </tr>\n",
              "    <tr>\n",
              "      <th>294249</th>\n",
              "      <td>ёфикаторами</td>\n",
              "      <td>[ё, ф, и, к, а, т, о, р, а, м, и]</td>\n",
              "    </tr>\n",
              "    <tr>\n",
              "      <th>294250</th>\n",
              "      <td>ёфикатору</td>\n",
              "      <td>[ё, ф, и, к, а, т, о, р, у]</td>\n",
              "    </tr>\n",
              "    <tr>\n",
              "      <th>294251</th>\n",
              "      <td>ёфикациями</td>\n",
              "      <td>[ё, ф, и, к, а, ц, и, я, м, и]</td>\n",
              "    </tr>\n",
              "    <tr>\n",
              "      <th>294252</th>\n",
              "      <td>ёфикациях</td>\n",
              "      <td>[ё, ф, и, к, а, ц, и, я, х]</td>\n",
              "    </tr>\n",
              "  </tbody>\n",
              "</table>\n",
              "<p>294253 rows × 2 columns</p>\n",
              "</div>\n",
              "    <div class=\"colab-df-buttons\">\n",
              "\n",
              "  <div class=\"colab-df-container\">\n",
              "    <button class=\"colab-df-convert\" onclick=\"convertToInteractive('df-503d05b8-82ac-481f-9145-9807bb87efa0')\"\n",
              "            title=\"Convert this dataframe to an interactive table.\"\n",
              "            style=\"display:none;\">\n",
              "\n",
              "  <svg xmlns=\"http://www.w3.org/2000/svg\" height=\"24px\" viewBox=\"0 -960 960 960\">\n",
              "    <path d=\"M120-120v-720h720v720H120Zm60-500h600v-160H180v160Zm220 220h160v-160H400v160Zm0 220h160v-160H400v160ZM180-400h160v-160H180v160Zm440 0h160v-160H620v160ZM180-180h160v-160H180v160Zm440 0h160v-160H620v160Z\"/>\n",
              "  </svg>\n",
              "    </button>\n",
              "\n",
              "  <style>\n",
              "    .colab-df-container {\n",
              "      display:flex;\n",
              "      gap: 12px;\n",
              "    }\n",
              "\n",
              "    .colab-df-convert {\n",
              "      background-color: #E8F0FE;\n",
              "      border: none;\n",
              "      border-radius: 50%;\n",
              "      cursor: pointer;\n",
              "      display: none;\n",
              "      fill: #1967D2;\n",
              "      height: 32px;\n",
              "      padding: 0 0 0 0;\n",
              "      width: 32px;\n",
              "    }\n",
              "\n",
              "    .colab-df-convert:hover {\n",
              "      background-color: #E2EBFA;\n",
              "      box-shadow: 0px 1px 2px rgba(60, 64, 67, 0.3), 0px 1px 3px 1px rgba(60, 64, 67, 0.15);\n",
              "      fill: #174EA6;\n",
              "    }\n",
              "\n",
              "    .colab-df-buttons div {\n",
              "      margin-bottom: 4px;\n",
              "    }\n",
              "\n",
              "    [theme=dark] .colab-df-convert {\n",
              "      background-color: #3B4455;\n",
              "      fill: #D2E3FC;\n",
              "    }\n",
              "\n",
              "    [theme=dark] .colab-df-convert:hover {\n",
              "      background-color: #434B5C;\n",
              "      box-shadow: 0px 1px 3px 1px rgba(0, 0, 0, 0.15);\n",
              "      filter: drop-shadow(0px 1px 2px rgba(0, 0, 0, 0.3));\n",
              "      fill: #FFFFFF;\n",
              "    }\n",
              "  </style>\n",
              "\n",
              "    <script>\n",
              "      const buttonEl =\n",
              "        document.querySelector('#df-503d05b8-82ac-481f-9145-9807bb87efa0 button.colab-df-convert');\n",
              "      buttonEl.style.display =\n",
              "        google.colab.kernel.accessAllowed ? 'block' : 'none';\n",
              "\n",
              "      async function convertToInteractive(key) {\n",
              "        const element = document.querySelector('#df-503d05b8-82ac-481f-9145-9807bb87efa0');\n",
              "        const dataTable =\n",
              "          await google.colab.kernel.invokeFunction('convertToInteractive',\n",
              "                                                    [key], {});\n",
              "        if (!dataTable) return;\n",
              "\n",
              "        const docLinkHtml = 'Like what you see? Visit the ' +\n",
              "          '<a target=\"_blank\" href=https://colab.research.google.com/notebooks/data_table.ipynb>data table notebook</a>'\n",
              "          + ' to learn more about interactive tables.';\n",
              "        element.innerHTML = '';\n",
              "        dataTable['output_type'] = 'display_data';\n",
              "        await google.colab.output.renderOutput(dataTable, element);\n",
              "        const docLink = document.createElement('div');\n",
              "        docLink.innerHTML = docLinkHtml;\n",
              "        element.appendChild(docLink);\n",
              "      }\n",
              "    </script>\n",
              "  </div>\n",
              "\n",
              "\n",
              "<div id=\"df-8f757c5b-a0fc-4180-9197-2a3295d9cd42\">\n",
              "  <button class=\"colab-df-quickchart\" onclick=\"quickchart('df-8f757c5b-a0fc-4180-9197-2a3295d9cd42')\"\n",
              "            title=\"Suggest charts.\"\n",
              "            style=\"display:none;\">\n",
              "\n",
              "<svg xmlns=\"http://www.w3.org/2000/svg\" height=\"24px\"viewBox=\"0 0 24 24\"\n",
              "     width=\"24px\">\n",
              "    <g>\n",
              "        <path d=\"M19 3H5c-1.1 0-2 .9-2 2v14c0 1.1.9 2 2 2h14c1.1 0 2-.9 2-2V5c0-1.1-.9-2-2-2zM9 17H7v-7h2v7zm4 0h-2V7h2v10zm4 0h-2v-4h2v4z\"/>\n",
              "    </g>\n",
              "</svg>\n",
              "  </button>\n",
              "\n",
              "<style>\n",
              "  .colab-df-quickchart {\n",
              "      --bg-color: #E8F0FE;\n",
              "      --fill-color: #1967D2;\n",
              "      --hover-bg-color: #E2EBFA;\n",
              "      --hover-fill-color: #174EA6;\n",
              "      --disabled-fill-color: #AAA;\n",
              "      --disabled-bg-color: #DDD;\n",
              "  }\n",
              "\n",
              "  [theme=dark] .colab-df-quickchart {\n",
              "      --bg-color: #3B4455;\n",
              "      --fill-color: #D2E3FC;\n",
              "      --hover-bg-color: #434B5C;\n",
              "      --hover-fill-color: #FFFFFF;\n",
              "      --disabled-bg-color: #3B4455;\n",
              "      --disabled-fill-color: #666;\n",
              "  }\n",
              "\n",
              "  .colab-df-quickchart {\n",
              "    background-color: var(--bg-color);\n",
              "    border: none;\n",
              "    border-radius: 50%;\n",
              "    cursor: pointer;\n",
              "    display: none;\n",
              "    fill: var(--fill-color);\n",
              "    height: 32px;\n",
              "    padding: 0;\n",
              "    width: 32px;\n",
              "  }\n",
              "\n",
              "  .colab-df-quickchart:hover {\n",
              "    background-color: var(--hover-bg-color);\n",
              "    box-shadow: 0 1px 2px rgba(60, 64, 67, 0.3), 0 1px 3px 1px rgba(60, 64, 67, 0.15);\n",
              "    fill: var(--button-hover-fill-color);\n",
              "  }\n",
              "\n",
              "  .colab-df-quickchart-complete:disabled,\n",
              "  .colab-df-quickchart-complete:disabled:hover {\n",
              "    background-color: var(--disabled-bg-color);\n",
              "    fill: var(--disabled-fill-color);\n",
              "    box-shadow: none;\n",
              "  }\n",
              "\n",
              "  .colab-df-spinner {\n",
              "    border: 2px solid var(--fill-color);\n",
              "    border-color: transparent;\n",
              "    border-bottom-color: var(--fill-color);\n",
              "    animation:\n",
              "      spin 1s steps(1) infinite;\n",
              "  }\n",
              "\n",
              "  @keyframes spin {\n",
              "    0% {\n",
              "      border-color: transparent;\n",
              "      border-bottom-color: var(--fill-color);\n",
              "      border-left-color: var(--fill-color);\n",
              "    }\n",
              "    20% {\n",
              "      border-color: transparent;\n",
              "      border-left-color: var(--fill-color);\n",
              "      border-top-color: var(--fill-color);\n",
              "    }\n",
              "    30% {\n",
              "      border-color: transparent;\n",
              "      border-left-color: var(--fill-color);\n",
              "      border-top-color: var(--fill-color);\n",
              "      border-right-color: var(--fill-color);\n",
              "    }\n",
              "    40% {\n",
              "      border-color: transparent;\n",
              "      border-right-color: var(--fill-color);\n",
              "      border-top-color: var(--fill-color);\n",
              "    }\n",
              "    60% {\n",
              "      border-color: transparent;\n",
              "      border-right-color: var(--fill-color);\n",
              "    }\n",
              "    80% {\n",
              "      border-color: transparent;\n",
              "      border-right-color: var(--fill-color);\n",
              "      border-bottom-color: var(--fill-color);\n",
              "    }\n",
              "    90% {\n",
              "      border-color: transparent;\n",
              "      border-bottom-color: var(--fill-color);\n",
              "    }\n",
              "  }\n",
              "</style>\n",
              "\n",
              "  <script>\n",
              "    async function quickchart(key) {\n",
              "      const quickchartButtonEl =\n",
              "        document.querySelector('#' + key + ' button');\n",
              "      quickchartButtonEl.disabled = true;  // To prevent multiple clicks.\n",
              "      quickchartButtonEl.classList.add('colab-df-spinner');\n",
              "      try {\n",
              "        const charts = await google.colab.kernel.invokeFunction(\n",
              "            'suggestCharts', [key], {});\n",
              "      } catch (error) {\n",
              "        console.error('Error during call to suggestCharts:', error);\n",
              "      }\n",
              "      quickchartButtonEl.classList.remove('colab-df-spinner');\n",
              "      quickchartButtonEl.classList.add('colab-df-quickchart-complete');\n",
              "    }\n",
              "    (() => {\n",
              "      let quickchartButtonEl =\n",
              "        document.querySelector('#df-8f757c5b-a0fc-4180-9197-2a3295d9cd42 button');\n",
              "      quickchartButtonEl.style.display =\n",
              "        google.colab.kernel.accessAllowed ? 'block' : 'none';\n",
              "    })();\n",
              "  </script>\n",
              "</div>\n",
              "    </div>\n",
              "  </div>\n"
            ]
          },
          "metadata": {},
          "execution_count": 72
        }
      ],
      "source": [
        "test"
      ]
    },
    {
      "cell_type": "code",
      "execution_count": 73,
      "metadata": {
        "id": "YmAvvjs8EiHK"
      },
      "outputs": [],
      "source": [
        "test['Коды слов'] = test.apply(lambda row: text_to_sequence(row['Токены слов'], char_to_index), axis=1)"
      ]
    },
    {
      "cell_type": "code",
      "execution_count": 74,
      "metadata": {
        "colab": {
          "base_uri": "https://localhost:8080/",
          "height": 424
        },
        "outputId": "73bf50dd-a083-42bc-f3de-532bf73e468e",
        "id": "56clENpzEiHK"
      },
      "outputs": [
        {
          "output_type": "execute_result",
          "data": {
            "text/plain": [
              "              Слова                        Токены слов  \\\n",
              "0             аакам                    [а, а, к, а, м]   \n",
              "1            ааками                 [а, а, к, а, м, и]   \n",
              "2           ааленец              [а, а, л, е, н, е, ц]   \n",
              "3              аама                       [а, а, м, а]   \n",
              "4            аамами                 [а, а, м, а, м, и]   \n",
              "...             ...                                ...   \n",
              "294248       ёмиури                 [ё, м, и, у, р, и]   \n",
              "294249  ёфикаторами  [ё, ф, и, к, а, т, о, р, а, м, и]   \n",
              "294250    ёфикатору        [ё, ф, и, к, а, т, о, р, у]   \n",
              "294251   ёфикациями     [ё, ф, и, к, а, ц, и, я, м, и]   \n",
              "294252    ёфикациях        [ё, ф, и, к, а, ц, и, я, х]   \n",
              "\n",
              "                                     Коды слов  \n",
              "0                            [4, 4, 15, 4, 13]  \n",
              "1                         [4, 4, 15, 4, 13, 5]  \n",
              "2                      [4, 4, 12, 6, 8, 6, 31]  \n",
              "3                                [4, 4, 13, 4]  \n",
              "4                         [4, 4, 13, 4, 13, 5]  \n",
              "...                                        ...  \n",
              "294248                   [35, 13, 5, 16, 9, 5]  \n",
              "294249  [35, 32, 5, 15, 4, 11, 3, 9, 4, 13, 5]  \n",
              "294250        [35, 32, 5, 15, 4, 11, 3, 9, 16]  \n",
              "294251    [35, 32, 5, 15, 4, 31, 5, 17, 13, 5]  \n",
              "294252       [35, 32, 5, 15, 4, 31, 5, 17, 29]  \n",
              "\n",
              "[294253 rows x 3 columns]"
            ],
            "text/html": [
              "\n",
              "  <div id=\"df-690c688b-e476-4941-bac3-30903fe5a4d1\" class=\"colab-df-container\">\n",
              "    <div>\n",
              "<style scoped>\n",
              "    .dataframe tbody tr th:only-of-type {\n",
              "        vertical-align: middle;\n",
              "    }\n",
              "\n",
              "    .dataframe tbody tr th {\n",
              "        vertical-align: top;\n",
              "    }\n",
              "\n",
              "    .dataframe thead th {\n",
              "        text-align: right;\n",
              "    }\n",
              "</style>\n",
              "<table border=\"1\" class=\"dataframe\">\n",
              "  <thead>\n",
              "    <tr style=\"text-align: right;\">\n",
              "      <th></th>\n",
              "      <th>Слова</th>\n",
              "      <th>Токены слов</th>\n",
              "      <th>Коды слов</th>\n",
              "    </tr>\n",
              "  </thead>\n",
              "  <tbody>\n",
              "    <tr>\n",
              "      <th>0</th>\n",
              "      <td>аакам</td>\n",
              "      <td>[а, а, к, а, м]</td>\n",
              "      <td>[4, 4, 15, 4, 13]</td>\n",
              "    </tr>\n",
              "    <tr>\n",
              "      <th>1</th>\n",
              "      <td>ааками</td>\n",
              "      <td>[а, а, к, а, м, и]</td>\n",
              "      <td>[4, 4, 15, 4, 13, 5]</td>\n",
              "    </tr>\n",
              "    <tr>\n",
              "      <th>2</th>\n",
              "      <td>ааленец</td>\n",
              "      <td>[а, а, л, е, н, е, ц]</td>\n",
              "      <td>[4, 4, 12, 6, 8, 6, 31]</td>\n",
              "    </tr>\n",
              "    <tr>\n",
              "      <th>3</th>\n",
              "      <td>аама</td>\n",
              "      <td>[а, а, м, а]</td>\n",
              "      <td>[4, 4, 13, 4]</td>\n",
              "    </tr>\n",
              "    <tr>\n",
              "      <th>4</th>\n",
              "      <td>аамами</td>\n",
              "      <td>[а, а, м, а, м, и]</td>\n",
              "      <td>[4, 4, 13, 4, 13, 5]</td>\n",
              "    </tr>\n",
              "    <tr>\n",
              "      <th>...</th>\n",
              "      <td>...</td>\n",
              "      <td>...</td>\n",
              "      <td>...</td>\n",
              "    </tr>\n",
              "    <tr>\n",
              "      <th>294248</th>\n",
              "      <td>ёмиури</td>\n",
              "      <td>[ё, м, и, у, р, и]</td>\n",
              "      <td>[35, 13, 5, 16, 9, 5]</td>\n",
              "    </tr>\n",
              "    <tr>\n",
              "      <th>294249</th>\n",
              "      <td>ёфикаторами</td>\n",
              "      <td>[ё, ф, и, к, а, т, о, р, а, м, и]</td>\n",
              "      <td>[35, 32, 5, 15, 4, 11, 3, 9, 4, 13, 5]</td>\n",
              "    </tr>\n",
              "    <tr>\n",
              "      <th>294250</th>\n",
              "      <td>ёфикатору</td>\n",
              "      <td>[ё, ф, и, к, а, т, о, р, у]</td>\n",
              "      <td>[35, 32, 5, 15, 4, 11, 3, 9, 16]</td>\n",
              "    </tr>\n",
              "    <tr>\n",
              "      <th>294251</th>\n",
              "      <td>ёфикациями</td>\n",
              "      <td>[ё, ф, и, к, а, ц, и, я, м, и]</td>\n",
              "      <td>[35, 32, 5, 15, 4, 31, 5, 17, 13, 5]</td>\n",
              "    </tr>\n",
              "    <tr>\n",
              "      <th>294252</th>\n",
              "      <td>ёфикациях</td>\n",
              "      <td>[ё, ф, и, к, а, ц, и, я, х]</td>\n",
              "      <td>[35, 32, 5, 15, 4, 31, 5, 17, 29]</td>\n",
              "    </tr>\n",
              "  </tbody>\n",
              "</table>\n",
              "<p>294253 rows × 3 columns</p>\n",
              "</div>\n",
              "    <div class=\"colab-df-buttons\">\n",
              "\n",
              "  <div class=\"colab-df-container\">\n",
              "    <button class=\"colab-df-convert\" onclick=\"convertToInteractive('df-690c688b-e476-4941-bac3-30903fe5a4d1')\"\n",
              "            title=\"Convert this dataframe to an interactive table.\"\n",
              "            style=\"display:none;\">\n",
              "\n",
              "  <svg xmlns=\"http://www.w3.org/2000/svg\" height=\"24px\" viewBox=\"0 -960 960 960\">\n",
              "    <path d=\"M120-120v-720h720v720H120Zm60-500h600v-160H180v160Zm220 220h160v-160H400v160Zm0 220h160v-160H400v160ZM180-400h160v-160H180v160Zm440 0h160v-160H620v160ZM180-180h160v-160H180v160Zm440 0h160v-160H620v160Z\"/>\n",
              "  </svg>\n",
              "    </button>\n",
              "\n",
              "  <style>\n",
              "    .colab-df-container {\n",
              "      display:flex;\n",
              "      gap: 12px;\n",
              "    }\n",
              "\n",
              "    .colab-df-convert {\n",
              "      background-color: #E8F0FE;\n",
              "      border: none;\n",
              "      border-radius: 50%;\n",
              "      cursor: pointer;\n",
              "      display: none;\n",
              "      fill: #1967D2;\n",
              "      height: 32px;\n",
              "      padding: 0 0 0 0;\n",
              "      width: 32px;\n",
              "    }\n",
              "\n",
              "    .colab-df-convert:hover {\n",
              "      background-color: #E2EBFA;\n",
              "      box-shadow: 0px 1px 2px rgba(60, 64, 67, 0.3), 0px 1px 3px 1px rgba(60, 64, 67, 0.15);\n",
              "      fill: #174EA6;\n",
              "    }\n",
              "\n",
              "    .colab-df-buttons div {\n",
              "      margin-bottom: 4px;\n",
              "    }\n",
              "\n",
              "    [theme=dark] .colab-df-convert {\n",
              "      background-color: #3B4455;\n",
              "      fill: #D2E3FC;\n",
              "    }\n",
              "\n",
              "    [theme=dark] .colab-df-convert:hover {\n",
              "      background-color: #434B5C;\n",
              "      box-shadow: 0px 1px 3px 1px rgba(0, 0, 0, 0.15);\n",
              "      filter: drop-shadow(0px 1px 2px rgba(0, 0, 0, 0.3));\n",
              "      fill: #FFFFFF;\n",
              "    }\n",
              "  </style>\n",
              "\n",
              "    <script>\n",
              "      const buttonEl =\n",
              "        document.querySelector('#df-690c688b-e476-4941-bac3-30903fe5a4d1 button.colab-df-convert');\n",
              "      buttonEl.style.display =\n",
              "        google.colab.kernel.accessAllowed ? 'block' : 'none';\n",
              "\n",
              "      async function convertToInteractive(key) {\n",
              "        const element = document.querySelector('#df-690c688b-e476-4941-bac3-30903fe5a4d1');\n",
              "        const dataTable =\n",
              "          await google.colab.kernel.invokeFunction('convertToInteractive',\n",
              "                                                    [key], {});\n",
              "        if (!dataTable) return;\n",
              "\n",
              "        const docLinkHtml = 'Like what you see? Visit the ' +\n",
              "          '<a target=\"_blank\" href=https://colab.research.google.com/notebooks/data_table.ipynb>data table notebook</a>'\n",
              "          + ' to learn more about interactive tables.';\n",
              "        element.innerHTML = '';\n",
              "        dataTable['output_type'] = 'display_data';\n",
              "        await google.colab.output.renderOutput(dataTable, element);\n",
              "        const docLink = document.createElement('div');\n",
              "        docLink.innerHTML = docLinkHtml;\n",
              "        element.appendChild(docLink);\n",
              "      }\n",
              "    </script>\n",
              "  </div>\n",
              "\n",
              "\n",
              "<div id=\"df-7b94bf0a-4006-493f-b6d2-0622fed39162\">\n",
              "  <button class=\"colab-df-quickchart\" onclick=\"quickchart('df-7b94bf0a-4006-493f-b6d2-0622fed39162')\"\n",
              "            title=\"Suggest charts.\"\n",
              "            style=\"display:none;\">\n",
              "\n",
              "<svg xmlns=\"http://www.w3.org/2000/svg\" height=\"24px\"viewBox=\"0 0 24 24\"\n",
              "     width=\"24px\">\n",
              "    <g>\n",
              "        <path d=\"M19 3H5c-1.1 0-2 .9-2 2v14c0 1.1.9 2 2 2h14c1.1 0 2-.9 2-2V5c0-1.1-.9-2-2-2zM9 17H7v-7h2v7zm4 0h-2V7h2v10zm4 0h-2v-4h2v4z\"/>\n",
              "    </g>\n",
              "</svg>\n",
              "  </button>\n",
              "\n",
              "<style>\n",
              "  .colab-df-quickchart {\n",
              "      --bg-color: #E8F0FE;\n",
              "      --fill-color: #1967D2;\n",
              "      --hover-bg-color: #E2EBFA;\n",
              "      --hover-fill-color: #174EA6;\n",
              "      --disabled-fill-color: #AAA;\n",
              "      --disabled-bg-color: #DDD;\n",
              "  }\n",
              "\n",
              "  [theme=dark] .colab-df-quickchart {\n",
              "      --bg-color: #3B4455;\n",
              "      --fill-color: #D2E3FC;\n",
              "      --hover-bg-color: #434B5C;\n",
              "      --hover-fill-color: #FFFFFF;\n",
              "      --disabled-bg-color: #3B4455;\n",
              "      --disabled-fill-color: #666;\n",
              "  }\n",
              "\n",
              "  .colab-df-quickchart {\n",
              "    background-color: var(--bg-color);\n",
              "    border: none;\n",
              "    border-radius: 50%;\n",
              "    cursor: pointer;\n",
              "    display: none;\n",
              "    fill: var(--fill-color);\n",
              "    height: 32px;\n",
              "    padding: 0;\n",
              "    width: 32px;\n",
              "  }\n",
              "\n",
              "  .colab-df-quickchart:hover {\n",
              "    background-color: var(--hover-bg-color);\n",
              "    box-shadow: 0 1px 2px rgba(60, 64, 67, 0.3), 0 1px 3px 1px rgba(60, 64, 67, 0.15);\n",
              "    fill: var(--button-hover-fill-color);\n",
              "  }\n",
              "\n",
              "  .colab-df-quickchart-complete:disabled,\n",
              "  .colab-df-quickchart-complete:disabled:hover {\n",
              "    background-color: var(--disabled-bg-color);\n",
              "    fill: var(--disabled-fill-color);\n",
              "    box-shadow: none;\n",
              "  }\n",
              "\n",
              "  .colab-df-spinner {\n",
              "    border: 2px solid var(--fill-color);\n",
              "    border-color: transparent;\n",
              "    border-bottom-color: var(--fill-color);\n",
              "    animation:\n",
              "      spin 1s steps(1) infinite;\n",
              "  }\n",
              "\n",
              "  @keyframes spin {\n",
              "    0% {\n",
              "      border-color: transparent;\n",
              "      border-bottom-color: var(--fill-color);\n",
              "      border-left-color: var(--fill-color);\n",
              "    }\n",
              "    20% {\n",
              "      border-color: transparent;\n",
              "      border-left-color: var(--fill-color);\n",
              "      border-top-color: var(--fill-color);\n",
              "    }\n",
              "    30% {\n",
              "      border-color: transparent;\n",
              "      border-left-color: var(--fill-color);\n",
              "      border-top-color: var(--fill-color);\n",
              "      border-right-color: var(--fill-color);\n",
              "    }\n",
              "    40% {\n",
              "      border-color: transparent;\n",
              "      border-right-color: var(--fill-color);\n",
              "      border-top-color: var(--fill-color);\n",
              "    }\n",
              "    60% {\n",
              "      border-color: transparent;\n",
              "      border-right-color: var(--fill-color);\n",
              "    }\n",
              "    80% {\n",
              "      border-color: transparent;\n",
              "      border-right-color: var(--fill-color);\n",
              "      border-bottom-color: var(--fill-color);\n",
              "    }\n",
              "    90% {\n",
              "      border-color: transparent;\n",
              "      border-bottom-color: var(--fill-color);\n",
              "    }\n",
              "  }\n",
              "</style>\n",
              "\n",
              "  <script>\n",
              "    async function quickchart(key) {\n",
              "      const quickchartButtonEl =\n",
              "        document.querySelector('#' + key + ' button');\n",
              "      quickchartButtonEl.disabled = true;  // To prevent multiple clicks.\n",
              "      quickchartButtonEl.classList.add('colab-df-spinner');\n",
              "      try {\n",
              "        const charts = await google.colab.kernel.invokeFunction(\n",
              "            'suggestCharts', [key], {});\n",
              "      } catch (error) {\n",
              "        console.error('Error during call to suggestCharts:', error);\n",
              "      }\n",
              "      quickchartButtonEl.classList.remove('colab-df-spinner');\n",
              "      quickchartButtonEl.classList.add('colab-df-quickchart-complete');\n",
              "    }\n",
              "    (() => {\n",
              "      let quickchartButtonEl =\n",
              "        document.querySelector('#df-7b94bf0a-4006-493f-b6d2-0622fed39162 button');\n",
              "      quickchartButtonEl.style.display =\n",
              "        google.colab.kernel.accessAllowed ? 'block' : 'none';\n",
              "    })();\n",
              "  </script>\n",
              "</div>\n",
              "    </div>\n",
              "  </div>\n"
            ]
          },
          "metadata": {},
          "execution_count": 74
        }
      ],
      "source": [
        "test"
      ]
    },
    {
      "cell_type": "code",
      "execution_count": 75,
      "metadata": {
        "id": "uU_MAvJ7EiHK"
      },
      "outputs": [],
      "source": [
        "test['Векторы слов'] = test.apply(lambda row: vectorize(row['Коды слов'],max), axis=1)"
      ]
    },
    {
      "cell_type": "code",
      "source": [
        "test"
      ],
      "metadata": {
        "colab": {
          "base_uri": "https://localhost:8080/",
          "height": 424
        },
        "id": "Oe-0UKXaE-m0",
        "outputId": "39751f64-f969-4f3a-ef00-95b1ce7f1268"
      },
      "execution_count": 76,
      "outputs": [
        {
          "output_type": "execute_result",
          "data": {
            "text/plain": [
              "              Слова                        Токены слов  \\\n",
              "0             аакам                    [а, а, к, а, м]   \n",
              "1            ааками                 [а, а, к, а, м, и]   \n",
              "2           ааленец              [а, а, л, е, н, е, ц]   \n",
              "3              аама                       [а, а, м, а]   \n",
              "4            аамами                 [а, а, м, а, м, и]   \n",
              "...             ...                                ...   \n",
              "294248       ёмиури                 [ё, м, и, у, р, и]   \n",
              "294249  ёфикаторами  [ё, ф, и, к, а, т, о, р, а, м, и]   \n",
              "294250    ёфикатору        [ё, ф, и, к, а, т, о, р, у]   \n",
              "294251   ёфикациями     [ё, ф, и, к, а, ц, и, я, м, и]   \n",
              "294252    ёфикациях        [ё, ф, и, к, а, ц, и, я, х]   \n",
              "\n",
              "                                     Коды слов  \\\n",
              "0                            [4, 4, 15, 4, 13]   \n",
              "1                         [4, 4, 15, 4, 13, 5]   \n",
              "2                      [4, 4, 12, 6, 8, 6, 31]   \n",
              "3                                [4, 4, 13, 4]   \n",
              "4                         [4, 4, 13, 4, 13, 5]   \n",
              "...                                        ...   \n",
              "294248                   [35, 13, 5, 16, 9, 5]   \n",
              "294249  [35, 32, 5, 15, 4, 11, 3, 9, 4, 13, 5]   \n",
              "294250        [35, 32, 5, 15, 4, 11, 3, 9, 16]   \n",
              "294251    [35, 32, 5, 15, 4, 31, 5, 17, 13, 5]   \n",
              "294252       [35, 32, 5, 15, 4, 31, 5, 17, 29]   \n",
              "\n",
              "                                             Векторы слов  \n",
              "0       [4, 4, 15, 4, 13, 0, 0, 0, 0, 0, 0, 0, 0, 0, 0...  \n",
              "1       [4, 4, 15, 4, 13, 5, 0, 0, 0, 0, 0, 0, 0, 0, 0...  \n",
              "2       [4, 4, 12, 6, 8, 6, 31, 0, 0, 0, 0, 0, 0, 0, 0...  \n",
              "3       [4, 4, 13, 4, 0, 0, 0, 0, 0, 0, 0, 0, 0, 0, 0,...  \n",
              "4       [4, 4, 13, 4, 13, 5, 0, 0, 0, 0, 0, 0, 0, 0, 0...  \n",
              "...                                                   ...  \n",
              "294248  [35, 13, 5, 16, 9, 5, 0, 0, 0, 0, 0, 0, 0, 0, ...  \n",
              "294249  [35, 32, 5, 15, 4, 11, 3, 9, 4, 13, 5, 0, 0, 0...  \n",
              "294250  [35, 32, 5, 15, 4, 11, 3, 9, 16, 0, 0, 0, 0, 0...  \n",
              "294251  [35, 32, 5, 15, 4, 31, 5, 17, 13, 5, 0, 0, 0, ...  \n",
              "294252  [35, 32, 5, 15, 4, 31, 5, 17, 29, 0, 0, 0, 0, ...  \n",
              "\n",
              "[294253 rows x 4 columns]"
            ],
            "text/html": [
              "\n",
              "  <div id=\"df-11b1e507-fbcb-4623-96d5-9c54785ac16a\" class=\"colab-df-container\">\n",
              "    <div>\n",
              "<style scoped>\n",
              "    .dataframe tbody tr th:only-of-type {\n",
              "        vertical-align: middle;\n",
              "    }\n",
              "\n",
              "    .dataframe tbody tr th {\n",
              "        vertical-align: top;\n",
              "    }\n",
              "\n",
              "    .dataframe thead th {\n",
              "        text-align: right;\n",
              "    }\n",
              "</style>\n",
              "<table border=\"1\" class=\"dataframe\">\n",
              "  <thead>\n",
              "    <tr style=\"text-align: right;\">\n",
              "      <th></th>\n",
              "      <th>Слова</th>\n",
              "      <th>Токены слов</th>\n",
              "      <th>Коды слов</th>\n",
              "      <th>Векторы слов</th>\n",
              "    </tr>\n",
              "  </thead>\n",
              "  <tbody>\n",
              "    <tr>\n",
              "      <th>0</th>\n",
              "      <td>аакам</td>\n",
              "      <td>[а, а, к, а, м]</td>\n",
              "      <td>[4, 4, 15, 4, 13]</td>\n",
              "      <td>[4, 4, 15, 4, 13, 0, 0, 0, 0, 0, 0, 0, 0, 0, 0...</td>\n",
              "    </tr>\n",
              "    <tr>\n",
              "      <th>1</th>\n",
              "      <td>ааками</td>\n",
              "      <td>[а, а, к, а, м, и]</td>\n",
              "      <td>[4, 4, 15, 4, 13, 5]</td>\n",
              "      <td>[4, 4, 15, 4, 13, 5, 0, 0, 0, 0, 0, 0, 0, 0, 0...</td>\n",
              "    </tr>\n",
              "    <tr>\n",
              "      <th>2</th>\n",
              "      <td>ааленец</td>\n",
              "      <td>[а, а, л, е, н, е, ц]</td>\n",
              "      <td>[4, 4, 12, 6, 8, 6, 31]</td>\n",
              "      <td>[4, 4, 12, 6, 8, 6, 31, 0, 0, 0, 0, 0, 0, 0, 0...</td>\n",
              "    </tr>\n",
              "    <tr>\n",
              "      <th>3</th>\n",
              "      <td>аама</td>\n",
              "      <td>[а, а, м, а]</td>\n",
              "      <td>[4, 4, 13, 4]</td>\n",
              "      <td>[4, 4, 13, 4, 0, 0, 0, 0, 0, 0, 0, 0, 0, 0, 0,...</td>\n",
              "    </tr>\n",
              "    <tr>\n",
              "      <th>4</th>\n",
              "      <td>аамами</td>\n",
              "      <td>[а, а, м, а, м, и]</td>\n",
              "      <td>[4, 4, 13, 4, 13, 5]</td>\n",
              "      <td>[4, 4, 13, 4, 13, 5, 0, 0, 0, 0, 0, 0, 0, 0, 0...</td>\n",
              "    </tr>\n",
              "    <tr>\n",
              "      <th>...</th>\n",
              "      <td>...</td>\n",
              "      <td>...</td>\n",
              "      <td>...</td>\n",
              "      <td>...</td>\n",
              "    </tr>\n",
              "    <tr>\n",
              "      <th>294248</th>\n",
              "      <td>ёмиури</td>\n",
              "      <td>[ё, м, и, у, р, и]</td>\n",
              "      <td>[35, 13, 5, 16, 9, 5]</td>\n",
              "      <td>[35, 13, 5, 16, 9, 5, 0, 0, 0, 0, 0, 0, 0, 0, ...</td>\n",
              "    </tr>\n",
              "    <tr>\n",
              "      <th>294249</th>\n",
              "      <td>ёфикаторами</td>\n",
              "      <td>[ё, ф, и, к, а, т, о, р, а, м, и]</td>\n",
              "      <td>[35, 32, 5, 15, 4, 11, 3, 9, 4, 13, 5]</td>\n",
              "      <td>[35, 32, 5, 15, 4, 11, 3, 9, 4, 13, 5, 0, 0, 0...</td>\n",
              "    </tr>\n",
              "    <tr>\n",
              "      <th>294250</th>\n",
              "      <td>ёфикатору</td>\n",
              "      <td>[ё, ф, и, к, а, т, о, р, у]</td>\n",
              "      <td>[35, 32, 5, 15, 4, 11, 3, 9, 16]</td>\n",
              "      <td>[35, 32, 5, 15, 4, 11, 3, 9, 16, 0, 0, 0, 0, 0...</td>\n",
              "    </tr>\n",
              "    <tr>\n",
              "      <th>294251</th>\n",
              "      <td>ёфикациями</td>\n",
              "      <td>[ё, ф, и, к, а, ц, и, я, м, и]</td>\n",
              "      <td>[35, 32, 5, 15, 4, 31, 5, 17, 13, 5]</td>\n",
              "      <td>[35, 32, 5, 15, 4, 31, 5, 17, 13, 5, 0, 0, 0, ...</td>\n",
              "    </tr>\n",
              "    <tr>\n",
              "      <th>294252</th>\n",
              "      <td>ёфикациях</td>\n",
              "      <td>[ё, ф, и, к, а, ц, и, я, х]</td>\n",
              "      <td>[35, 32, 5, 15, 4, 31, 5, 17, 29]</td>\n",
              "      <td>[35, 32, 5, 15, 4, 31, 5, 17, 29, 0, 0, 0, 0, ...</td>\n",
              "    </tr>\n",
              "  </tbody>\n",
              "</table>\n",
              "<p>294253 rows × 4 columns</p>\n",
              "</div>\n",
              "    <div class=\"colab-df-buttons\">\n",
              "\n",
              "  <div class=\"colab-df-container\">\n",
              "    <button class=\"colab-df-convert\" onclick=\"convertToInteractive('df-11b1e507-fbcb-4623-96d5-9c54785ac16a')\"\n",
              "            title=\"Convert this dataframe to an interactive table.\"\n",
              "            style=\"display:none;\">\n",
              "\n",
              "  <svg xmlns=\"http://www.w3.org/2000/svg\" height=\"24px\" viewBox=\"0 -960 960 960\">\n",
              "    <path d=\"M120-120v-720h720v720H120Zm60-500h600v-160H180v160Zm220 220h160v-160H400v160Zm0 220h160v-160H400v160ZM180-400h160v-160H180v160Zm440 0h160v-160H620v160ZM180-180h160v-160H180v160Zm440 0h160v-160H620v160Z\"/>\n",
              "  </svg>\n",
              "    </button>\n",
              "\n",
              "  <style>\n",
              "    .colab-df-container {\n",
              "      display:flex;\n",
              "      gap: 12px;\n",
              "    }\n",
              "\n",
              "    .colab-df-convert {\n",
              "      background-color: #E8F0FE;\n",
              "      border: none;\n",
              "      border-radius: 50%;\n",
              "      cursor: pointer;\n",
              "      display: none;\n",
              "      fill: #1967D2;\n",
              "      height: 32px;\n",
              "      padding: 0 0 0 0;\n",
              "      width: 32px;\n",
              "    }\n",
              "\n",
              "    .colab-df-convert:hover {\n",
              "      background-color: #E2EBFA;\n",
              "      box-shadow: 0px 1px 2px rgba(60, 64, 67, 0.3), 0px 1px 3px 1px rgba(60, 64, 67, 0.15);\n",
              "      fill: #174EA6;\n",
              "    }\n",
              "\n",
              "    .colab-df-buttons div {\n",
              "      margin-bottom: 4px;\n",
              "    }\n",
              "\n",
              "    [theme=dark] .colab-df-convert {\n",
              "      background-color: #3B4455;\n",
              "      fill: #D2E3FC;\n",
              "    }\n",
              "\n",
              "    [theme=dark] .colab-df-convert:hover {\n",
              "      background-color: #434B5C;\n",
              "      box-shadow: 0px 1px 3px 1px rgba(0, 0, 0, 0.15);\n",
              "      filter: drop-shadow(0px 1px 2px rgba(0, 0, 0, 0.3));\n",
              "      fill: #FFFFFF;\n",
              "    }\n",
              "  </style>\n",
              "\n",
              "    <script>\n",
              "      const buttonEl =\n",
              "        document.querySelector('#df-11b1e507-fbcb-4623-96d5-9c54785ac16a button.colab-df-convert');\n",
              "      buttonEl.style.display =\n",
              "        google.colab.kernel.accessAllowed ? 'block' : 'none';\n",
              "\n",
              "      async function convertToInteractive(key) {\n",
              "        const element = document.querySelector('#df-11b1e507-fbcb-4623-96d5-9c54785ac16a');\n",
              "        const dataTable =\n",
              "          await google.colab.kernel.invokeFunction('convertToInteractive',\n",
              "                                                    [key], {});\n",
              "        if (!dataTable) return;\n",
              "\n",
              "        const docLinkHtml = 'Like what you see? Visit the ' +\n",
              "          '<a target=\"_blank\" href=https://colab.research.google.com/notebooks/data_table.ipynb>data table notebook</a>'\n",
              "          + ' to learn more about interactive tables.';\n",
              "        element.innerHTML = '';\n",
              "        dataTable['output_type'] = 'display_data';\n",
              "        await google.colab.output.renderOutput(dataTable, element);\n",
              "        const docLink = document.createElement('div');\n",
              "        docLink.innerHTML = docLinkHtml;\n",
              "        element.appendChild(docLink);\n",
              "      }\n",
              "    </script>\n",
              "  </div>\n",
              "\n",
              "\n",
              "<div id=\"df-65e2492c-edf0-41aa-a5a4-9f3222016610\">\n",
              "  <button class=\"colab-df-quickchart\" onclick=\"quickchart('df-65e2492c-edf0-41aa-a5a4-9f3222016610')\"\n",
              "            title=\"Suggest charts.\"\n",
              "            style=\"display:none;\">\n",
              "\n",
              "<svg xmlns=\"http://www.w3.org/2000/svg\" height=\"24px\"viewBox=\"0 0 24 24\"\n",
              "     width=\"24px\">\n",
              "    <g>\n",
              "        <path d=\"M19 3H5c-1.1 0-2 .9-2 2v14c0 1.1.9 2 2 2h14c1.1 0 2-.9 2-2V5c0-1.1-.9-2-2-2zM9 17H7v-7h2v7zm4 0h-2V7h2v10zm4 0h-2v-4h2v4z\"/>\n",
              "    </g>\n",
              "</svg>\n",
              "  </button>\n",
              "\n",
              "<style>\n",
              "  .colab-df-quickchart {\n",
              "      --bg-color: #E8F0FE;\n",
              "      --fill-color: #1967D2;\n",
              "      --hover-bg-color: #E2EBFA;\n",
              "      --hover-fill-color: #174EA6;\n",
              "      --disabled-fill-color: #AAA;\n",
              "      --disabled-bg-color: #DDD;\n",
              "  }\n",
              "\n",
              "  [theme=dark] .colab-df-quickchart {\n",
              "      --bg-color: #3B4455;\n",
              "      --fill-color: #D2E3FC;\n",
              "      --hover-bg-color: #434B5C;\n",
              "      --hover-fill-color: #FFFFFF;\n",
              "      --disabled-bg-color: #3B4455;\n",
              "      --disabled-fill-color: #666;\n",
              "  }\n",
              "\n",
              "  .colab-df-quickchart {\n",
              "    background-color: var(--bg-color);\n",
              "    border: none;\n",
              "    border-radius: 50%;\n",
              "    cursor: pointer;\n",
              "    display: none;\n",
              "    fill: var(--fill-color);\n",
              "    height: 32px;\n",
              "    padding: 0;\n",
              "    width: 32px;\n",
              "  }\n",
              "\n",
              "  .colab-df-quickchart:hover {\n",
              "    background-color: var(--hover-bg-color);\n",
              "    box-shadow: 0 1px 2px rgba(60, 64, 67, 0.3), 0 1px 3px 1px rgba(60, 64, 67, 0.15);\n",
              "    fill: var(--button-hover-fill-color);\n",
              "  }\n",
              "\n",
              "  .colab-df-quickchart-complete:disabled,\n",
              "  .colab-df-quickchart-complete:disabled:hover {\n",
              "    background-color: var(--disabled-bg-color);\n",
              "    fill: var(--disabled-fill-color);\n",
              "    box-shadow: none;\n",
              "  }\n",
              "\n",
              "  .colab-df-spinner {\n",
              "    border: 2px solid var(--fill-color);\n",
              "    border-color: transparent;\n",
              "    border-bottom-color: var(--fill-color);\n",
              "    animation:\n",
              "      spin 1s steps(1) infinite;\n",
              "  }\n",
              "\n",
              "  @keyframes spin {\n",
              "    0% {\n",
              "      border-color: transparent;\n",
              "      border-bottom-color: var(--fill-color);\n",
              "      border-left-color: var(--fill-color);\n",
              "    }\n",
              "    20% {\n",
              "      border-color: transparent;\n",
              "      border-left-color: var(--fill-color);\n",
              "      border-top-color: var(--fill-color);\n",
              "    }\n",
              "    30% {\n",
              "      border-color: transparent;\n",
              "      border-left-color: var(--fill-color);\n",
              "      border-top-color: var(--fill-color);\n",
              "      border-right-color: var(--fill-color);\n",
              "    }\n",
              "    40% {\n",
              "      border-color: transparent;\n",
              "      border-right-color: var(--fill-color);\n",
              "      border-top-color: var(--fill-color);\n",
              "    }\n",
              "    60% {\n",
              "      border-color: transparent;\n",
              "      border-right-color: var(--fill-color);\n",
              "    }\n",
              "    80% {\n",
              "      border-color: transparent;\n",
              "      border-right-color: var(--fill-color);\n",
              "      border-bottom-color: var(--fill-color);\n",
              "    }\n",
              "    90% {\n",
              "      border-color: transparent;\n",
              "      border-bottom-color: var(--fill-color);\n",
              "    }\n",
              "  }\n",
              "</style>\n",
              "\n",
              "  <script>\n",
              "    async function quickchart(key) {\n",
              "      const quickchartButtonEl =\n",
              "        document.querySelector('#' + key + ' button');\n",
              "      quickchartButtonEl.disabled = true;  // To prevent multiple clicks.\n",
              "      quickchartButtonEl.classList.add('colab-df-spinner');\n",
              "      try {\n",
              "        const charts = await google.colab.kernel.invokeFunction(\n",
              "            'suggestCharts', [key], {});\n",
              "      } catch (error) {\n",
              "        console.error('Error during call to suggestCharts:', error);\n",
              "      }\n",
              "      quickchartButtonEl.classList.remove('colab-df-spinner');\n",
              "      quickchartButtonEl.classList.add('colab-df-quickchart-complete');\n",
              "    }\n",
              "    (() => {\n",
              "      let quickchartButtonEl =\n",
              "        document.querySelector('#df-65e2492c-edf0-41aa-a5a4-9f3222016610 button');\n",
              "      quickchartButtonEl.style.display =\n",
              "        google.colab.kernel.accessAllowed ? 'block' : 'none';\n",
              "    })();\n",
              "  </script>\n",
              "</div>\n",
              "    </div>\n",
              "  </div>\n"
            ]
          },
          "metadata": {},
          "execution_count": 76
        }
      ]
    },
    {
      "cell_type": "code",
      "source": [
        "new_arr = np.stack(np.array(test['Векторы слов']), axis=0 )"
      ],
      "metadata": {
        "id": "HdEYMA-wFRj2"
      },
      "execution_count": 77,
      "outputs": []
    },
    {
      "cell_type": "code",
      "source": [
        "new_arr"
      ],
      "metadata": {
        "colab": {
          "base_uri": "https://localhost:8080/"
        },
        "outputId": "5eecbb3a-391c-484f-ee51-212951c897bd",
        "id": "grkpOSzEFRj2"
      },
      "execution_count": 78,
      "outputs": [
        {
          "output_type": "execute_result",
          "data": {
            "text/plain": [
              "array([[ 4,  4, 15, ...,  0,  0,  0],\n",
              "       [ 4,  4, 15, ...,  0,  0,  0],\n",
              "       [ 4,  4, 12, ...,  0,  0,  0],\n",
              "       ...,\n",
              "       [35, 32,  5, ...,  0,  0,  0],\n",
              "       [35, 32,  5, ...,  0,  0,  0],\n",
              "       [35, 32,  5, ...,  0,  0,  0]])"
            ]
          },
          "metadata": {},
          "execution_count": 78
        }
      ]
    },
    {
      "cell_type": "markdown",
      "source": [
        "## Предсказание моделью DecisionTreeClassifier"
      ],
      "metadata": {
        "id": "G9rMSrdDx6EI"
      }
    },
    {
      "cell_type": "code",
      "execution_count": 79,
      "metadata": {
        "id": "jtKNJu9Mx3dR"
      },
      "outputs": [],
      "source": [
        "X_testDF = new_arr"
      ]
    },
    {
      "cell_type": "code",
      "source": [
        "y_pred = dt.predict(X_testDF)\n",
        "y_pred"
      ],
      "metadata": {
        "colab": {
          "base_uri": "https://localhost:8080/"
        },
        "id": "9wMbrEGbyMvC",
        "outputId": "d639dab7-f475-48be-fdf9-3405b33958a5"
      },
      "execution_count": 80,
      "outputs": [
        {
          "output_type": "execute_result",
          "data": {
            "text/plain": [
              "array([3, 3, 5, ..., 6, 6, 6])"
            ]
          },
          "metadata": {},
          "execution_count": 80
        }
      ]
    },
    {
      "cell_type": "code",
      "execution_count": 81,
      "metadata": {
        "colab": {
          "base_uri": "https://localhost:8080/"
        },
        "outputId": "2bc0f92f-90b0-4892-e053-06d161ed8a5b",
        "id": "OH6rkpyxx3dS"
      },
      "outputs": [
        {
          "output_type": "execute_result",
          "data": {
            "text/plain": [
              "3"
            ]
          },
          "metadata": {},
          "execution_count": 81
        }
      ],
      "source": [
        "y_pred[3]"
      ]
    },
    {
      "cell_type": "markdown",
      "source": [
        "## Выполняем расстановку ударений по предсказаниям"
      ],
      "metadata": {
        "id": "xOOQUnXayV1g"
      }
    },
    {
      "cell_type": "code",
      "execution_count": 82,
      "metadata": {
        "id": "nLwxvuVgEiHL"
      },
      "outputs": [],
      "source": [
        "test['Предсказания'] = y_pred.tolist()"
      ]
    },
    {
      "cell_type": "code",
      "execution_count": 83,
      "metadata": {
        "id": "KtBPvRu8EiHL"
      },
      "outputs": [],
      "source": [
        "def stress_put(word,index):\n",
        "  i = 0\n",
        "  for ch in word:\n",
        "    i +=1\n",
        "    if index>=len(word):\n",
        "      word = word + '^'\n",
        "      return word\n",
        "    elif i==index:\n",
        "      word = word[:index-1] + '^' + word[index-1:]\n",
        "  return word"
      ]
    },
    {
      "cell_type": "code",
      "execution_count": 84,
      "metadata": {
        "id": "2b77jUTmEiHL"
      },
      "outputs": [],
      "source": [
        "test['Ударения'] = test.apply(lambda row: stress_put(row['Слова'],row['Предсказания']), axis=1)"
      ]
    },
    {
      "cell_type": "code",
      "execution_count": 85,
      "metadata": {
        "colab": {
          "base_uri": "https://localhost:8080/",
          "height": 424
        },
        "outputId": "23bb1d73-51ad-42e9-934e-cdc3c7b44375",
        "id": "beJ2iDGvEiHL"
      },
      "outputs": [
        {
          "output_type": "execute_result",
          "data": {
            "text/plain": [
              "              Слова                        Токены слов  \\\n",
              "0             аакам                    [а, а, к, а, м]   \n",
              "1            ааками                 [а, а, к, а, м, и]   \n",
              "2           ааленец              [а, а, л, е, н, е, ц]   \n",
              "3              аама                       [а, а, м, а]   \n",
              "4            аамами                 [а, а, м, а, м, и]   \n",
              "...             ...                                ...   \n",
              "294248       ёмиури                 [ё, м, и, у, р, и]   \n",
              "294249  ёфикаторами  [ё, ф, и, к, а, т, о, р, а, м, и]   \n",
              "294250    ёфикатору        [ё, ф, и, к, а, т, о, р, у]   \n",
              "294251   ёфикациями     [ё, ф, и, к, а, ц, и, я, м, и]   \n",
              "294252    ёфикациях        [ё, ф, и, к, а, ц, и, я, х]   \n",
              "\n",
              "                                     Коды слов  \\\n",
              "0                            [4, 4, 15, 4, 13]   \n",
              "1                         [4, 4, 15, 4, 13, 5]   \n",
              "2                      [4, 4, 12, 6, 8, 6, 31]   \n",
              "3                                [4, 4, 13, 4]   \n",
              "4                         [4, 4, 13, 4, 13, 5]   \n",
              "...                                        ...   \n",
              "294248                   [35, 13, 5, 16, 9, 5]   \n",
              "294249  [35, 32, 5, 15, 4, 11, 3, 9, 4, 13, 5]   \n",
              "294250        [35, 32, 5, 15, 4, 11, 3, 9, 16]   \n",
              "294251    [35, 32, 5, 15, 4, 31, 5, 17, 13, 5]   \n",
              "294252       [35, 32, 5, 15, 4, 31, 5, 17, 29]   \n",
              "\n",
              "                                             Векторы слов  Предсказания  \\\n",
              "0       [4, 4, 15, 4, 13, 0, 0, 0, 0, 0, 0, 0, 0, 0, 0...             3   \n",
              "1       [4, 4, 15, 4, 13, 5, 0, 0, 0, 0, 0, 0, 0, 0, 0...             3   \n",
              "2       [4, 4, 12, 6, 8, 6, 31, 0, 0, 0, 0, 0, 0, 0, 0...             5   \n",
              "3       [4, 4, 13, 4, 0, 0, 0, 0, 0, 0, 0, 0, 0, 0, 0,...             3   \n",
              "4       [4, 4, 13, 4, 13, 5, 0, 0, 0, 0, 0, 0, 0, 0, 0...             3   \n",
              "...                                                   ...           ...   \n",
              "294248  [35, 13, 5, 16, 9, 5, 0, 0, 0, 0, 0, 0, 0, 0, ...             4   \n",
              "294249  [35, 32, 5, 15, 4, 11, 3, 9, 4, 13, 5, 0, 0, 0...             6   \n",
              "294250  [35, 32, 5, 15, 4, 11, 3, 9, 16, 0, 0, 0, 0, 0...             6   \n",
              "294251  [35, 32, 5, 15, 4, 31, 5, 17, 13, 5, 0, 0, 0, ...             6   \n",
              "294252  [35, 32, 5, 15, 4, 31, 5, 17, 29, 0, 0, 0, 0, ...             6   \n",
              "\n",
              "            Ударения  \n",
              "0             аа^кам  \n",
              "1            аа^ками  \n",
              "2           аале^нец  \n",
              "3              аа^ма  \n",
              "4            аа^мами  \n",
              "...              ...  \n",
              "294248       ёми^ури  \n",
              "294249  ёфика^торами  \n",
              "294250    ёфика^тору  \n",
              "294251   ёфика^циями  \n",
              "294252    ёфика^циях  \n",
              "\n",
              "[294253 rows x 6 columns]"
            ],
            "text/html": [
              "\n",
              "  <div id=\"df-75b10dcf-1de9-405b-9d91-310c4c7e5068\" class=\"colab-df-container\">\n",
              "    <div>\n",
              "<style scoped>\n",
              "    .dataframe tbody tr th:only-of-type {\n",
              "        vertical-align: middle;\n",
              "    }\n",
              "\n",
              "    .dataframe tbody tr th {\n",
              "        vertical-align: top;\n",
              "    }\n",
              "\n",
              "    .dataframe thead th {\n",
              "        text-align: right;\n",
              "    }\n",
              "</style>\n",
              "<table border=\"1\" class=\"dataframe\">\n",
              "  <thead>\n",
              "    <tr style=\"text-align: right;\">\n",
              "      <th></th>\n",
              "      <th>Слова</th>\n",
              "      <th>Токены слов</th>\n",
              "      <th>Коды слов</th>\n",
              "      <th>Векторы слов</th>\n",
              "      <th>Предсказания</th>\n",
              "      <th>Ударения</th>\n",
              "    </tr>\n",
              "  </thead>\n",
              "  <tbody>\n",
              "    <tr>\n",
              "      <th>0</th>\n",
              "      <td>аакам</td>\n",
              "      <td>[а, а, к, а, м]</td>\n",
              "      <td>[4, 4, 15, 4, 13]</td>\n",
              "      <td>[4, 4, 15, 4, 13, 0, 0, 0, 0, 0, 0, 0, 0, 0, 0...</td>\n",
              "      <td>3</td>\n",
              "      <td>аа^кам</td>\n",
              "    </tr>\n",
              "    <tr>\n",
              "      <th>1</th>\n",
              "      <td>ааками</td>\n",
              "      <td>[а, а, к, а, м, и]</td>\n",
              "      <td>[4, 4, 15, 4, 13, 5]</td>\n",
              "      <td>[4, 4, 15, 4, 13, 5, 0, 0, 0, 0, 0, 0, 0, 0, 0...</td>\n",
              "      <td>3</td>\n",
              "      <td>аа^ками</td>\n",
              "    </tr>\n",
              "    <tr>\n",
              "      <th>2</th>\n",
              "      <td>ааленец</td>\n",
              "      <td>[а, а, л, е, н, е, ц]</td>\n",
              "      <td>[4, 4, 12, 6, 8, 6, 31]</td>\n",
              "      <td>[4, 4, 12, 6, 8, 6, 31, 0, 0, 0, 0, 0, 0, 0, 0...</td>\n",
              "      <td>5</td>\n",
              "      <td>аале^нец</td>\n",
              "    </tr>\n",
              "    <tr>\n",
              "      <th>3</th>\n",
              "      <td>аама</td>\n",
              "      <td>[а, а, м, а]</td>\n",
              "      <td>[4, 4, 13, 4]</td>\n",
              "      <td>[4, 4, 13, 4, 0, 0, 0, 0, 0, 0, 0, 0, 0, 0, 0,...</td>\n",
              "      <td>3</td>\n",
              "      <td>аа^ма</td>\n",
              "    </tr>\n",
              "    <tr>\n",
              "      <th>4</th>\n",
              "      <td>аамами</td>\n",
              "      <td>[а, а, м, а, м, и]</td>\n",
              "      <td>[4, 4, 13, 4, 13, 5]</td>\n",
              "      <td>[4, 4, 13, 4, 13, 5, 0, 0, 0, 0, 0, 0, 0, 0, 0...</td>\n",
              "      <td>3</td>\n",
              "      <td>аа^мами</td>\n",
              "    </tr>\n",
              "    <tr>\n",
              "      <th>...</th>\n",
              "      <td>...</td>\n",
              "      <td>...</td>\n",
              "      <td>...</td>\n",
              "      <td>...</td>\n",
              "      <td>...</td>\n",
              "      <td>...</td>\n",
              "    </tr>\n",
              "    <tr>\n",
              "      <th>294248</th>\n",
              "      <td>ёмиури</td>\n",
              "      <td>[ё, м, и, у, р, и]</td>\n",
              "      <td>[35, 13, 5, 16, 9, 5]</td>\n",
              "      <td>[35, 13, 5, 16, 9, 5, 0, 0, 0, 0, 0, 0, 0, 0, ...</td>\n",
              "      <td>4</td>\n",
              "      <td>ёми^ури</td>\n",
              "    </tr>\n",
              "    <tr>\n",
              "      <th>294249</th>\n",
              "      <td>ёфикаторами</td>\n",
              "      <td>[ё, ф, и, к, а, т, о, р, а, м, и]</td>\n",
              "      <td>[35, 32, 5, 15, 4, 11, 3, 9, 4, 13, 5]</td>\n",
              "      <td>[35, 32, 5, 15, 4, 11, 3, 9, 4, 13, 5, 0, 0, 0...</td>\n",
              "      <td>6</td>\n",
              "      <td>ёфика^торами</td>\n",
              "    </tr>\n",
              "    <tr>\n",
              "      <th>294250</th>\n",
              "      <td>ёфикатору</td>\n",
              "      <td>[ё, ф, и, к, а, т, о, р, у]</td>\n",
              "      <td>[35, 32, 5, 15, 4, 11, 3, 9, 16]</td>\n",
              "      <td>[35, 32, 5, 15, 4, 11, 3, 9, 16, 0, 0, 0, 0, 0...</td>\n",
              "      <td>6</td>\n",
              "      <td>ёфика^тору</td>\n",
              "    </tr>\n",
              "    <tr>\n",
              "      <th>294251</th>\n",
              "      <td>ёфикациями</td>\n",
              "      <td>[ё, ф, и, к, а, ц, и, я, м, и]</td>\n",
              "      <td>[35, 32, 5, 15, 4, 31, 5, 17, 13, 5]</td>\n",
              "      <td>[35, 32, 5, 15, 4, 31, 5, 17, 13, 5, 0, 0, 0, ...</td>\n",
              "      <td>6</td>\n",
              "      <td>ёфика^циями</td>\n",
              "    </tr>\n",
              "    <tr>\n",
              "      <th>294252</th>\n",
              "      <td>ёфикациях</td>\n",
              "      <td>[ё, ф, и, к, а, ц, и, я, х]</td>\n",
              "      <td>[35, 32, 5, 15, 4, 31, 5, 17, 29]</td>\n",
              "      <td>[35, 32, 5, 15, 4, 31, 5, 17, 29, 0, 0, 0, 0, ...</td>\n",
              "      <td>6</td>\n",
              "      <td>ёфика^циях</td>\n",
              "    </tr>\n",
              "  </tbody>\n",
              "</table>\n",
              "<p>294253 rows × 6 columns</p>\n",
              "</div>\n",
              "    <div class=\"colab-df-buttons\">\n",
              "\n",
              "  <div class=\"colab-df-container\">\n",
              "    <button class=\"colab-df-convert\" onclick=\"convertToInteractive('df-75b10dcf-1de9-405b-9d91-310c4c7e5068')\"\n",
              "            title=\"Convert this dataframe to an interactive table.\"\n",
              "            style=\"display:none;\">\n",
              "\n",
              "  <svg xmlns=\"http://www.w3.org/2000/svg\" height=\"24px\" viewBox=\"0 -960 960 960\">\n",
              "    <path d=\"M120-120v-720h720v720H120Zm60-500h600v-160H180v160Zm220 220h160v-160H400v160Zm0 220h160v-160H400v160ZM180-400h160v-160H180v160Zm440 0h160v-160H620v160ZM180-180h160v-160H180v160Zm440 0h160v-160H620v160Z\"/>\n",
              "  </svg>\n",
              "    </button>\n",
              "\n",
              "  <style>\n",
              "    .colab-df-container {\n",
              "      display:flex;\n",
              "      gap: 12px;\n",
              "    }\n",
              "\n",
              "    .colab-df-convert {\n",
              "      background-color: #E8F0FE;\n",
              "      border: none;\n",
              "      border-radius: 50%;\n",
              "      cursor: pointer;\n",
              "      display: none;\n",
              "      fill: #1967D2;\n",
              "      height: 32px;\n",
              "      padding: 0 0 0 0;\n",
              "      width: 32px;\n",
              "    }\n",
              "\n",
              "    .colab-df-convert:hover {\n",
              "      background-color: #E2EBFA;\n",
              "      box-shadow: 0px 1px 2px rgba(60, 64, 67, 0.3), 0px 1px 3px 1px rgba(60, 64, 67, 0.15);\n",
              "      fill: #174EA6;\n",
              "    }\n",
              "\n",
              "    .colab-df-buttons div {\n",
              "      margin-bottom: 4px;\n",
              "    }\n",
              "\n",
              "    [theme=dark] .colab-df-convert {\n",
              "      background-color: #3B4455;\n",
              "      fill: #D2E3FC;\n",
              "    }\n",
              "\n",
              "    [theme=dark] .colab-df-convert:hover {\n",
              "      background-color: #434B5C;\n",
              "      box-shadow: 0px 1px 3px 1px rgba(0, 0, 0, 0.15);\n",
              "      filter: drop-shadow(0px 1px 2px rgba(0, 0, 0, 0.3));\n",
              "      fill: #FFFFFF;\n",
              "    }\n",
              "  </style>\n",
              "\n",
              "    <script>\n",
              "      const buttonEl =\n",
              "        document.querySelector('#df-75b10dcf-1de9-405b-9d91-310c4c7e5068 button.colab-df-convert');\n",
              "      buttonEl.style.display =\n",
              "        google.colab.kernel.accessAllowed ? 'block' : 'none';\n",
              "\n",
              "      async function convertToInteractive(key) {\n",
              "        const element = document.querySelector('#df-75b10dcf-1de9-405b-9d91-310c4c7e5068');\n",
              "        const dataTable =\n",
              "          await google.colab.kernel.invokeFunction('convertToInteractive',\n",
              "                                                    [key], {});\n",
              "        if (!dataTable) return;\n",
              "\n",
              "        const docLinkHtml = 'Like what you see? Visit the ' +\n",
              "          '<a target=\"_blank\" href=https://colab.research.google.com/notebooks/data_table.ipynb>data table notebook</a>'\n",
              "          + ' to learn more about interactive tables.';\n",
              "        element.innerHTML = '';\n",
              "        dataTable['output_type'] = 'display_data';\n",
              "        await google.colab.output.renderOutput(dataTable, element);\n",
              "        const docLink = document.createElement('div');\n",
              "        docLink.innerHTML = docLinkHtml;\n",
              "        element.appendChild(docLink);\n",
              "      }\n",
              "    </script>\n",
              "  </div>\n",
              "\n",
              "\n",
              "<div id=\"df-e3732fd2-7144-4eb7-904c-c3806766c095\">\n",
              "  <button class=\"colab-df-quickchart\" onclick=\"quickchart('df-e3732fd2-7144-4eb7-904c-c3806766c095')\"\n",
              "            title=\"Suggest charts.\"\n",
              "            style=\"display:none;\">\n",
              "\n",
              "<svg xmlns=\"http://www.w3.org/2000/svg\" height=\"24px\"viewBox=\"0 0 24 24\"\n",
              "     width=\"24px\">\n",
              "    <g>\n",
              "        <path d=\"M19 3H5c-1.1 0-2 .9-2 2v14c0 1.1.9 2 2 2h14c1.1 0 2-.9 2-2V5c0-1.1-.9-2-2-2zM9 17H7v-7h2v7zm4 0h-2V7h2v10zm4 0h-2v-4h2v4z\"/>\n",
              "    </g>\n",
              "</svg>\n",
              "  </button>\n",
              "\n",
              "<style>\n",
              "  .colab-df-quickchart {\n",
              "      --bg-color: #E8F0FE;\n",
              "      --fill-color: #1967D2;\n",
              "      --hover-bg-color: #E2EBFA;\n",
              "      --hover-fill-color: #174EA6;\n",
              "      --disabled-fill-color: #AAA;\n",
              "      --disabled-bg-color: #DDD;\n",
              "  }\n",
              "\n",
              "  [theme=dark] .colab-df-quickchart {\n",
              "      --bg-color: #3B4455;\n",
              "      --fill-color: #D2E3FC;\n",
              "      --hover-bg-color: #434B5C;\n",
              "      --hover-fill-color: #FFFFFF;\n",
              "      --disabled-bg-color: #3B4455;\n",
              "      --disabled-fill-color: #666;\n",
              "  }\n",
              "\n",
              "  .colab-df-quickchart {\n",
              "    background-color: var(--bg-color);\n",
              "    border: none;\n",
              "    border-radius: 50%;\n",
              "    cursor: pointer;\n",
              "    display: none;\n",
              "    fill: var(--fill-color);\n",
              "    height: 32px;\n",
              "    padding: 0;\n",
              "    width: 32px;\n",
              "  }\n",
              "\n",
              "  .colab-df-quickchart:hover {\n",
              "    background-color: var(--hover-bg-color);\n",
              "    box-shadow: 0 1px 2px rgba(60, 64, 67, 0.3), 0 1px 3px 1px rgba(60, 64, 67, 0.15);\n",
              "    fill: var(--button-hover-fill-color);\n",
              "  }\n",
              "\n",
              "  .colab-df-quickchart-complete:disabled,\n",
              "  .colab-df-quickchart-complete:disabled:hover {\n",
              "    background-color: var(--disabled-bg-color);\n",
              "    fill: var(--disabled-fill-color);\n",
              "    box-shadow: none;\n",
              "  }\n",
              "\n",
              "  .colab-df-spinner {\n",
              "    border: 2px solid var(--fill-color);\n",
              "    border-color: transparent;\n",
              "    border-bottom-color: var(--fill-color);\n",
              "    animation:\n",
              "      spin 1s steps(1) infinite;\n",
              "  }\n",
              "\n",
              "  @keyframes spin {\n",
              "    0% {\n",
              "      border-color: transparent;\n",
              "      border-bottom-color: var(--fill-color);\n",
              "      border-left-color: var(--fill-color);\n",
              "    }\n",
              "    20% {\n",
              "      border-color: transparent;\n",
              "      border-left-color: var(--fill-color);\n",
              "      border-top-color: var(--fill-color);\n",
              "    }\n",
              "    30% {\n",
              "      border-color: transparent;\n",
              "      border-left-color: var(--fill-color);\n",
              "      border-top-color: var(--fill-color);\n",
              "      border-right-color: var(--fill-color);\n",
              "    }\n",
              "    40% {\n",
              "      border-color: transparent;\n",
              "      border-right-color: var(--fill-color);\n",
              "      border-top-color: var(--fill-color);\n",
              "    }\n",
              "    60% {\n",
              "      border-color: transparent;\n",
              "      border-right-color: var(--fill-color);\n",
              "    }\n",
              "    80% {\n",
              "      border-color: transparent;\n",
              "      border-right-color: var(--fill-color);\n",
              "      border-bottom-color: var(--fill-color);\n",
              "    }\n",
              "    90% {\n",
              "      border-color: transparent;\n",
              "      border-bottom-color: var(--fill-color);\n",
              "    }\n",
              "  }\n",
              "</style>\n",
              "\n",
              "  <script>\n",
              "    async function quickchart(key) {\n",
              "      const quickchartButtonEl =\n",
              "        document.querySelector('#' + key + ' button');\n",
              "      quickchartButtonEl.disabled = true;  // To prevent multiple clicks.\n",
              "      quickchartButtonEl.classList.add('colab-df-spinner');\n",
              "      try {\n",
              "        const charts = await google.colab.kernel.invokeFunction(\n",
              "            'suggestCharts', [key], {});\n",
              "      } catch (error) {\n",
              "        console.error('Error during call to suggestCharts:', error);\n",
              "      }\n",
              "      quickchartButtonEl.classList.remove('colab-df-spinner');\n",
              "      quickchartButtonEl.classList.add('colab-df-quickchart-complete');\n",
              "    }\n",
              "    (() => {\n",
              "      let quickchartButtonEl =\n",
              "        document.querySelector('#df-e3732fd2-7144-4eb7-904c-c3806766c095 button');\n",
              "      quickchartButtonEl.style.display =\n",
              "        google.colab.kernel.accessAllowed ? 'block' : 'none';\n",
              "    })();\n",
              "  </script>\n",
              "</div>\n",
              "    </div>\n",
              "  </div>\n"
            ]
          },
          "metadata": {},
          "execution_count": 85
        }
      ],
      "source": [
        "test"
      ]
    },
    {
      "cell_type": "markdown",
      "source": [
        "## Сохраняем расставленные ударения в файл"
      ],
      "metadata": {
        "id": "GzP1zf3M1Ptr"
      }
    },
    {
      "cell_type": "code",
      "execution_count": 86,
      "metadata": {
        "colab": {
          "base_uri": "https://localhost:8080/"
        },
        "outputId": "7a649f5d-1ab0-4692-badc-e458fbd60502",
        "id": "YaU0ivMJEiHL"
      },
      "outputs": [
        {
          "output_type": "execute_result",
          "data": {
            "text/plain": [
              "0               аа^кам\n",
              "1              аа^ками\n",
              "2             аале^нец\n",
              "3                аа^ма\n",
              "4              аа^мами\n",
              "              ...     \n",
              "294248         ёми^ури\n",
              "294249    ёфика^торами\n",
              "294250      ёфика^тору\n",
              "294251     ёфика^циями\n",
              "294252      ёфика^циях\n",
              "Name: Ударения, Length: 294253, dtype: object"
            ]
          },
          "metadata": {},
          "execution_count": 86
        }
      ],
      "source": [
        "new_pred = test['Ударения'].copy()\n",
        "new_pred"
      ]
    },
    {
      "cell_type": "code",
      "execution_count": null,
      "metadata": {
        "id": "qyetx6q0EiHM"
      },
      "outputs": [],
      "source": [
        "# Если используется гугл диск\n",
        "# new_pred.to_csv('/content/gdrive/My Drive/Colab Notebooks/dataset_task_D/pred.txt',index=False, header=False)"
      ]
    },
    {
      "cell_type": "code",
      "execution_count": 87,
      "metadata": {
        "id": "6_1CkQnRWbtQ"
      },
      "outputs": [],
      "source": [
        "# Если сохранять локально\n",
        "new_pred.to_csv('public_pred.txt',index=False, header=False)"
      ]
    },
    {
      "cell_type": "markdown",
      "source": [
        "### Для закрытого датасета"
      ],
      "metadata": {
        "id": "76nAPv8TViYH"
      }
    },
    {
      "cell_type": "code",
      "execution_count": null,
      "metadata": {
        "id": "uJOhz-kPW8-_"
      },
      "outputs": [],
      "source": [
        "# Если используется гугл диск\n",
        "# new_pred.to_csv('/content/gdrive/My Drive/Colab Notebooks/dataset_task_D/pred_private.txt',index=False, header=False)"
      ]
    },
    {
      "cell_type": "code",
      "execution_count": null,
      "metadata": {
        "id": "gr-_ztSnW8_E"
      },
      "outputs": [],
      "source": [
        "# Если сохранять локально\n",
        "new_pred.to_csv('pred_private.txt',index=False, header=False)"
      ]
    }
  ],
  "metadata": {
    "colab": {
      "provenance": []
    },
    "kernelspec": {
      "display_name": "Python 3",
      "name": "python3"
    },
    "language_info": {
      "name": "python"
    }
  },
  "nbformat": 4,
  "nbformat_minor": 0
}